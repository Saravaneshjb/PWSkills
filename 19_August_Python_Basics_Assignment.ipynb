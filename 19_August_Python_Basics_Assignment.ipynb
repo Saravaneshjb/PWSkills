{
 "cells": [
  {
   "cell_type": "markdown",
   "id": "4a411e4a",
   "metadata": {},
   "source": [
    "## TOPIC: Python Basics Variable"
   ]
  },
  {
   "cell_type": "markdown",
   "id": "8869304b",
   "metadata": {},
   "source": [
    "1. Declare two variables, `x` and `y`, and assign them integer values. Swap the values of these variables without using any temporary variable."
   ]
  },
  {
   "cell_type": "code",
   "execution_count": 145,
   "id": "fa77ef6d",
   "metadata": {},
   "outputs": [
    {
     "name": "stdout",
     "output_type": "stream",
     "text": [
      "The values of x and y after swap is 25, 10\n"
     ]
    }
   ],
   "source": [
    "x=10\n",
    "y=25\n",
    "\n",
    "y,x=x,y\n",
    "\n",
    "print(f'The values of x and y after swap is {x}, {y}')"
   ]
  },
  {
   "cell_type": "markdown",
   "id": "3da462b1",
   "metadata": {},
   "source": [
    " 2. Create a program that calculates the area of a rectangle. Take the length and \n",
    "width as inputs from the user and store them in variables. Calculate and \n",
    "display the area."
   ]
  },
  {
   "cell_type": "code",
   "execution_count": 146,
   "id": "7e39ac9e",
   "metadata": {},
   "outputs": [
    {
     "name": "stdout",
     "output_type": "stream",
     "text": [
      "Calculate the Area of rectangle. Provide the length and width\n",
      "Enter the Length of Rectangle :10\n",
      "Enter the Width of Rectangle :20\n",
      "The area of the rectangle is : 200\n"
     ]
    }
   ],
   "source": [
    "print('Calculate the Area of rectangle. Provide the length and width')\n",
    "length=int(input('Enter the Length of Rectangle :'))\n",
    "width=int(input('Enter the Width of Rectangle :'))\n",
    "\n",
    "area=length*width\n",
    "print('The area of the rectangle is :', area)"
   ]
  },
  {
   "cell_type": "markdown",
   "id": "24c76c57",
   "metadata": {},
   "source": [
    "3. Write a Python program that converts temperatures from Celsius to \n",
    "Fahrenheit. Take the temperature in Celsius as input, store it in a variable, \n",
    "convert it to Fahrenheit, and display the result."
   ]
  },
  {
   "cell_type": "code",
   "execution_count": 149,
   "id": "dd71049c",
   "metadata": {},
   "outputs": [
    {
     "name": "stdout",
     "output_type": "stream",
     "text": [
      "Enter temperature in Celcius :20\n",
      "The temp in Farenheit : 68.0 F\n"
     ]
    }
   ],
   "source": [
    "temp_in_celcius=int(input('Enter temperature in Celcius :'))\n",
    "farenheit=(9/5 * temp_in_celcius) + 32\n",
    "print(f'The temp in Farenheit : {farenheit} F')"
   ]
  },
  {
   "cell_type": "markdown",
   "id": "7bcb92ac",
   "metadata": {},
   "source": [
    "## TOPIC: String Based Questions"
   ]
  },
  {
   "cell_type": "markdown",
   "id": "72641a59",
   "metadata": {},
   "source": [
    " 1. Write a Python program that takes a string as input and prints the length of \n",
    "the string."
   ]
  },
  {
   "cell_type": "code",
   "execution_count": 150,
   "id": "b18de3ae",
   "metadata": {},
   "outputs": [
    {
     "name": "stdout",
     "output_type": "stream",
     "text": [
      "Enter your string :Python is fun\n",
      "The length of the string is : 13\n"
     ]
    }
   ],
   "source": [
    "inp_str=input('Enter your string :')\n",
    "print('The length of the string is :',len(inp_str))"
   ]
  },
  {
   "cell_type": "markdown",
   "id": "7f405572",
   "metadata": {},
   "source": [
    "2. Create a program that takes a sentence from the user and counts the number \n",
    "of vowels (a, e, i, o, u) in the string"
   ]
  },
  {
   "cell_type": "code",
   "execution_count": 155,
   "id": "30a14cd5",
   "metadata": {},
   "outputs": [
    {
     "name": "stdout",
     "output_type": "stream",
     "text": [
      "Enter your string :Happy to learn Python\n",
      "Count of vowels in the given sentence \"happy to learn python\" is : 5\n"
     ]
    }
   ],
   "source": [
    "inp_str=input('Enter your string :')\n",
    "inp_str=inp_str.lower()\n",
    "count=0\n",
    "for alp in inp_str:\n",
    "    if alp in 'aeiou':\n",
    "        count=count+1\n",
    "    else:\n",
    "        pass\n",
    "\n",
    "print(f'Count of vowels in the given sentence \"{inp_str}\" is : {count}')"
   ]
  },
  {
   "cell_type": "markdown",
   "id": "373d43b1",
   "metadata": {},
   "source": [
    "3. Given a string, reverse the order of characters using string slicing and print \n",
    "the reversed string"
   ]
  },
  {
   "cell_type": "code",
   "execution_count": 157,
   "id": "80f6e8a6",
   "metadata": {},
   "outputs": [
    {
     "name": "stdout",
     "output_type": "stream",
     "text": [
      "Enter the input string :Python\n",
      "nohtyP\n"
     ]
    }
   ],
   "source": [
    "inp_str=input('Enter the input string :')\n",
    "reverse_str=inp_str[::-1]\n",
    "print(reverse_str)"
   ]
  },
  {
   "cell_type": "markdown",
   "id": "ab2f3715",
   "metadata": {},
   "source": [
    "4. Write a program that takes a string as input and checks if it is a palindrome \n",
    "(reads the same forwards and backwards)"
   ]
  },
  {
   "cell_type": "code",
   "execution_count": 158,
   "id": "aa35e5c8",
   "metadata": {},
   "outputs": [
    {
     "name": "stdout",
     "output_type": "stream",
     "text": [
      "Enter the input string :Malayalam\n",
      "The input string malayalam is a palindrome\n"
     ]
    }
   ],
   "source": [
    "inp_str=input('Enter the input string :')\n",
    "inp_str=inp_str.lower()\n",
    "reverse_str=inp_str[::-1]\n",
    "\n",
    "if inp_str==reverse_str:\n",
    "    print(f'The input string {inp_str} is a palindrome')\n",
    "else:\n",
    "    print(f'The input string {inp_str} is not a palidrome')"
   ]
  },
  {
   "cell_type": "code",
   "execution_count": 159,
   "id": "0fadb884",
   "metadata": {},
   "outputs": [
    {
     "name": "stdout",
     "output_type": "stream",
     "text": [
      "Enter the input string :python\n",
      "The input string python is not a palidrome\n"
     ]
    }
   ],
   "source": [
    "inp_str=input('Enter the input string :')\n",
    "inp_str=inp_str.lower()\n",
    "reverse_str=inp_str[::-1]\n",
    "\n",
    "if inp_str==reverse_str:\n",
    "    print(f'The input string {inp_str} is a palindrome')\n",
    "else:\n",
    "    print(f'The input string {inp_str} is not a palidrome')"
   ]
  },
  {
   "cell_type": "markdown",
   "id": "eb38affd",
   "metadata": {},
   "source": [
    "5. Create a program that takes a string as input and removes all the spaces from \n",
    "it. Print the modified string without spaces."
   ]
  },
  {
   "cell_type": "code",
   "execution_count": 163,
   "id": "1b20559d",
   "metadata": {},
   "outputs": [
    {
     "name": "stdout",
     "output_type": "stream",
     "text": [
      "Enter the input string :This Python assignment is fun.\n",
      "The input string is : This Python assignment is fun.\n",
      "The modified string is : ThisPythonassignmentisfun.\n"
     ]
    }
   ],
   "source": [
    "inp_str=input('Enter the input string :')\n",
    "print('The input string is :',inp_str)\n",
    "modified_str = inp_str.replace(\" \",\"\")\n",
    "\n",
    "print('The modified string is :',modified_str)"
   ]
  }
 ],
 "metadata": {
  "kernelspec": {
   "display_name": "Python 3 (ipykernel)",
   "language": "python",
   "name": "python3"
  },
  "language_info": {
   "codemirror_mode": {
    "name": "ipython",
    "version": 3
   },
   "file_extension": ".py",
   "mimetype": "text/x-python",
   "name": "python",
   "nbconvert_exporter": "python",
   "pygments_lexer": "ipython3",
   "version": "3.10.9"
  }
 },
 "nbformat": 4,
 "nbformat_minor": 5
}
