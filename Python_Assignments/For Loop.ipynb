{
 "cells": [
  {
   "cell_type": "markdown",
   "id": "cc62c447",
   "metadata": {},
   "source": [
    "## Basic Level"
   ]
  },
  {
   "cell_type": "markdown",
   "id": "2c6732a7",
   "metadata": {},
   "source": [
    "1. Write a Python program to print the numbers from 1 to 10 using a `for` loop. "
   ]
  },
  {
   "cell_type": "code",
   "execution_count": 1,
   "id": "54fa2cd3",
   "metadata": {},
   "outputs": [
    {
     "name": "stdout",
     "output_type": "stream",
     "text": [
      "1\n",
      "2\n",
      "3\n",
      "4\n",
      "5\n",
      "6\n",
      "7\n",
      "8\n",
      "9\n",
      "10\n"
     ]
    }
   ],
   "source": [
    "for num in range(1,11):\n",
    "    print(num)"
   ]
  },
  {
   "cell_type": "markdown",
   "id": "80b3878c",
   "metadata": {},
   "source": [
    "2. Create a program that calculates the sum of all numbers in a list using a `for` loop."
   ]
  },
  {
   "cell_type": "code",
   "execution_count": 2,
   "id": "f7ee8b43",
   "metadata": {},
   "outputs": [
    {
     "name": "stdout",
     "output_type": "stream",
     "text": [
      "The sum of numbers in the list [1, 2, 3, 4, 5] is : 15\n"
     ]
    }
   ],
   "source": [
    "inp_lst=[1,2,3,4,5]\n",
    "sum_of_num=0\n",
    "for num in inp_lst:\n",
    "    sum_of_num=sum_of_num+num\n",
    "print(f'The sum of numbers in the list {inp_lst} is : {sum_of_num}')"
   ]
  },
  {
   "cell_type": "markdown",
   "id": "9acaac6d",
   "metadata": {},
   "source": [
    "3. Write a program to print the characters of a string in reverse order using a `for` loop."
   ]
  },
  {
   "cell_type": "code",
   "execution_count": 24,
   "id": "1c9f889a",
   "metadata": {},
   "outputs": [
    {
     "name": "stdout",
     "output_type": "stream",
     "text": [
      "The characters of the string 'saravanesh' in reverse order is : hsenavaras\n"
     ]
    }
   ],
   "source": [
    "inp_str = 'saravanesh'\n",
    "reverse_lst=list()\n",
    "for chars in range(-1,-len(inp_str)-1,-1):\n",
    "    reverse_lst.append(inp_str[chars])\n",
    "\n",
    "print(f\"The characters of the string '{inp_str}' in reverse order is :\",''.join(reverse_lst))"
   ]
  },
  {
   "cell_type": "markdown",
   "id": "b69c97c1",
   "metadata": {},
   "source": [
    "4. Develop a program that finds the factorial of a given number using a `for` loop."
   ]
  },
  {
   "cell_type": "code",
   "execution_count": 30,
   "id": "964a77e8",
   "metadata": {},
   "outputs": [
    {
     "name": "stdout",
     "output_type": "stream",
     "text": [
      "Factorial of 7 is : 5040\n"
     ]
    }
   ],
   "source": [
    "factorial_val_of = 7\n",
    "factorial=1\n",
    "for i in range(1,factorial_val_of+1):\n",
    "    factorial=factorial*i\n",
    "\n",
    "print(f\"Factorial of {factorial_val_of} is : {factorial}\")"
   ]
  },
  {
   "cell_type": "markdown",
   "id": "d3c0718c",
   "metadata": {},
   "source": [
    "5. Create a program to print the multiplication table of a given number using a `for` loop."
   ]
  },
  {
   "cell_type": "code",
   "execution_count": 32,
   "id": "92bcfda2",
   "metadata": {},
   "outputs": [
    {
     "name": "stdout",
     "output_type": "stream",
     "text": [
      "Enter the number to print the multiplication table :9\n",
      "9 * 1 =  9\n",
      "9 * 2 =  18\n",
      "9 * 3 =  27\n",
      "9 * 4 =  36\n",
      "9 * 5 =  45\n",
      "9 * 6 =  54\n",
      "9 * 7 =  63\n",
      "9 * 8 =  72\n",
      "9 * 9 =  81\n",
      "9 * 10 =  90\n"
     ]
    }
   ],
   "source": [
    "multiplication_table=int(input('Enter the number to print the multiplication table :'))\n",
    "for i in range(1,11):\n",
    "    print(f'{multiplication_table} * {i} = ',multiplication_table*i)"
   ]
  },
  {
   "cell_type": "markdown",
   "id": "365d3523",
   "metadata": {},
   "source": [
    "6. Write a program that counts the number of even and odd numbers in a list using a `for` loop."
   ]
  },
  {
   "cell_type": "code",
   "execution_count": 34,
   "id": "e138c3f6",
   "metadata": {},
   "outputs": [
    {
     "name": "stdout",
     "output_type": "stream",
     "text": [
      "The number of even numbers & odd numbers in the given list [1, 2, 5, 9, 11, 23, 24, 78, 679] is : (3, 6)\n"
     ]
    }
   ],
   "source": [
    "inp_lst=[1,2,5,9,11,23,24,78,679]\n",
    "even_count=0\n",
    "odd_count=0\n",
    "for num in inp_lst:\n",
    "    if num%2==0:\n",
    "        even_count=even_count+1\n",
    "    else:\n",
    "        odd_count=odd_count+1\n",
    "print(f'The number of even numbers & odd numbers in the given list {inp_lst} is : {(even_count,odd_count)}')"
   ]
  },
  {
   "cell_type": "markdown",
   "id": "e4d7f041",
   "metadata": {},
   "source": [
    "7. Develop a program that prints the squares of numbers from 1 to 5 using a `for` loop."
   ]
  },
  {
   "cell_type": "code",
   "execution_count": 35,
   "id": "188442d9",
   "metadata": {},
   "outputs": [
    {
     "name": "stdout",
     "output_type": "stream",
     "text": [
      "square of number 1 is : 1\n",
      "square of number 2 is : 4\n",
      "square of number 3 is : 9\n",
      "square of number 4 is : 16\n",
      "square of number 5 is : 25\n"
     ]
    }
   ],
   "source": [
    "for nums in range(1,6):\n",
    "    square_of_num=nums**2\n",
    "    print(f'square of number {nums} is : {square_of_num}')"
   ]
  },
  {
   "cell_type": "markdown",
   "id": "7cb6c039",
   "metadata": {},
   "source": [
    "8. Create a program to find the length of a string without using the `len()` function."
   ]
  },
  {
   "cell_type": "code",
   "execution_count": 42,
   "id": "54aa5e85",
   "metadata": {},
   "outputs": [
    {
     "name": "stdout",
     "output_type": "stream",
     "text": [
      "Enter a string to find its length: saravanesh\n",
      "The length of input_string 'saravanesh' is : 10\n"
     ]
    }
   ],
   "source": [
    "inp_str=input('Enter a string to find its length: ')\n",
    "counter=0\n",
    "for chars in inp_str:\n",
    "    counter=counter+1\n",
    "print(f\"The length of input_string '{inp_str}' is :\",counter)"
   ]
  },
  {
   "cell_type": "markdown",
   "id": "15d46a9b",
   "metadata": {},
   "source": [
    "9. Write a program that calculates the average of a list of numbers using a `for` loop."
   ]
  },
  {
   "cell_type": "code",
   "execution_count": 44,
   "id": "e8cf308f",
   "metadata": {},
   "outputs": [
    {
     "name": "stdout",
     "output_type": "stream",
     "text": [
      "Average of numbers in the list [1, 2, 3, 4, 5, 6, 7, 8] is : 4.5\n"
     ]
    }
   ],
   "source": [
    "inp_lst=[1,2,3,4,5,6,7,8]\n",
    "sum_of_num=0\n",
    "for nums in inp_lst:\n",
    "    sum_of_num=sum_of_num+nums\n",
    "\n",
    "average=sum_of_num/len(inp_lst)\n",
    "print(f'Average of numbers in the list {inp_lst} is :',average)"
   ]
  },
  {
   "cell_type": "markdown",
   "id": "96c17d33",
   "metadata": {},
   "source": [
    "10. Develop a program that prints the first `n` Fibonacci numbers using a `for` loop"
   ]
  },
  {
   "cell_type": "code",
   "execution_count": 69,
   "id": "72643b47",
   "metadata": {},
   "outputs": [
    {
     "name": "stdout",
     "output_type": "stream",
     "text": [
      "[0, 1, 1, 2, 3, 5, 8, 13, 21, 34]\n"
     ]
    }
   ],
   "source": [
    "def generate_fibonacci(n):\n",
    "    fibonacci_sequence = [0, 1]\n",
    "    for i in range(2, n):\n",
    "        next_number = fibonacci_sequence[-1] + fibonacci_sequence[-2]\n",
    "        fibonacci_sequence.append(next_number)\n",
    "    return fibonacci_sequence[:n]\n",
    "\n",
    "# Generate Fibonacci sequence of 10 numbers\n",
    "result = generate_fibonacci(10)\n",
    "print(result) "
   ]
  },
  {
   "cell_type": "markdown",
   "id": "9fc34963",
   "metadata": {},
   "source": [
    "## Intermediate Level:"
   ]
  },
  {
   "cell_type": "markdown",
   "id": "573c0127",
   "metadata": {},
   "source": [
    "11. Write a program to check if a given list contains any duplicates using a `for` loop."
   ]
  },
  {
   "cell_type": "code",
   "execution_count": 71,
   "id": "d2df1b60",
   "metadata": {},
   "outputs": [
    {
     "name": "stdout",
     "output_type": "stream",
     "text": [
      "The input list [1, 2, 4, 5, 6, 1, 4, 88, 98, 4] contains duplicates\n"
     ]
    }
   ],
   "source": [
    "inp_lst=[1,2,4,5,6,1,4,88,98,4]\n",
    "\n",
    "if len(inp_lst)==len(set(inp_lst)):\n",
    "    print(f'The input list {inp_lst} does not contain any duplicates')\n",
    "else:\n",
    "    print(f'The input list {inp_lst} contains duplicates')"
   ]
  },
  {
   "cell_type": "markdown",
   "id": "e38cd04b",
   "metadata": {},
   "source": [
    "12. Create a program that prints the prime numbers in a given range using a `for` loop."
   ]
  },
  {
   "cell_type": "code",
   "execution_count": 73,
   "id": "b34c8c6e",
   "metadata": {},
   "outputs": [
    {
     "name": "stdout",
     "output_type": "stream",
     "text": [
      "The number 1 is prime\n",
      "The number 2 is not prime\n",
      "The number 3 is prime\n",
      "The number 4 is not prime\n",
      "The number 5 is prime\n",
      "The number 6 is not prime\n",
      "The number 7 is prime\n",
      "The number 8 is not prime\n",
      "The number 9 is prime\n",
      "The number 10 is not prime\n",
      "The number 11 is prime\n",
      "The number 12 is not prime\n"
     ]
    }
   ],
   "source": [
    "inp_num = 12\n",
    "\n",
    "for nums in range(1,inp_num+1):\n",
    "    if nums%2!=0:\n",
    "        if nums%nums ==0 and nums%1==0:\n",
    "            print(f'The number {nums} is prime')\n",
    "        else:\n",
    "            print(f'The number {nums} is not prime')\n",
    "    else:\n",
    "        print(f'The number {nums} is not prime')"
   ]
  },
  {
   "cell_type": "markdown",
   "id": "d92a65f2",
   "metadata": {},
   "source": [
    "13. Develop a program that counts the number of vowels in a string using a `for` loop."
   ]
  },
  {
   "cell_type": "code",
   "execution_count": 74,
   "id": "c995a69e",
   "metadata": {},
   "outputs": [
    {
     "name": "stdout",
     "output_type": "stream",
     "text": [
      "The vowel count in the input string saravanesh is : 4\n"
     ]
    }
   ],
   "source": [
    "inp_str='saravanesh'\n",
    "vowel_count=0\n",
    "for chars in inp_str:\n",
    "    if chars in 'aeiou':\n",
    "        vowel_count = vowel_count + 1\n",
    "    else:\n",
    "        pass\n",
    "\n",
    "print(f'The vowel count in the input string {inp_str} is : {vowel_count}')"
   ]
  },
  {
   "cell_type": "markdown",
   "id": "e29005e0",
   "metadata": {},
   "source": [
    "14. Write a program to find the maximum element in a 2D list using a nested `for` loop."
   ]
  },
  {
   "cell_type": "code",
   "execution_count": 80,
   "id": "6481fd4d",
   "metadata": {},
   "outputs": [
    {
     "name": "stdout",
     "output_type": "stream",
     "text": [
      "The maximum element in the matrix is: 12\n"
     ]
    }
   ],
   "source": [
    "# Sample 2D list\n",
    "matrix = [\n",
    "    [3, 7, 1],\n",
    "    [5, 12, 9],\n",
    "    [11, 8, 4]\n",
    "]\n",
    "\n",
    "# Initialize max_element with the first element of the matrix\n",
    "max_element = matrix[0][0]\n",
    "\n",
    "# Iterate through each element in the matrix\n",
    "for row in matrix:\n",
    "    for element in row:\n",
    "        # Compare each element with the current max_element\n",
    "        if element > max_element:\n",
    "            max_element = element\n",
    "\n",
    "# Display the maximum element\n",
    "print(f\"The maximum element in the matrix is: {max_element}\")"
   ]
  },
  {
   "cell_type": "markdown",
   "id": "47df9e58",
   "metadata": {},
   "source": [
    "15. Create a program that removes all occurrences of a specific element from a list using a `for` loop."
   ]
  },
  {
   "cell_type": "code",
   "execution_count": 82,
   "id": "73dbf53d",
   "metadata": {},
   "outputs": [
    {
     "name": "stdout",
     "output_type": "stream",
     "text": [
      "Output list where all occurences of 4 is removed :  [1, 2, 3, 5, 6, 7, 7, 8, 10, 10, 11, 14, 22, 25]\n"
     ]
    }
   ],
   "source": [
    "inp_lst=[1,2,3,4,5,6,7,7,8,10,10,11,14,22,4,4,25]\n",
    "element_to_remove=4\n",
    "output_lst=list()\n",
    "\n",
    "for items in inp_lst:\n",
    "    if items!=element_to_remove:\n",
    "        output_lst.append(items)\n",
    "    else:\n",
    "        continue\n",
    "print(f'Output list where all occurences of {element_to_remove} is removed : ',output_lst)"
   ]
  },
  {
   "cell_type": "markdown",
   "id": "1703b367",
   "metadata": {},
   "source": [
    "16. Develop a program that generates a multiplication table for numbers from 1 to 5 using a nested `for` loop."
   ]
  },
  {
   "cell_type": "code",
   "execution_count": 84,
   "id": "d76b0d92",
   "metadata": {},
   "outputs": [
    {
     "name": "stdout",
     "output_type": "stream",
     "text": [
      "=====1 multiplication table====\n",
      "1*1= 1\n",
      "1*2= 2\n",
      "1*3= 3\n",
      "1*4= 4\n",
      "1*5= 5\n",
      "1*6= 6\n",
      "1*7= 7\n",
      "1*8= 8\n",
      "1*9= 9\n",
      "1*10= 10\n",
      "=====2 multiplication table====\n",
      "2*1= 2\n",
      "2*2= 4\n",
      "2*3= 6\n",
      "2*4= 8\n",
      "2*5= 10\n",
      "2*6= 12\n",
      "2*7= 14\n",
      "2*8= 16\n",
      "2*9= 18\n",
      "2*10= 20\n",
      "=====3 multiplication table====\n",
      "3*1= 3\n",
      "3*2= 6\n",
      "3*3= 9\n",
      "3*4= 12\n",
      "3*5= 15\n",
      "3*6= 18\n",
      "3*7= 21\n",
      "3*8= 24\n",
      "3*9= 27\n",
      "3*10= 30\n",
      "=====4 multiplication table====\n",
      "4*1= 4\n",
      "4*2= 8\n",
      "4*3= 12\n",
      "4*4= 16\n",
      "4*5= 20\n",
      "4*6= 24\n",
      "4*7= 28\n",
      "4*8= 32\n",
      "4*9= 36\n",
      "4*10= 40\n",
      "=====5 multiplication table====\n",
      "5*1= 5\n",
      "5*2= 10\n",
      "5*3= 15\n",
      "5*4= 20\n",
      "5*5= 25\n",
      "5*6= 30\n",
      "5*7= 35\n",
      "5*8= 40\n",
      "5*9= 45\n",
      "5*10= 50\n"
     ]
    }
   ],
   "source": [
    "for num1 in range(1,5+1):\n",
    "    print(f'====={num1} multiplication table====')\n",
    "    for num2 in range(1,10+1):\n",
    "        print(f'{num1}*{num2}=',num1*num2)\n",
    "        "
   ]
  },
  {
   "cell_type": "markdown",
   "id": "2f3f05e3",
   "metadata": {},
   "source": [
    "17. Write a program that converts a list of Fahrenheit temperatures to Celsius using a `for` loop."
   ]
  },
  {
   "cell_type": "code",
   "execution_count": 88,
   "id": "eaaad590",
   "metadata": {},
   "outputs": [
    {
     "name": "stdout",
     "output_type": "stream",
     "text": [
      "Input temperatures in Farenheit : [98.3, 98.6, 99.1, 99.8, 100.2, 101.1, 102.8, 103]\n",
      "Output temperatures in Celcius : [36.83, 37.0, 37.28, 37.67, 37.89, 38.39, 39.33, 39.44]\n"
     ]
    }
   ],
   "source": [
    "inp_lst=[98.3,98.6,99.1,99.8,100.2,101.1,102.8,103]\n",
    "cel_temp=list()\n",
    "\n",
    "for temp_in_faren in inp_lst:\n",
    "    temp_in_cel=(5/9)*(temp_in_faren-32)\n",
    "    cel_temp.append(round(temp_in_cel,2))\n",
    "\n",
    "print(f'Input temperatures in Farenheit : {inp_lst}')\n",
    "print(f'Output temperatures in Celcius : {cel_temp}')"
   ]
  },
  {
   "cell_type": "markdown",
   "id": "8261fc6f",
   "metadata": {},
   "source": [
    "18. Create a program to print the common elements from two lists using a `for` loop."
   ]
  },
  {
   "cell_type": "code",
   "execution_count": 91,
   "id": "0f27f3d8",
   "metadata": {},
   "outputs": [
    {
     "name": "stdout",
     "output_type": "stream",
     "text": [
      "Elements that are common in [1, 2, 3, 4, 4, 4, 5, 6, 7, 8, 9, 10, 11],[10, 21, 23, 4, 5, 1, 343, 56, 78, 99, 78] :\n",
      " {1, 10, 4, 5}\n"
     ]
    }
   ],
   "source": [
    "inp_lst1=[1,2,3,4,4,4,5,6,7,8,9,10,11]\n",
    "inp_lst2=[10,21,23,4,5,1,343,56,78,99,78]\n",
    "output_set=set()\n",
    "\n",
    "for i in inp_lst1:\n",
    "    for j in inp_lst2:\n",
    "        if i==j:\n",
    "            output_set.add(j)\n",
    "            \n",
    "print(f\"Elements that are common in {inp_lst1},{inp_lst2} :\\n\",output_set)"
   ]
  },
  {
   "cell_type": "markdown",
   "id": "ed6b6eef",
   "metadata": {},
   "source": [
    "19. Develop a program that prints the pattern of right-angled triangles using a `for` loop. Use ‘*’ to draw the \n",
    "pattern"
   ]
  },
  {
   "cell_type": "code",
   "execution_count": 97,
   "id": "487109b5",
   "metadata": {},
   "outputs": [
    {
     "name": "stdout",
     "output_type": "stream",
     "text": [
      "*\n",
      "**\n",
      "***\n",
      "****\n",
      "*****\n"
     ]
    }
   ],
   "source": [
    "rows=5\n",
    "for i in range(1, rows + 1):\n",
    "    print('*' * i)"
   ]
  },
  {
   "cell_type": "markdown",
   "id": "058d3bd2",
   "metadata": {},
   "source": [
    "20. Write a program to find the greatest common divisor (GCD) of two numbers using a `for` loop"
   ]
  },
  {
   "cell_type": "code",
   "execution_count": 98,
   "id": "98addec8",
   "metadata": {},
   "outputs": [
    {
     "name": "stdout",
     "output_type": "stream",
     "text": [
      "The GCD of 24 and 36 is: 12\n"
     ]
    }
   ],
   "source": [
    "# Function to find the GCD of two numbers using a for loop\n",
    "def find_gcd(a, b):\n",
    "    # Determine the smaller number between a and b\n",
    "    smaller = min(a, b)\n",
    "\n",
    "    # Initialize GCD to 1 (minimum value)\n",
    "    gcd = 1\n",
    "\n",
    "    # Iterate from 1 to the smaller number\n",
    "    for i in range(1, smaller + 1):\n",
    "        # Check if both a and b are divisible by the current number\n",
    "        if a % i == 0 and b % i == 0:\n",
    "            gcd = i  # Update GCD when both are divisible\n",
    "\n",
    "    return gcd\n",
    "\n",
    "# Input two numbers\n",
    "num1 = 24\n",
    "num2 = 36\n",
    "\n",
    "# Find and display the GCD of the two numbers\n",
    "result = find_gcd(num1, num2)\n",
    "print(f\"The GCD of {num1} and {num2} is: {result}\")\n"
   ]
  },
  {
   "cell_type": "markdown",
   "id": "d43e422d",
   "metadata": {},
   "source": [
    "## Advance Level"
   ]
  },
  {
   "cell_type": "markdown",
   "id": "b702d9c9",
   "metadata": {},
   "source": [
    "21. Create a program that calculates the sum of the digits of numbers in a list using a list comprehension."
   ]
  },
  {
   "cell_type": "code",
   "execution_count": 102,
   "id": "40019fe3",
   "metadata": {},
   "outputs": [
    {
     "name": "stdout",
     "output_type": "stream",
     "text": [
      "[12, 45, 678]\n",
      "[3, 9, 21]\n"
     ]
    }
   ],
   "source": [
    "inp_lst = [12, 45, 678]\n",
    "\n",
    "# Calculate sum of digits using list comprehension\n",
    "op_lst = [sum(int(digit) for digit in str(num)) for num in inp_lst]\n",
    "\n",
    "print(inp_lst)\n",
    "print(op_lst)"
   ]
  },
  {
   "cell_type": "markdown",
   "id": "0da0dbd9",
   "metadata": {},
   "source": [
    "22. Write a program to find the prime factors of a given number using a `for` loop and list comprehension."
   ]
  },
  {
   "cell_type": "code",
   "execution_count": 105,
   "id": "f7dc906e",
   "metadata": {},
   "outputs": [
    {
     "name": "stdout",
     "output_type": "stream",
     "text": [
      "The prime factors of 1 are: [2, 2, 3, 7]\n"
     ]
    }
   ],
   "source": [
    "num = 84\n",
    "factors = []\n",
    "divisor = 2\n",
    "\n",
    "while num > 1:\n",
    "    if num % divisor == 0:\n",
    "        factors.append(divisor)\n",
    "        num //= divisor\n",
    "    else:\n",
    "        divisor += 1\n",
    "\n",
    "print(f\"The prime factors of {num} are: {factors}\")\n"
   ]
  },
  {
   "cell_type": "markdown",
   "id": "548dd845",
   "metadata": {},
   "source": [
    "23. Develop a program that extracts unique elements from a list and stores them in a new list using a list \n",
    "comprehension."
   ]
  },
  {
   "cell_type": "code",
   "execution_count": 108,
   "id": "f3c4009c",
   "metadata": {},
   "outputs": [
    {
     "data": {
      "text/plain": [
       "[1, 2, 3, 4, 5, 6, 7, 8, 10]"
      ]
     },
     "execution_count": 108,
     "metadata": {},
     "output_type": "execute_result"
    }
   ],
   "source": [
    "inp_lst=[1,2,3,4,4,4,5,6,5,6,7,8,7,10]\n",
    "[elem for elem in set(inp_lst)]"
   ]
  },
  {
   "cell_type": "markdown",
   "id": "816397cd",
   "metadata": {},
   "source": [
    "24. Create a program that generates a list of all palindromic numbers up to a specified limit using a list \n",
    "comprehension."
   ]
  },
  {
   "cell_type": "code",
   "execution_count": 116,
   "id": "3178b289",
   "metadata": {},
   "outputs": [
    {
     "data": {
      "text/plain": [
       "[101, 111, 121, 131, 141, 151]"
      ]
     },
     "execution_count": 116,
     "metadata": {},
     "output_type": "execute_result"
    }
   ],
   "source": [
    "[num for num in range(100,152) if num == int(str(num)[::-1])]"
   ]
  },
  {
   "cell_type": "markdown",
   "id": "a13b0fad",
   "metadata": {},
   "source": [
    "25. Write a program to flatten a nested list using list comprehension."
   ]
  },
  {
   "cell_type": "code",
   "execution_count": 117,
   "id": "d2d4d39f",
   "metadata": {},
   "outputs": [],
   "source": [
    "nested_lst=[[1,2,3],[1,2,1],[10,20,33],[1,2],[34567],['saravanesh','parish','saissh','dhurvankk']]"
   ]
  },
  {
   "cell_type": "code",
   "execution_count": 125,
   "id": "18212d97",
   "metadata": {},
   "outputs": [
    {
     "data": {
      "text/plain": [
       "[1,\n",
       " 2,\n",
       " 3,\n",
       " 1,\n",
       " 2,\n",
       " 1,\n",
       " 10,\n",
       " 20,\n",
       " 33,\n",
       " 1,\n",
       " 2,\n",
       " 34567,\n",
       " 'saravanesh',\n",
       " 'parish',\n",
       " 'saissh',\n",
       " 'dhurvankk']"
      ]
     },
     "execution_count": 125,
     "metadata": {},
     "output_type": "execute_result"
    }
   ],
   "source": [
    "[y for x in nested_lst for y in x]"
   ]
  },
  {
   "cell_type": "markdown",
   "id": "257ea057",
   "metadata": {},
   "source": [
    "26. Develop a program that computes the sum of even and odd numbers in a list separately using list \n",
    "comprehension."
   ]
  },
  {
   "cell_type": "code",
   "execution_count": 126,
   "id": "9506b70a",
   "metadata": {},
   "outputs": [
    {
     "name": "stdout",
     "output_type": "stream",
     "text": [
      "List of numbers: [1, 2, 3, 4, 5, 6, 7, 8, 9, 10]\n",
      "Sum of even numbers: 30\n",
      "Sum of odd numbers: 25\n"
     ]
    }
   ],
   "source": [
    "# Sample list of numbers\n",
    "numbers = [1, 2, 3, 4, 5, 6, 7, 8, 9, 10]\n",
    "\n",
    "# Calculate sum of even and odd numbers separately using list comprehension\n",
    "sum_even = sum(num for num in numbers if num % 2 == 0)\n",
    "sum_odd = sum(num for num in numbers if num % 2 != 0)\n",
    "\n",
    "print(f\"List of numbers: {numbers}\")\n",
    "print(f\"Sum of even numbers: {sum_even}\")\n",
    "print(f\"Sum of odd numbers: {sum_odd}\")\n"
   ]
  },
  {
   "cell_type": "markdown",
   "id": "49b3d02b",
   "metadata": {},
   "source": [
    " 27. Create a program that generates a list of squares of odd numbers between 1 and 10 using list \n",
    "comprehension."
   ]
  },
  {
   "cell_type": "code",
   "execution_count": 127,
   "id": "8886e117",
   "metadata": {},
   "outputs": [
    {
     "data": {
      "text/plain": [
       "[1, 9, 25, 49, 81]"
      ]
     },
     "execution_count": 127,
     "metadata": {},
     "output_type": "execute_result"
    }
   ],
   "source": [
    "[num**2 for num in range(1,11) if num%2!=0]"
   ]
  },
  {
   "cell_type": "markdown",
   "id": "ba732c2b",
   "metadata": {},
   "source": [
    "28. Write a program that combines two lists into a dictionary using list comprehension."
   ]
  },
  {
   "cell_type": "code",
   "execution_count": 128,
   "id": "f1217463",
   "metadata": {},
   "outputs": [
    {
     "name": "stdout",
     "output_type": "stream",
     "text": [
      "{'a': 1, 'b': 2, 'c': 3}\n"
     ]
    }
   ],
   "source": [
    "keys = ['a', 'b', 'c']\n",
    "values = [1, 2, 3]\n",
    "\n",
    "# Combine two lists into a dictionary using dictionary comprehension\n",
    "result_dict = {keys[i]: values[i] for i in range(min(len(keys), len(values)))}\n",
    "\n",
    "print(result_dict)\n"
   ]
  },
  {
   "cell_type": "markdown",
   "id": "8c4a9026",
   "metadata": {},
   "source": [
    "29. Develop a program that extracts the vowels from a string and stores them in a list using list comprehension."
   ]
  },
  {
   "cell_type": "code",
   "execution_count": 133,
   "id": "1ab89d44",
   "metadata": {},
   "outputs": [
    {
     "data": {
      "text/plain": [
       "['a', 'e']"
      ]
     },
     "execution_count": 133,
     "metadata": {},
     "output_type": "execute_result"
    }
   ],
   "source": [
    "inp_str='saravanesh'\n",
    "list(set([chars for chars in inp_str if chars in 'aeiou']))"
   ]
  },
  {
   "cell_type": "markdown",
   "id": "a4de87e7",
   "metadata": {},
   "source": [
    "30. Create a program that removes all non-numeric characters from a list of strings using list comprehension."
   ]
  },
  {
   "cell_type": "code",
   "execution_count": 145,
   "id": "6cf529ba",
   "metadata": {},
   "outputs": [
    {
     "name": "stdout",
     "output_type": "stream",
     "text": [
      "Original list: ['abc123', '45def', '6ghi78jkl', 'mno9pqr']\n",
      "List with only numeric characters: ['123', '45', '678', '9']\n"
     ]
    }
   ],
   "source": [
    "# List of strings with alphanumeric characters\n",
    "strings = ['abc123', '45def', '6ghi78jkl', 'mno9pqr']\n",
    "\n",
    "# Remove non-numeric characters using list comprehension\n",
    "numeric_strings = [''.join(filter(str.isdigit, string)) for string in strings]\n",
    "\n",
    "print(f\"Original list: {strings}\")\n",
    "print(f\"List with only numeric characters: {numeric_strings}\")\n"
   ]
  },
  {
   "cell_type": "markdown",
   "id": "478de069",
   "metadata": {},
   "source": [
    "## Challenge Level"
   ]
  },
  {
   "cell_type": "markdown",
   "id": "c5835b61",
   "metadata": {},
   "source": [
    "31. Write a program to generate a list of prime numbers using the Sieve of Eratosthenes algorithm and list \n",
    "comprehension."
   ]
  },
  {
   "cell_type": "code",
   "execution_count": 1,
   "id": "c33883ff",
   "metadata": {},
   "outputs": [
    {
     "name": "stdout",
     "output_type": "stream",
     "text": [
      "Prime numbers up to 50 are: [2, 3, 5, 7, 11, 13, 17, 19, 23, 29, 31, 37, 41, 43, 47]\n"
     ]
    }
   ],
   "source": [
    "def sieve_of_eratosthenes(limit):\n",
    "    # Create a boolean list \"is_prime\" and initialize all elements to True\n",
    "    is_prime = [True] * (limit + 1)\n",
    "    \n",
    "    # Mark 0 and 1 as not prime\n",
    "    is_prime[0] = is_prime[1] = False\n",
    "    \n",
    "    # Iterate through the numbers up to the square root of the limit\n",
    "    for i in range(2, int(limit**0.5) + 1):\n",
    "        # If i is prime, mark all multiples of i as not prime\n",
    "        if is_prime[i]:\n",
    "            is_prime[i*i : limit + 1 : i] = [False] * len(is_prime[i*i : limit + 1 : i])\n",
    "    \n",
    "    # Use list comprehension to generate a list of prime numbers\n",
    "    primes = [i for i in range(2, limit + 1) if is_prime[i]]\n",
    "    \n",
    "    return primes\n",
    "\n",
    "# Example: Generate prime numbers up to 50\n",
    "limit = 50\n",
    "prime_numbers = sieve_of_eratosthenes(limit)\n",
    "print(\"Prime numbers up to\", limit, \"are:\", prime_numbers)\n"
   ]
  },
  {
   "cell_type": "markdown",
   "id": "3f6851cf",
   "metadata": {},
   "source": [
    "32. Create a program that generates a list of all Pythagorean triplets up to a specified limit using list \n",
    "comprehension"
   ]
  },
  {
   "cell_type": "code",
   "execution_count": 3,
   "id": "24fd03b4",
   "metadata": {},
   "outputs": [
    {
     "name": "stdout",
     "output_type": "stream",
     "text": [
      "Pythagorean triplets up to 30 are: [(3, 4, 5), (5, 12, 13), (6, 8, 10), (7, 24, 25), (8, 15, 17), (9, 12, 15), (10, 24, 26), (12, 16, 20), (15, 20, 25), (18, 24, 30), (20, 21, 29)]\n"
     ]
    }
   ],
   "source": [
    "def generate_pythagorean_triplets(limit):\n",
    "    triplets = [(a, b, c) for a in range(1, limit+1) for b in range(a, limit+1) for c in range(b, limit+1) if a**2 + b**2 == c**2]\n",
    "    return triplets\n",
    "\n",
    "# Example: Generate Pythagorean triplets up to 30\n",
    "limit = 30\n",
    "pythagorean_triplets = generate_pythagorean_triplets(limit)\n",
    "print(\"Pythagorean triplets up to\", limit, \"are:\", pythagorean_triplets)"
   ]
  },
  {
   "cell_type": "markdown",
   "id": "c7782f37",
   "metadata": {},
   "source": [
    "33. Develop a program that generates a list of all possible combinations of two lists using list comprehension."
   ]
  },
  {
   "cell_type": "code",
   "execution_count": 4,
   "id": "0b734573",
   "metadata": {},
   "outputs": [
    {
     "name": "stdout",
     "output_type": "stream",
     "text": [
      "All possible combinations are: [(1, 'a'), (1, 'b'), (2, 'a'), (2, 'b')]\n"
     ]
    }
   ],
   "source": [
    "def generate_combinations(list1, list2):\n",
    "    combinations = [(x, y) for x in list1 for y in list2]\n",
    "    return combinations\n",
    "\n",
    "# Example: Generate combinations of [1, 2] and ['a', 'b']\n",
    "list1 = [1, 2]\n",
    "list2 = ['a', 'b']\n",
    "all_combinations = generate_combinations(list1, list2)\n",
    "print(\"All possible combinations are:\", all_combinations)"
   ]
  },
  {
   "cell_type": "markdown",
   "id": "92885066",
   "metadata": {},
   "source": [
    "34. Write a program that calculates the mean, median, and mode of a list of numbers using list \n",
    "comprehension."
   ]
  },
  {
   "cell_type": "code",
   "execution_count": 5,
   "id": "2b8bf4c2",
   "metadata": {},
   "outputs": [
    {
     "name": "stdout",
     "output_type": "stream",
     "text": [
      "Mean: 4.7\n",
      "Median: 5.0\n",
      "Mode: [5, 6]\n"
     ]
    }
   ],
   "source": [
    "from collections import Counter\n",
    "import statistics\n",
    "\n",
    "def calculate_mean(numbers):\n",
    "    mean = sum(numbers) / len(numbers)\n",
    "    return mean\n",
    "\n",
    "def calculate_median(numbers):\n",
    "    sorted_numbers = sorted(numbers)\n",
    "    n = len(sorted_numbers)\n",
    "    median = (sorted_numbers[n // 2] + sorted_numbers[(n - 1) // 2]) / 2\n",
    "    return median\n",
    "\n",
    "def calculate_mode(numbers):\n",
    "    counter = Counter(numbers)\n",
    "    modes = [num for num, freq in counter.items() if freq == max(counter.values())]\n",
    "    return modes\n",
    "\n",
    "# Example: Calculate mean, median, and mode of a list of numbers\n",
    "number_list = [1, 2, 3, 4, 5, 5, 6, 6, 7, 8]\n",
    "mean = calculate_mean(number_list)\n",
    "median = calculate_median(number_list)\n",
    "mode = calculate_mode(number_list)\n",
    "\n",
    "print(\"Mean:\", mean)\n",
    "print(\"Median:\", median)\n",
    "print(\"Mode:\", mode)\n"
   ]
  },
  {
   "cell_type": "markdown",
   "id": "022318be",
   "metadata": {},
   "source": [
    " 35. Create a program that generates Pascal's triangle up to a specified number of rows using list \n",
    "comprehension."
   ]
  },
  {
   "cell_type": "code",
   "execution_count": 11,
   "id": "14c95084",
   "metadata": {},
   "outputs": [
    {
     "name": "stdout",
     "output_type": "stream",
     "text": [
      "[1]\n",
      "[1, 1]\n",
      "[1, 2, 1]\n",
      "[1, 3, 3, 1]\n",
      "[1, 4, 6, 4, 1]\n"
     ]
    }
   ],
   "source": [
    "def pascal_triangle(n):\n",
    "  \"\"\"\n",
    "  Generates Pascal's triangle up to a specified number of rows using list comprehension.\n",
    "\n",
    "  Args:\n",
    "    n: An integer representing the number of rows in Pascal's triangle.\n",
    "\n",
    "  Returns:\n",
    "    A list of lists representing Pascal's triangle.\n",
    "  \"\"\"\n",
    "  triangle = [[1]]\n",
    "  for i in range(1, n):\n",
    "    row = [1]\n",
    "    # Generate elements using list comprehension\n",
    "    row.extend([a + b for a, b in zip(triangle[i-1], triangle[i-1][1:])])\n",
    "    row.append(1)\n",
    "    triangle.append(row)\n",
    "  return triangle\n",
    "\n",
    "# Generate Pascal's triangle up to 5 rows\n",
    "triangle = pascal_triangle(5)\n",
    "\n",
    "# Print Pascal's triangle\n",
    "for row in triangle:\n",
    "  print(row)\n"
   ]
  },
  {
   "cell_type": "markdown",
   "id": "d0cee8f3",
   "metadata": {},
   "source": [
    "36. Develop a program that calculates the sum of the digits of a factorial of numbers from 1 to 5 using list \n",
    "comprehension."
   ]
  },
  {
   "cell_type": "code",
   "execution_count": 17,
   "id": "6b7ee97c",
   "metadata": {},
   "outputs": [
    {
     "name": "stdout",
     "output_type": "stream",
     "text": [
      "Factorial of 1 is 1 and sum of the digits is :  1\n",
      "Factorial of 2 is 2 and sum of the digits is :  2\n",
      "Factorial of 3 is 6 and sum of the digits is :  6\n",
      "Factorial of 4 is 24 and sum of the digits is :  6\n",
      "Factorial of 5 is 120 and sum of the digits is :  3\n"
     ]
    }
   ],
   "source": [
    "main_lst=list()\n",
    "for num in range(1,6):\n",
    "    factorial=1\n",
    "#     sub_lst=list()\n",
    "    for items in range(num,0,-1):\n",
    "        factorial=factorial * items \n",
    "    print(f'Factorial of {num} is {factorial} and sum of the digits is : ', sum(int(digit) for digit in str(factorial)))"
   ]
  },
  {
   "cell_type": "markdown",
   "id": "662d36aa",
   "metadata": {},
   "source": [
    "37. Write a program that finds the longest word in a sentence using list comprehension."
   ]
  },
  {
   "cell_type": "code",
   "execution_count": 29,
   "id": "82b1f838",
   "metadata": {
    "scrolled": true
   },
   "outputs": [
    {
     "name": "stdout",
     "output_type": "stream",
     "text": [
      "The longest word in the sentence is: sentence\n"
     ]
    }
   ],
   "source": [
    "def find_longest_word(sentence):\n",
    "    words = sentence.split()\n",
    "    longest_word = max(words, key=len)\n",
    "    return longest_word\n",
    "\n",
    "# Example: Find the longest word in a sentence\n",
    "input_sentence = \"This is an example sentence to find the longest word.\"\n",
    "longest_word = find_longest_word(input_sentence)\n",
    "\n",
    "print(\"The longest word in the sentence is:\", longest_word)\n"
   ]
  },
  {
   "cell_type": "markdown",
   "id": "051bd6fc",
   "metadata": {},
   "source": [
    "38. Create a program that filters a list of strings to include only those with more than three vowels using list \n",
    "comprehension."
   ]
  },
  {
   "cell_type": "code",
   "execution_count": 31,
   "id": "eb412905",
   "metadata": {},
   "outputs": [],
   "source": [
    "lst_of_str=['hello how are you','the climate seems to be very pleasent today','how do you people manage things so easily',\n",
    "           'this is the last time we would be meeting','I will be a datascientist soon']"
   ]
  },
  {
   "cell_type": "code",
   "execution_count": 35,
   "id": "3e7e9e18",
   "metadata": {},
   "outputs": [
    {
     "name": "stdout",
     "output_type": "stream",
     "text": [
      "['hello how are you', 'the climate seems to be very pleasent today', 'how do you people manage things so easily', 'this is the last time we would be meeting', 'I will be a datascientist soon']\n"
     ]
    }
   ],
   "source": [
    "final_lst = [sentence for sentence in lst_of_str if sum(1 for char in sentence if char in 'aeiou') > 3]\n",
    "print(final_lst)"
   ]
  },
  {
   "cell_type": "markdown",
   "id": "983dd8e0",
   "metadata": {},
   "source": [
    " 39. Develop a program that calculates the sum of the digits of numbers from 1 to 1000 using list \n",
    "comprehension."
   ]
  },
  {
   "cell_type": "code",
   "execution_count": 47,
   "id": "2764d9c5",
   "metadata": {},
   "outputs": [
    {
     "name": "stdout",
     "output_type": "stream",
     "text": [
      "[1, 2, 3, 4, 5, 6, 7, 8, 9, 1, 2, 3, 4, 5, 6, 7, 8, 9, 10, 2, 3, 4, 5, 6, 7, 8, 9, 10, 11, 3, 4, 5, 6, 7, 8, 9, 10, 11, 12, 4, 5, 6, 7, 8, 9, 10, 11, 12, 13, 5, 6, 7, 8, 9, 10, 11, 12, 13, 14, 6, 7, 8, 9, 10, 11, 12, 13, 14, 15, 7, 8, 9, 10, 11, 12, 13, 14, 15, 16, 8, 9, 10, 11, 12, 13, 14, 15, 16, 17, 9, 10, 11, 12, 13, 14, 15, 16, 17, 18, 1, 2, 3, 4, 5, 6, 7, 8, 9, 10, 2, 3, 4, 5, 6, 7, 8, 9, 10, 11, 3, 4, 5, 6, 7, 8, 9, 10, 11, 12, 4, 5, 6, 7, 8, 9, 10, 11, 12, 13, 5, 6, 7, 8, 9, 10, 11, 12, 13, 14, 6, 7, 8, 9, 10, 11, 12, 13, 14, 15, 7, 8, 9, 10, 11, 12, 13, 14, 15, 16, 8, 9, 10, 11, 12, 13, 14, 15, 16, 17, 9, 10, 11, 12, 13, 14, 15, 16, 17, 18, 10, 11, 12, 13, 14, 15, 16, 17, 18, 19, 2, 3, 4, 5, 6, 7, 8, 9, 10, 11, 3, 4, 5, 6, 7, 8, 9, 10, 11, 12, 4, 5, 6, 7, 8, 9, 10, 11, 12, 13, 5, 6, 7, 8, 9, 10, 11, 12, 13, 14, 6, 7, 8, 9, 10, 11, 12, 13, 14, 15, 7, 8, 9, 10, 11, 12, 13, 14, 15, 16, 8, 9, 10, 11, 12, 13, 14, 15, 16, 17, 9, 10, 11, 12, 13, 14, 15, 16, 17, 18, 10, 11, 12, 13, 14, 15, 16, 17, 18, 19, 11, 12, 13, 14, 15, 16, 17, 18, 19, 20, 3, 4, 5, 6, 7, 8, 9, 10, 11, 12, 4, 5, 6, 7, 8, 9, 10, 11, 12, 13, 5, 6, 7, 8, 9, 10, 11, 12, 13, 14, 6, 7, 8, 9, 10, 11, 12, 13, 14, 15, 7, 8, 9, 10, 11, 12, 13, 14, 15, 16, 8, 9, 10, 11, 12, 13, 14, 15, 16, 17, 9, 10, 11, 12, 13, 14, 15, 16, 17, 18, 10, 11, 12, 13, 14, 15, 16, 17, 18, 19, 11, 12, 13, 14, 15, 16, 17, 18, 19, 20, 12, 13, 14, 15, 16, 17, 18, 19, 20, 21, 4, 5, 6, 7, 8, 9, 10, 11, 12, 13, 5, 6, 7, 8, 9, 10, 11, 12, 13, 14, 6, 7, 8, 9, 10, 11, 12, 13, 14, 15, 7, 8, 9, 10, 11, 12, 13, 14, 15, 16, 8, 9, 10, 11, 12, 13, 14, 15, 16, 17, 9, 10, 11, 12, 13, 14, 15, 16, 17, 18, 10, 11, 12, 13, 14, 15, 16, 17, 18, 19, 11, 12, 13, 14, 15, 16, 17, 18, 19, 20, 12, 13, 14, 15, 16, 17, 18, 19, 20, 21, 13, 14, 15, 16, 17, 18, 19, 20, 21, 22, 5, 6, 7, 8, 9, 10, 11, 12, 13, 14, 6, 7, 8, 9, 10, 11, 12, 13, 14, 15, 7, 8, 9, 10, 11, 12, 13, 14, 15, 16, 8, 9, 10, 11, 12, 13, 14, 15, 16, 17, 9, 10, 11, 12, 13, 14, 15, 16, 17, 18, 10, 11, 12, 13, 14, 15, 16, 17, 18, 19, 11, 12, 13, 14, 15, 16, 17, 18, 19, 20, 12, 13, 14, 15, 16, 17, 18, 19, 20, 21, 13, 14, 15, 16, 17, 18, 19, 20, 21, 22, 14, 15, 16, 17, 18, 19, 20, 21, 22, 23, 6, 7, 8, 9, 10, 11, 12, 13, 14, 15, 7, 8, 9, 10, 11, 12, 13, 14, 15, 16, 8, 9, 10, 11, 12, 13, 14, 15, 16, 17, 9, 10, 11, 12, 13, 14, 15, 16, 17, 18, 10, 11, 12, 13, 14, 15, 16, 17, 18, 19, 11, 12, 13, 14, 15, 16, 17, 18, 19, 20, 12, 13, 14, 15, 16, 17, 18, 19, 20, 21, 13, 14, 15, 16, 17, 18, 19, 20, 21, 22, 14, 15, 16, 17, 18, 19, 20, 21, 22, 23, 15, 16, 17, 18, 19, 20, 21, 22, 23, 24, 7, 8, 9, 10, 11, 12, 13, 14, 15, 16, 8, 9, 10, 11, 12, 13, 14, 15, 16, 17, 9, 10, 11, 12, 13, 14, 15, 16, 17, 18, 10, 11, 12, 13, 14, 15, 16, 17, 18, 19, 11, 12, 13, 14, 15, 16, 17, 18, 19, 20, 12, 13, 14, 15, 16, 17, 18, 19, 20, 21, 13, 14, 15, 16, 17, 18, 19, 20, 21, 22, 14, 15, 16, 17, 18, 19, 20, 21, 22, 23, 15, 16, 17, 18, 19, 20, 21, 22, 23, 24, 16, 17, 18, 19, 20, 21, 22, 23, 24, 25, 8, 9, 10, 11, 12, 13, 14, 15, 16, 17, 9, 10, 11, 12, 13, 14, 15, 16, 17, 18, 10, 11, 12, 13, 14, 15, 16, 17, 18, 19, 11, 12, 13, 14, 15, 16, 17, 18, 19, 20, 12, 13, 14, 15, 16, 17, 18, 19, 20, 21, 13, 14, 15, 16, 17, 18, 19, 20, 21, 22, 14, 15, 16, 17, 18, 19, 20, 21, 22, 23, 15, 16, 17, 18, 19, 20, 21, 22, 23, 24, 16, 17, 18, 19, 20, 21, 22, 23, 24, 25, 17, 18, 19, 20, 21, 22, 23, 24, 25, 26, 9, 10, 11, 12, 13, 14, 15, 16, 17, 18, 10, 11, 12, 13, 14, 15, 16, 17, 18, 19, 11, 12, 13, 14, 15, 16, 17, 18, 19, 20, 12, 13, 14, 15, 16, 17, 18, 19, 20, 21, 13, 14, 15, 16, 17, 18, 19, 20, 21, 22, 14, 15, 16, 17, 18, 19, 20, 21, 22, 23, 15, 16, 17, 18, 19, 20, 21, 22, 23, 24, 16, 17, 18, 19, 20, 21, 22, 23, 24, 25, 17, 18, 19, 20, 21, 22, 23, 24, 25, 26, 18, 19, 20, 21, 22, 23, 24, 25, 26, 27, 1]\n"
     ]
    }
   ],
   "source": [
    "sum_of_digits=[sum(int(digit) for digit in str(nums)) for nums in range(1, 1001)]\n",
    "\n",
    "print(sum_of_digits)"
   ]
  },
  {
   "cell_type": "markdown",
   "id": "e52f0339",
   "metadata": {},
   "source": [
    " 40. Write a program that generates a list of prime palindromic numbers using list comprehension."
   ]
  },
  {
   "cell_type": "code",
   "execution_count": 53,
   "id": "2a975da8",
   "metadata": {},
   "outputs": [
    {
     "name": "stdout",
     "output_type": "stream",
     "text": [
      "[1, 3, 5, 7, 9, 11, 33, 55, 77, 99, 101, 111, 121, 131, 141, 151, 161, 171, 181, 191, 303, 313, 323, 333, 343, 353, 363, 373, 383, 393]\n"
     ]
    }
   ],
   "source": [
    "prime_palindromic_nums=[num for num in range(1,501) if num==int(str(num)[::-1]) and num%2!=0]\n",
    "print(prime_palindromic_nums)"
   ]
  }
 ],
 "metadata": {
  "kernelspec": {
   "display_name": "Python 3 (ipykernel)",
   "language": "python",
   "name": "python3"
  },
  "language_info": {
   "codemirror_mode": {
    "name": "ipython",
    "version": 3
   },
   "file_extension": ".py",
   "mimetype": "text/x-python",
   "name": "python",
   "nbconvert_exporter": "python",
   "pygments_lexer": "ipython3",
   "version": "3.10.9"
  }
 },
 "nbformat": 4,
 "nbformat_minor": 5
}
