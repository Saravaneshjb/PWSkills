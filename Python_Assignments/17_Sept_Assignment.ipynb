{
 "cells": [
  {
   "cell_type": "markdown",
   "id": "ae9629d1",
   "metadata": {},
   "source": [
    "## For Loop"
   ]
  },
  {
   "cell_type": "markdown",
   "id": "d823ab25",
   "metadata": {},
   "source": [
    "1.\tWrite a Python program to print numbers from 1 to 10 using a for loop."
   ]
  },
  {
   "cell_type": "code",
   "execution_count": 1,
   "id": "e3143d7a",
   "metadata": {},
   "outputs": [
    {
     "name": "stdout",
     "output_type": "stream",
     "text": [
      "1\n",
      "2\n",
      "3\n",
      "4\n",
      "5\n",
      "6\n",
      "7\n",
      "8\n",
      "9\n",
      "10\n"
     ]
    }
   ],
   "source": [
    "for num in range(1,11):\n",
    "    print(num)"
   ]
  },
  {
   "cell_type": "markdown",
   "id": "50733b1e",
   "metadata": {},
   "source": [
    "2.\tExplain the difference between a for loop and a while loop in Python."
   ]
  },
  {
   "cell_type": "markdown",
   "id": "778b81da",
   "metadata": {},
   "source": [
    "| for | while |\n",
    "|-----|-------|\n",
    "|Executes a block of code repeatedly for a specified number of times. Example:|Executes a block of code as long as a specified condition is true. Example: |\n",
    "| ```python    | ```python    |\n",
    "| for i in range(5): |i = 0        |\n",
    "|     print(i)      |while i < 5: |\n",
    "| ```            | print(i) |\n",
    "|                | i=i+1    |\n",
    "|                |```|"
   ]
  },
  {
   "cell_type": "markdown",
   "id": "4ecb80ed",
   "metadata": {},
   "source": [
    "3.\tWrite a Python program to calculate the sum of all numbers from 1 to 100 using a for loop."
   ]
  },
  {
   "cell_type": "code",
   "execution_count": 2,
   "id": "772eb044",
   "metadata": {},
   "outputs": [
    {
     "name": "stdout",
     "output_type": "stream",
     "text": [
      "5050\n"
     ]
    }
   ],
   "source": [
    "sum_of_num_1_to_100=0\n",
    "for num in range(1,101):\n",
    "    sum_of_num_1_to_100=sum_of_num_1_to_100+num\n",
    "print(sum_of_num_1_to_100)"
   ]
  },
  {
   "cell_type": "markdown",
   "id": "8463f8f4",
   "metadata": {},
   "source": [
    "4.\tHow do you iterate through a list using a for loop in Python?"
   ]
  },
  {
   "cell_type": "code",
   "execution_count": 3,
   "id": "037670fd",
   "metadata": {},
   "outputs": [
    {
     "name": "stdout",
     "output_type": "stream",
     "text": [
      "1\n",
      "2\n",
      "3\n",
      "4\n",
      "5\n",
      "6\n"
     ]
    }
   ],
   "source": [
    "my_lst=[1,2,3,4,5,6]\n",
    "#Iterating the list using a for loop \n",
    "\n",
    "for items in my_lst:\n",
    "    print(items)"
   ]
  },
  {
   "cell_type": "markdown",
   "id": "1f70da07",
   "metadata": {},
   "source": [
    "5.\tWrite a Python program to find the product of all elements in a list using a for loop."
   ]
  },
  {
   "cell_type": "code",
   "execution_count": 4,
   "id": "150cdaaa",
   "metadata": {},
   "outputs": [
    {
     "name": "stdout",
     "output_type": "stream",
     "text": [
      "720\n"
     ]
    }
   ],
   "source": [
    "prod_of_elements=1\n",
    "for items in my_lst:\n",
    "    prod_of_elements=prod_of_elements*items\n",
    "\n",
    "print(prod_of_elements)"
   ]
  },
  {
   "cell_type": "markdown",
   "id": "e5b60993",
   "metadata": {},
   "source": [
    "6.\tCreate a Python program that prints all even numbers from 1 to 20 using a for loop."
   ]
  },
  {
   "cell_type": "code",
   "execution_count": 5,
   "id": "c93138ad",
   "metadata": {},
   "outputs": [
    {
     "name": "stdout",
     "output_type": "stream",
     "text": [
      "2\n",
      "4\n",
      "6\n",
      "8\n",
      "10\n",
      "12\n",
      "14\n",
      "16\n",
      "18\n",
      "20\n"
     ]
    }
   ],
   "source": [
    "for num in range(1,21):\n",
    "    if num%2==0:\n",
    "        print(num)\n",
    "    else:\n",
    "        pass"
   ]
  },
  {
   "cell_type": "markdown",
   "id": "f61489a2",
   "metadata": {},
   "source": [
    "7.\tWrite a Python program that calculates the factorial of a number using a for loop."
   ]
  },
  {
   "cell_type": "code",
   "execution_count": 14,
   "id": "58b7748f",
   "metadata": {},
   "outputs": [
    {
     "name": "stdout",
     "output_type": "stream",
     "text": [
      "Enter the number to find the factorial : -7\n",
      "Provide a number greater than 0\n"
     ]
    }
   ],
   "source": [
    "inp_num=int(input('Enter the number to find the factorial : '))\n",
    "\n",
    "if inp_num<0:\n",
    "    print('Provide a number greater than 0')\n",
    "else:\n",
    "    factorial=1\n",
    "    for num in range(inp_num,0,-1):\n",
    "        factorial=num*factorial\n",
    "    print(factorial)    "
   ]
  },
  {
   "cell_type": "markdown",
   "id": "cfbd4cb3",
   "metadata": {},
   "source": [
    "8.\tHow can you iterate through the characters of a string using a for loop in Python?"
   ]
  },
  {
   "cell_type": "code",
   "execution_count": 15,
   "id": "39c46624",
   "metadata": {},
   "outputs": [
    {
     "name": "stdout",
     "output_type": "stream",
     "text": [
      "Enter the string to iterate : saravanesh\n",
      "s\n",
      "a\n",
      "r\n",
      "a\n",
      "v\n",
      "a\n",
      "n\n",
      "e\n",
      "s\n",
      "h\n"
     ]
    }
   ],
   "source": [
    "my_str=input('Enter the string to iterate : ')\n",
    "\n",
    "for chars in my_str:\n",
    "    print(chars)"
   ]
  },
  {
   "cell_type": "markdown",
   "id": "8f76915e",
   "metadata": {},
   "source": [
    "9.\tWrite a Python program to find the largest number in a list using a for loop."
   ]
  },
  {
   "cell_type": "code",
   "execution_count": 22,
   "id": "27a0b24d",
   "metadata": {},
   "outputs": [
    {
     "name": "stdout",
     "output_type": "stream",
     "text": [
      "Provide a list of numbers seperated by comma to find the largest : 10,25,45,1,999,2,897,998,1234\n",
      "1234\n"
     ]
    }
   ],
   "source": [
    "my_lst=input('Provide a list of numbers seperated by comma to find the largest : ')\n",
    "my_lst=[int(items) for items in my_lst.split(',')]\n",
    "\n",
    "max_num=0\n",
    "for items in my_lst:\n",
    "    if items>max_num:\n",
    "        max_num=items\n",
    "    else:\n",
    "        pass\n",
    "print(max_num)"
   ]
  },
  {
   "cell_type": "markdown",
   "id": "559e165a",
   "metadata": {},
   "source": [
    "10.\tCreate a Python program that prints the Fibonacci sequence up to a specified limit using a for loop."
   ]
  },
  {
   "cell_type": "code",
   "execution_count": 28,
   "id": "da228b1c",
   "metadata": {},
   "outputs": [
    {
     "name": "stdout",
     "output_type": "stream",
     "text": [
      "Enter the limit for fibonacci sequence : 5\n",
      "[0, 1, 1, 2, 3]\n"
     ]
    }
   ],
   "source": [
    "n=int(input('Enter the limit for fibonacci sequence : '))\n",
    "fibonacci_sequence = [0, 1]\n",
    "\n",
    "for i in range(2, n):\n",
    "    next_number = fibonacci_sequence[-1] + fibonacci_sequence[-2]\n",
    "    fibonacci_sequence.append(next_number)\n",
    "print(fibonacci_sequence)"
   ]
  },
  {
   "cell_type": "markdown",
   "id": "0414d50f",
   "metadata": {},
   "source": [
    "11.\tWrite a Python program to count the number of vowels in a given string using a for loop."
   ]
  },
  {
   "cell_type": "code",
   "execution_count": 30,
   "id": "dc9154cf",
   "metadata": {},
   "outputs": [
    {
     "name": "stdout",
     "output_type": "stream",
     "text": [
      "Enter the string to check the no. of vowels present : Hi how are you doing? Its raining heavily here.\n",
      "The number of vowels in the input string 'hi how are you doing? its raining heavily here.' is : 17\n"
     ]
    }
   ],
   "source": [
    "inp_str=input('Enter the string to check the no. of vowels present : ')\n",
    "\n",
    "count=0\n",
    "inp_str=inp_str.lower()\n",
    "\n",
    "for chars in inp_str:\n",
    "    if chars in 'aeiou':\n",
    "        count=count+1\n",
    "    else:\n",
    "        continue\n",
    "print(f\"The number of vowels in the input string '{inp_str}' is : {count}\")"
   ]
  },
  {
   "cell_type": "markdown",
   "id": "74671844",
   "metadata": {},
   "source": [
    "12.\tCreate a Python program that generates a multiplication table for a given number using a for loop."
   ]
  },
  {
   "cell_type": "code",
   "execution_count": 31,
   "id": "880be9f3",
   "metadata": {},
   "outputs": [
    {
     "name": "stdout",
     "output_type": "stream",
     "text": [
      "Enter the number to generate the multiplication table : 5\n",
      "The multiplication table for 5 \n",
      "5 * 1 =  5\n",
      "5 * 2 =  10\n",
      "5 * 3 =  15\n",
      "5 * 4 =  20\n",
      "5 * 5 =  25\n",
      "5 * 6 =  30\n",
      "5 * 7 =  35\n",
      "5 * 8 =  40\n",
      "5 * 9 =  45\n",
      "5 * 10 =  50\n"
     ]
    }
   ],
   "source": [
    "inp_num=int(input('Enter the number to generate the multiplication table : '))\n",
    "\n",
    "print(f\"The multiplication table for {inp_num} \")\n",
    "for num in range(1,11):\n",
    "    print(f\"{inp_num} * {num} = \", inp_num*num)"
   ]
  },
  {
   "cell_type": "markdown",
   "id": "bbfe32c0",
   "metadata": {},
   "source": [
    "13.\tWrite a Python program to reverse a list using a for loop."
   ]
  },
  {
   "cell_type": "code",
   "execution_count": 43,
   "id": "24e475fb",
   "metadata": {},
   "outputs": [
    {
     "name": "stdout",
     "output_type": "stream",
     "text": [
      "[{'Name': ['saravanesh', 'jb'], 'age': [34]}, [23, 4, 55], 'jbs', 3, 2, 1]\n"
     ]
    }
   ],
   "source": [
    "inp_lst=[1,2,3,'jbs',[23,4,55],{'Name':['saravanesh','jb'],\"age\":[34]}]\n",
    "op_lst=list()\n",
    "\n",
    "for items in range(-1,-len(inp_lst)-1,-1):\n",
    "    op_lst.append(inp_lst[items])\n",
    "print(op_lst)"
   ]
  },
  {
   "cell_type": "markdown",
   "id": "f0d84fd3",
   "metadata": {},
   "source": [
    "14.\tWrite a Python program to find the common elements between two lists using a for loop."
   ]
  },
  {
   "cell_type": "code",
   "execution_count": 52,
   "id": "02d1bb2f",
   "metadata": {},
   "outputs": [
    {
     "name": "stdout",
     "output_type": "stream",
     "text": [
      "The common elements in the two list are : [1, 'jbs', {'Name': ['saravanesh', 'jb'], 'age': [34]}]\n"
     ]
    }
   ],
   "source": [
    "inp_lst1=[1,2,3,'jbs',[23,4,55],{'Name':['saravanesh','jb'],\"age\":[34]}]\n",
    "inp_lst2=[1,20,30,'jbs',[23,4,55,99],{'Name':['saravanesh','jb'],\"age\":[34]}]\n",
    "op_lst=list()\n",
    "\n",
    "for items1 in inp_lst1:\n",
    "    for items2 in inp_lst2:\n",
    "        if items1==items2:\n",
    "            op_lst.append(items1)\n",
    "        else:\n",
    "            continue\n",
    "print(f'The common elements in the two list are :',op_lst)\n",
    "            "
   ]
  },
  {
   "cell_type": "markdown",
   "id": "e271abcd",
   "metadata": {},
   "source": [
    "15.\tExplain how to use a for loop to iterate through the keys and values of a dictionary in Python."
   ]
  },
  {
   "cell_type": "code",
   "execution_count": 60,
   "id": "877659d2",
   "metadata": {},
   "outputs": [],
   "source": [
    "my_dict={'Name':['saravanesh','parish','saissh','dhurvank'],\n",
    "         'age':[34,28,5,0],\n",
    "         'gender':['male','female','male','male']\n",
    "        }"
   ]
  },
  {
   "cell_type": "code",
   "execution_count": 61,
   "id": "e5d0d19b",
   "metadata": {},
   "outputs": [
    {
     "name": "stdout",
     "output_type": "stream",
     "text": [
      "Name ['saravanesh', 'parish', 'saissh', 'dhurvank']\n",
      "age [34, 28, 5, 0]\n",
      "gender ['male', 'female', 'male', 'male']\n"
     ]
    }
   ],
   "source": [
    "for key,values in my_dict.items():\n",
    "    print(key,values)"
   ]
  },
  {
   "cell_type": "markdown",
   "id": "6d2a83fb",
   "metadata": {},
   "source": [
    "16.\tWrite a Python program to find the GCD (Greatest Common Divisor) of two numbers using a for loop."
   ]
  },
  {
   "cell_type": "code",
   "execution_count": 66,
   "id": "daa5408d",
   "metadata": {},
   "outputs": [
    {
     "name": "stdout",
     "output_type": "stream",
     "text": [
      "Enter first number: 48\n",
      "Enter second number: 18\n",
      "The GCD of 48 and 18 is 6\n"
     ]
    }
   ],
   "source": [
    "def find_gcd(a, b):\n",
    "    for i in range(min(a, b), 0, -1):\n",
    "        if a % i == 0 and b % i == 0:\n",
    "            return i\n",
    "\n",
    "# Taking user input for two numbers\n",
    "num1 = int(input(\"Enter first number: \"))\n",
    "num2 = int(input(\"Enter second number: \"))\n",
    "\n",
    "gcd = find_gcd(num1, num2)\n",
    "print(f\"The GCD of {num1} and {num2} is {gcd}\")\n"
   ]
  },
  {
   "cell_type": "markdown",
   "id": "e92af4a9",
   "metadata": {},
   "source": [
    "17.\tCreate a Python program that checks if a string is a palindrome using a for loop."
   ]
  },
  {
   "cell_type": "code",
   "execution_count": 72,
   "id": "caefa9af",
   "metadata": {},
   "outputs": [
    {
     "name": "stdout",
     "output_type": "stream",
     "text": [
      "Enter the string to check if its a palindrome : malayalam\n",
      "The input string 'malayalam' is a palindrome\n"
     ]
    }
   ],
   "source": [
    "text = input('Enter the string to check if its a palindrome : ')\n",
    "text_length = len(text)\n",
    "reveresed_str=''\n",
    "\n",
    "for i in range(text_length):\n",
    "    char_reversed = text[text_length - i - 1]\n",
    "    reveresed_str=reveresed_str+char_reversed\n",
    "\n",
    "if text==reveresed_str:\n",
    "    print(f\"The input string '{text}' is a palindrome\")\n",
    "else:\n",
    "    print(f\"The input string '{text}' is not a palindrome\")"
   ]
  },
  {
   "cell_type": "markdown",
   "id": "5e477350",
   "metadata": {},
   "source": [
    "18.\tWrite a Python program to remove duplicates from a list using a for loop."
   ]
  },
  {
   "cell_type": "code",
   "execution_count": 79,
   "id": "6f446bd5",
   "metadata": {},
   "outputs": [
    {
     "name": "stdout",
     "output_type": "stream",
     "text": [
      "Input list before removing the duplicates : [4, 5, 6, 7, 89, 4, 'saissh', 'saissh', 5, ['fcd', 'kiy'], [10, 20, 30]]\n",
      "Input list after removing the duplicates : [6, 7, 89, 4, 'saissh', 5, ['fcd', 'kiy'], [10, 20, 30]]\n"
     ]
    }
   ],
   "source": [
    "inp_lst=[4,5,6,7,89,4,'saissh','saissh',5,['fcd','kiy'],[10,20,30]]\n",
    "print(f'Input list before removing the duplicates : {inp_lst}')\n",
    "\n",
    "for items in inp_lst:\n",
    "    if inp_lst.count(items)>1:\n",
    "        inp_lst.remove(items)\n",
    "print(f'Input list after removing the duplicates : {inp_lst}')"
   ]
  },
  {
   "cell_type": "code",
   "execution_count": 81,
   "id": "d651b090",
   "metadata": {},
   "outputs": [
    {
     "name": "stdout",
     "output_type": "stream",
     "text": [
      "The input list before duplicate removal : [4, 5, 6, 7, 89, 4, 'saissh', 'saissh', 5, ['fcd', 'kiy'], [10, 20, 30]]\n",
      "The input list after duplicate removal : [4, 5, 6, 7, 89, 'saissh', ['fcd', 'kiy'], [10, 20, 30]]\n"
     ]
    }
   ],
   "source": [
    "inp_lst=[4,5,6,7,89,4,'saissh','saissh',5,['fcd','kiy'],[10,20,30]]\n",
    "unique_lst=list()\n",
    "\n",
    "for items in inp_lst:\n",
    "    if items not in unique_lst:\n",
    "        unique_lst.append(items)\n",
    "\n",
    "print(f'The input list before duplicate removal : {inp_lst}')\n",
    "print(f'The input list after duplicate removal : {unique_lst}')"
   ]
  },
  {
   "cell_type": "markdown",
   "id": "b9531ee8",
   "metadata": {},
   "source": [
    "19.\tCreate a Python program that counts the number of words in a sentence using a for loop."
   ]
  },
  {
   "cell_type": "code",
   "execution_count": 87,
   "id": "8395273c",
   "metadata": {},
   "outputs": [
    {
     "name": "stdout",
     "output_type": "stream",
     "text": [
      "Number of words: 10\n"
     ]
    }
   ],
   "source": [
    "import re\n",
    "\n",
    "sentence = \"hello how are you ? Hope everything is fine with you ???.\"\n",
    "\n",
    "# Remove special characters and split the sentence into words\n",
    "words = re.findall(r'\\b\\w+\\b', sentence)\n",
    "\n",
    "num_words = len(words)\n",
    "\n",
    "print(\"Number of words:\", num_words)\n"
   ]
  },
  {
   "cell_type": "markdown",
   "id": "6e25665e",
   "metadata": {},
   "source": [
    "20.\tWrite a Python program to find the sum of all odd numbers from 1 to 50 using a for loop."
   ]
  },
  {
   "cell_type": "code",
   "execution_count": 89,
   "id": "7383dd29",
   "metadata": {},
   "outputs": [
    {
     "name": "stdout",
     "output_type": "stream",
     "text": [
      "list of odd numbers between 1 to 50\n",
      "1\n",
      "3\n",
      "5\n",
      "7\n",
      "9\n",
      "11\n",
      "13\n",
      "15\n",
      "17\n",
      "19\n",
      "21\n",
      "23\n",
      "25\n",
      "27\n",
      "29\n",
      "31\n",
      "33\n",
      "35\n",
      "37\n",
      "39\n",
      "41\n",
      "43\n",
      "45\n",
      "47\n",
      "49\n"
     ]
    }
   ],
   "source": [
    "print('list of odd numbers between 1 to 50')\n",
    "for num in range(1,51):\n",
    "    if num%2!=0:\n",
    "        print(num)"
   ]
  },
  {
   "cell_type": "markdown",
   "id": "d939115c",
   "metadata": {},
   "source": [
    "21.\tWrite a Python program that checks if a given year is a leap year using a for loop."
   ]
  },
  {
   "cell_type": "code",
   "execution_count": 90,
   "id": "3af05e88",
   "metadata": {},
   "outputs": [
    {
     "name": "stdout",
     "output_type": "stream",
     "text": [
      "2020 is a leap year.\n",
      "2021 is not a leap year.\n",
      "1900 is not a leap year.\n",
      "2000 is a leap year.\n"
     ]
    }
   ],
   "source": [
    "def is_leap_year(year):\n",
    "    if (year % 4 == 0 and year % 100 != 0) or (year % 400 == 0):\n",
    "        return True\n",
    "    else:\n",
    "        return False\n",
    "\n",
    "# Test cases\n",
    "years_to_check = [2020, 2021, 1900, 2000]\n",
    "\n",
    "for year in years_to_check:\n",
    "    if is_leap_year(year):\n",
    "        print(f\"{year} is a leap year.\")\n",
    "    else:\n",
    "        print(f\"{year} is not a leap year.\")"
   ]
  },
  {
   "cell_type": "markdown",
   "id": "f8579ca7",
   "metadata": {},
   "source": [
    "22.\tCreate a Python program that calculates the square root of a number using a for loop."
   ]
  },
  {
   "cell_type": "code",
   "execution_count": 99,
   "id": "ad34967d",
   "metadata": {},
   "outputs": [
    {
     "name": "stdout",
     "output_type": "stream",
     "text": [
      "Square root of 1500 is approximately 38.72983346207417\n"
     ]
    }
   ],
   "source": [
    "def square_root(number, iterations=100):\n",
    "    approx = number / 2  # Initial approximation\n",
    "    for _ in range(iterations):\n",
    "        approx = (approx + number / approx) / 2  # Newton's method for square root approximation\n",
    "    return approx\n",
    "\n",
    "# Example usage:\n",
    "number = 1500\n",
    "approximated_sqrt = square_root(number)\n",
    "print(\"Square root of\", number, \"is approximately\", approximated_sqrt)\n"
   ]
  },
  {
   "cell_type": "markdown",
   "id": "a8dcd3e5",
   "metadata": {},
   "source": [
    "23.\tWrite a Python program to find the LCM (Least Common Multiple) of two numbers using a for loop."
   ]
  },
  {
   "cell_type": "code",
   "execution_count": 100,
   "id": "ae48748f",
   "metadata": {},
   "outputs": [
    {
     "name": "stdout",
     "output_type": "stream",
     "text": [
      "The LCM of 4 and 6 is 12\n"
     ]
    }
   ],
   "source": [
    "def lcm(a, b):\n",
    "    max_num = max(a, b)  # Get the larger of the two numbers\n",
    "    lcm = 0\n",
    "\n",
    "    # Start iterating from the larger number onwards\n",
    "    for i in range(max_num, a * b + 1, max_num):\n",
    "        if i % a == 0 and i % b == 0:\n",
    "            lcm = i\n",
    "            break\n",
    "\n",
    "    return lcm\n",
    "\n",
    "# Example usage:\n",
    "num1 = 4\n",
    "num2 = 6\n",
    "result = lcm(num1, num2)\n",
    "print(f\"The LCM of {num1} and {num2} is {result}\")\n"
   ]
  },
  {
   "cell_type": "markdown",
   "id": "83826806",
   "metadata": {},
   "source": [
    "## If else :"
   ]
  },
  {
   "cell_type": "markdown",
   "id": "7f47602d",
   "metadata": {},
   "source": [
    "1.\tWrite a Python program to check if a number is positive, negative, or zero using an if-else statement."
   ]
  },
  {
   "cell_type": "code",
   "execution_count": 103,
   "id": "366f8f26",
   "metadata": {},
   "outputs": [
    {
     "name": "stdout",
     "output_type": "stream",
     "text": [
      "Enter a number to check if its positive/negative/zero : -90\n",
      "The input number -90 is negative\n"
     ]
    }
   ],
   "source": [
    "inp_num=int(input('Enter a number to check if its positive/negative/zero : '))\n",
    "\n",
    "if inp_num<0:\n",
    "    print(f'The input number {inp_num} is negative')\n",
    "elif inp_num>0:\n",
    "    print(f'The input number {inp_num} is positive')\n",
    "elif inp_num==0:\n",
    "    print(f'The input number {inp_num} is zero')\n",
    "else:\n",
    "    print('Provide a proper input')"
   ]
  },
  {
   "cell_type": "markdown",
   "id": "324af53d",
   "metadata": {},
   "source": [
    "2.\tCreate a Python program that checks if a given number is even or odd using an if-else statement."
   ]
  },
  {
   "cell_type": "code",
   "execution_count": 104,
   "id": "75c8d49e",
   "metadata": {},
   "outputs": [
    {
     "name": "stdout",
     "output_type": "stream",
     "text": [
      "Enter the number to check if its even/odd : 45\n",
      "The input num 45 is odd\n"
     ]
    }
   ],
   "source": [
    "inp_num=int(input('Enter the number to check if its even/odd : '))\n",
    "\n",
    "if inp_num%2 == 0:\n",
    "    print(f'The input num {inp_num} is an even number')\n",
    "else:\n",
    "    print(f'The input num {inp_num} is odd')"
   ]
  },
  {
   "cell_type": "markdown",
   "id": "9db32f8f",
   "metadata": {},
   "source": [
    "3.\tHow can you use nested if-else statements in Python, and provide an example?"
   ]
  },
  {
   "cell_type": "code",
   "execution_count": 105,
   "id": "eca3962e",
   "metadata": {},
   "outputs": [
    {
     "name": "stdout",
     "output_type": "stream",
     "text": [
      "Check the storage area B, rack no. 1 to 5\n"
     ]
    }
   ],
   "source": [
    "inp_str1='food'\n",
    "inp_str2='groceries'\n",
    "\n",
    "if inp_str1=='food':\n",
    "    if inp_str2=='snacks':\n",
    "        print('Check the storage area A, rack no. 10')\n",
    "    elif inp_str2=='bicuits':\n",
    "        print('Check the storage area A, rack no. 15')\n",
    "    elif inp_str2=='groceries':\n",
    "        print('Check the storage area B, rack no. 1 to 5')\n",
    "    else:\n",
    "        print('The item is currently not available')\n",
    "elif inp_str1=='beverages':\n",
    "    if inp_str2=='soft drinks':\n",
    "        print('Check the stroage area C and rack no. 19')\n",
    "    elif inp_str2=='hot drinks':\n",
    "        print('Check the stroage area C and rack no. 23')\n",
    "    else:\n",
    "        print('The beverage is currently out of stock')\n",
    "else:\n",
    "    print('provide a provide input to validate')"
   ]
  },
  {
   "cell_type": "markdown",
   "id": "fc096575",
   "metadata": {},
   "source": [
    "4.\tWrite a Python program to determine the largest of three numbers using if-else."
   ]
  },
  {
   "cell_type": "code",
   "execution_count": 111,
   "id": "3cf7f906",
   "metadata": {},
   "outputs": [
    {
     "name": "stdout",
     "output_type": "stream",
     "text": [
      "The 200000 is the largest among (-100, 200000, 10000)\n"
     ]
    }
   ],
   "source": [
    "inp_num1=-100\n",
    "inp_num2=200000\n",
    "inp_num3=10000\n",
    "\n",
    "if inp_num1>inp_num2:\n",
    "    if inp_num1>inp_num3:\n",
    "        print(f'The {inp_num1} is the largest among {inp_num1,inp_num2,inp_num3}')\n",
    "    else:\n",
    "        print(f'The {inp_num3} is the largest among {inp_num1,inp_num2,inp_num3}')\n",
    "elif inp_num2>inp_num3:\n",
    "    print(f'The {inp_num2} is the largest among {inp_num1,inp_num2,inp_num3}')\n",
    "else:\n",
    "    print(f'The {inp_num3} is the largest among {inp_num1,inp_num2,inp_num3}')"
   ]
  },
  {
   "cell_type": "markdown",
   "id": "8018ef85",
   "metadata": {},
   "source": [
    "5.\tWrite a Python program that calculates the absolute value of a number using if-else."
   ]
  },
  {
   "cell_type": "code",
   "execution_count": 114,
   "id": "d6a3dc61",
   "metadata": {},
   "outputs": [
    {
     "name": "stdout",
     "output_type": "stream",
     "text": [
      "Enter the number to get its absolute value : -45\n",
      "The absolute value of the -45 is 45.0\n"
     ]
    }
   ],
   "source": [
    "inp_num=input('Enter the number to get its absolute value : ')\n",
    "\n",
    "if inp_num[0]=='-':\n",
    "    inp_num_new=float(inp_num[1:])\n",
    "    print(f'The absolute value of the {inp_num} is {inp_num_new}')\n",
    "else:\n",
    "    inp_num_new=float(inp_num)\n",
    "    print(f'The absolute value of the {inp_num} is {inp_num_new}')"
   ]
  },
  {
   "cell_type": "markdown",
   "id": "e66e6b4a",
   "metadata": {},
   "source": [
    "6.\tCreate a Python program that checks if a given character is a vowel or consonant using if-else."
   ]
  },
  {
   "cell_type": "code",
   "execution_count": 117,
   "id": "2d73cd1d",
   "metadata": {},
   "outputs": [
    {
     "name": "stdout",
     "output_type": "stream",
     "text": [
      "Enter the character to check if its a vowel or a consonant : y\n",
      "The character y is a consonant\n"
     ]
    }
   ],
   "source": [
    "inp_char=input('Enter the character to check if its a vowel or a consonant : ')\n",
    "\n",
    "if inp_char in 'aeiou':\n",
    "    print(f'The character {inp_char} is a vowel')\n",
    "else:\n",
    "    print(f'The character {inp_char} is a consonant')"
   ]
  },
  {
   "cell_type": "markdown",
   "id": "995f51a7",
   "metadata": {},
   "source": [
    "7.\tWrite a Python program to determine if a user is eligible to vote based on their age using if-else."
   ]
  },
  {
   "cell_type": "code",
   "execution_count": 121,
   "id": "d27de0d2",
   "metadata": {},
   "outputs": [
    {
     "name": "stdout",
     "output_type": "stream",
     "text": [
      "Enter the age to check their voting eligibility : 23\n",
      "The candidate is eligible to vote\n"
     ]
    }
   ],
   "source": [
    "inp_age=int(input('Enter the age to check their voting eligibility : '))\n",
    "\n",
    "if inp_age >=18 and inp_age<=100:\n",
    "    print(f'The candidate is eligible to vote')\n",
    "elif inp_age>0 and inp_age<18:\n",
    "    print(f'The candidate is not eligible to vote')\n",
    "else:\n",
    "    print(f'Provide a proper age. The input age {inp_age} is inappropriate')"
   ]
  },
  {
   "cell_type": "markdown",
   "id": "f63e0fec",
   "metadata": {},
   "source": [
    "8.\tCreate a Python program that calculates the discount amount based on the purchase amount using if-else."
   ]
  },
  {
   "cell_type": "code",
   "execution_count": 122,
   "id": "af903bc9",
   "metadata": {},
   "outputs": [],
   "source": [
    "def discount_on_price(price):\n",
    "    if price>=7000 and price<10000:\n",
    "        print(f\"20% discount on price {price}: \", (price*(20/100)))\n",
    "    elif price>=5000 and price<7000:\n",
    "        print(f\"15% discount on price {price}: \", (price*(15/100)))\n",
    "    elif price>=2000 and price<5000:\n",
    "        print(f\"10% discount on price {price}: \", (price*(10/100)))\n",
    "    else:\n",
    "        print(f\"No discount for the price {price}\")"
   ]
  },
  {
   "cell_type": "code",
   "execution_count": 123,
   "id": "dbdd5775",
   "metadata": {},
   "outputs": [
    {
     "name": "stdout",
     "output_type": "stream",
     "text": [
      "No discount for the price 100\n",
      "15% discount on price 5000:  750.0\n",
      "15% discount on price 6700:  1005.0\n",
      "20% discount on price 8000:  1600.0\n"
     ]
    }
   ],
   "source": [
    "discount_on_price(100)\n",
    "discount_on_price(5000)\n",
    "discount_on_price(6700)\n",
    "discount_on_price(8000)"
   ]
  },
  {
   "cell_type": "markdown",
   "id": "a172a142",
   "metadata": {},
   "source": [
    "9.\tWrite a Python program to check if a number is within a specified range using if-else."
   ]
  },
  {
   "cell_type": "code",
   "execution_count": 144,
   "id": "774d6e8c",
   "metadata": {},
   "outputs": [
    {
     "name": "stdout",
     "output_type": "stream",
     "text": [
      "Enter the range of numbers seperated by comma : 5,20\n",
      "Enter the number to check : 6\n",
      "The number 6.0 is within the provided range of number 5,20\n"
     ]
    }
   ],
   "source": [
    "num_range=input('Enter the range of numbers seperated by comma : ')\n",
    "num_check=float(input('Enter the number to check : '))\n",
    "new_range=[int(num) for num in num_range.split(',')]\n",
    "\n",
    "if num_check>=min(new_range) and num_check<=max(new_range):\n",
    "    print(f'The number {num_check} is within the provided range of number {num_range}')\n",
    "else:\n",
    "    print(f'The number {num_check} is not within the provided range of number {num_range}')"
   ]
  },
  {
   "cell_type": "markdown",
   "id": "b45a0550",
   "metadata": {},
   "source": [
    "10.\tCreate a Python program that determines the grade of a student based on their score using if-else."
   ]
  },
  {
   "cell_type": "code",
   "execution_count": 145,
   "id": "25b3c5ec",
   "metadata": {},
   "outputs": [
    {
     "name": "stdout",
     "output_type": "stream",
     "text": [
      "Enter the student score to check the grade :79\n",
      "The students grade is B\n"
     ]
    }
   ],
   "source": [
    "inp_score=int(input('Enter the student score to check the grade :'))\n",
    "\n",
    "if inp_score>95 and inp_score<100:\n",
    "    print('The students grade is A+')\n",
    "elif inp_score>90 and inp_score<95:\n",
    "    print('The students grade is A')\n",
    "elif inp_score>75 and inp_score<90:\n",
    "    print('The students grade is B')\n",
    "elif inp_score>50 and inp_score<75:\n",
    "    print('The students grade is C')\n",
    "else:\n",
    "    print('The student has failed')"
   ]
  },
  {
   "cell_type": "markdown",
   "id": "66634467",
   "metadata": {},
   "source": [
    "11.\tWrite a Python program to check if a string is empty or not using if-else."
   ]
  },
  {
   "cell_type": "code",
   "execution_count": 153,
   "id": "fb431636",
   "metadata": {},
   "outputs": [
    {
     "name": "stdout",
     "output_type": "stream",
     "text": [
      "Enter the string to check if its empty or not : \n",
      "The input string  is empty\n"
     ]
    }
   ],
   "source": [
    "inp_str=input('Enter the string to check if its empty or not : ')\n",
    "\n",
    "if len(inp_str)==0 or inp_str=='':\n",
    "    print(f\"The input string {inp_str} is empty\")\n",
    "else:\n",
    "    print(f\"The length of input string is not empty, it is {len(inp_str)}\")"
   ]
  },
  {
   "cell_type": "markdown",
   "id": "47a27cd2",
   "metadata": {},
   "source": [
    "12.\tCreate a Python program that identifies the type of a triangle (e.g., equilateral, isosceles, or scalene) based on input values using if-else."
   ]
  },
  {
   "cell_type": "code",
   "execution_count": 154,
   "id": "7f35f36e",
   "metadata": {},
   "outputs": [
    {
     "name": "stdout",
     "output_type": "stream",
     "text": [
      "Enter length of side 1: 10\n",
      "Enter length of side 2: 10\n",
      "Enter length of side 3: 10\n",
      "The triangle is Equilateral.\n"
     ]
    }
   ],
   "source": [
    "def triangle_type(side1, side2, side3):\n",
    "    if side1 == side2 == side3:\n",
    "        return \"Equilateral\"\n",
    "    elif side1 == side2 or side1 == side3 or side2 == side3:\n",
    "        return \"Isosceles\"\n",
    "    else:\n",
    "        return \"Scalene\"\n",
    "\n",
    "# Taking input for sides of the triangle\n",
    "side1 = float(input(\"Enter length of side 1: \"))\n",
    "side2 = float(input(\"Enter length of side 2: \"))\n",
    "side3 = float(input(\"Enter length of side 3: \"))\n",
    "\n",
    "# Checking the type of triangle\n",
    "result = triangle_type(side1, side2, side3)\n",
    "print(f\"The triangle is {result}.\")"
   ]
  },
  {
   "cell_type": "markdown",
   "id": "bf19653b",
   "metadata": {},
   "source": [
    "13.\tWrite a Python program to determine the day of the week based on a user-provided number using if-else."
   ]
  },
  {
   "cell_type": "code",
   "execution_count": 155,
   "id": "3d2acc8f",
   "metadata": {},
   "outputs": [],
   "source": [
    "def day_of_week(inp_day):\n",
    "    if inp_day==1:\n",
    "        print('1 for Monday')\n",
    "    elif inp_day==2:\n",
    "        print('2 for Tuesday')\n",
    "    elif inp_day==3:\n",
    "        print('3 for Wednesday')\n",
    "    elif inp_day==4:\n",
    "        print('4 for Thursday')\n",
    "    elif inp_day==5:\n",
    "        print('5 for Friday')\n",
    "    elif inp_day==6:\n",
    "        print('6 for Saturday')\n",
    "    elif inp_day==7:\n",
    "        print('7 for Sunday')\n",
    "    else:\n",
    "        print('Provide a proper input for date')"
   ]
  },
  {
   "cell_type": "code",
   "execution_count": 156,
   "id": "7080bad4",
   "metadata": {},
   "outputs": [
    {
     "name": "stdout",
     "output_type": "stream",
     "text": [
      "5 for Friday\n"
     ]
    }
   ],
   "source": [
    "day_of_week(5)"
   ]
  },
  {
   "cell_type": "markdown",
   "id": "7735751f",
   "metadata": {},
   "source": [
    "14.\tCreate a Python program that checks if a given year is a leap year using both if-else and a function."
   ]
  },
  {
   "cell_type": "code",
   "execution_count": 157,
   "id": "d3947cbf",
   "metadata": {},
   "outputs": [
    {
     "name": "stdout",
     "output_type": "stream",
     "text": [
      "2020 is a leap year.\n",
      "2021 is not a leap year.\n",
      "1900 is not a leap year.\n",
      "2000 is a leap year.\n"
     ]
    }
   ],
   "source": [
    "def is_leap_year(year):\n",
    "    if (year % 4 == 0 and year % 100 != 0) or (year % 400 == 0):\n",
    "        return True\n",
    "    else:\n",
    "        return False\n",
    "\n",
    "# Test cases\n",
    "years_to_check = [2020, 2021, 1900, 2000]\n",
    "\n",
    "for year in years_to_check:\n",
    "    if is_leap_year(year):\n",
    "        print(f\"{year} is a leap year.\")\n",
    "    else:\n",
    "        print(f\"{year} is not a leap year.\")"
   ]
  },
  {
   "cell_type": "markdown",
   "id": "427e6b97",
   "metadata": {},
   "source": [
    "15.\tHow do you use the \"assert\" statement in Python to add debugging checks within if-else blocks?"
   ]
  },
  {
   "cell_type": "code",
   "execution_count": 161,
   "id": "a417695b",
   "metadata": {},
   "outputs": [
    {
     "ename": "AssertionError",
     "evalue": "value of b should not be zero",
     "output_type": "error",
     "traceback": [
      "\u001b[1;31m---------------------------------------------------------------------------\u001b[0m",
      "\u001b[1;31mAssertionError\u001b[0m                            Traceback (most recent call last)",
      "Cell \u001b[1;32mIn[161], line 4\u001b[0m\n\u001b[0;32m      1\u001b[0m a\u001b[38;5;241m=\u001b[39m\u001b[38;5;241m15\u001b[39m\n\u001b[0;32m      2\u001b[0m b\u001b[38;5;241m=\u001b[39m\u001b[38;5;241m0\u001b[39m\n\u001b[1;32m----> 4\u001b[0m \u001b[38;5;28;01massert\u001b[39;00m b\u001b[38;5;241m!=\u001b[39m\u001b[38;5;241m0\u001b[39m,\u001b[38;5;124m\"\u001b[39m\u001b[38;5;124mvalue of b should not be zero\u001b[39m\u001b[38;5;124m\"\u001b[39m\n\u001b[0;32m      5\u001b[0m div_val\u001b[38;5;241m=\u001b[39ma\u001b[38;5;241m/\u001b[39mb\n",
      "\u001b[1;31mAssertionError\u001b[0m: value of b should not be zero"
     ]
    }
   ],
   "source": [
    "a=15\n",
    "b=0\n",
    "\n",
    "assert b!=0,\"value of b should not be zero\"\n",
    "div_val=a/b"
   ]
  },
  {
   "cell_type": "markdown",
   "id": "3a5909b2",
   "metadata": {},
   "source": [
    "16.\tCreate a Python program that determines the eligibility of a person for a senior citizen discount based on age using if-else."
   ]
  },
  {
   "cell_type": "code",
   "execution_count": 165,
   "id": "6c9820b2",
   "metadata": {},
   "outputs": [
    {
     "name": "stdout",
     "output_type": "stream",
     "text": [
      "Enter the age of the individual to check if he/she is eligible for senior citizen discount : 70\n",
      "The person is eligible for senior citizen discount\n"
     ]
    }
   ],
   "source": [
    "inp_age=int(input('Enter the age of the individual to check if he/she is eligible for senior citizen discount : '))\n",
    "\n",
    "if inp_age>=60 and inp_age<=100:\n",
    "    print('The person is eligible for senior citizen discount')\n",
    "elif inp_age>0 and inp_age<60:\n",
    "    print('The person is not eligible for senior citizen discount')\n",
    "else:\n",
    "    print('Provide a proper age')"
   ]
  },
  {
   "cell_type": "markdown",
   "id": "b31bf436",
   "metadata": {},
   "source": [
    "17.\tWrite a Python program to categorize a given character as uppercase, lowercase, or neither using if-else."
   ]
  },
  {
   "cell_type": "code",
   "execution_count": 169,
   "id": "da1179b1",
   "metadata": {},
   "outputs": [
    {
     "name": "stdout",
     "output_type": "stream",
     "text": [
      "Enter a character to categorize : j\n"
     ]
    }
   ],
   "source": [
    "def inp_char_eval(inp_char):\n",
    "    if inp_char.isupper():\n",
    "        print(f'The input character {inp_char} is in upper case')\n",
    "    elif inp_char.islower():\n",
    "        print(f'The input character {inp_char} is in lower case')\n",
    "    else:\n",
    "        print(f'The input character {inp_char} is neither upper or lower case')"
   ]
  },
  {
   "cell_type": "code",
   "execution_count": 170,
   "id": "95dcf6c3",
   "metadata": {},
   "outputs": [
    {
     "name": "stdout",
     "output_type": "stream",
     "text": [
      "The input character j is in lower case\n",
      "The input character K is in upper case\n",
      "The input character & is neither upper or lower case\n"
     ]
    }
   ],
   "source": [
    "inp_char_eval('j')\n",
    "inp_char_eval('K')\n",
    "inp_char_eval('&')"
   ]
  },
  {
   "cell_type": "markdown",
   "id": "f8b6e13e",
   "metadata": {},
   "source": [
    "18.\tWrite a Python program to determine the roots of a quadratic equation using if-else."
   ]
  },
  {
   "cell_type": "code",
   "execution_count": 171,
   "id": "55989814",
   "metadata": {},
   "outputs": [
    {
     "name": "stdout",
     "output_type": "stream",
     "text": [
      "Enter coefficient a: 10\n",
      "Enter coefficient b: 10\n",
      "Enter coefficient c: 20\n",
      "The roots of the quadratic equation are: (-0.5+1.3228756555322954j) and (-0.5-1.3228756555322954j)\n"
     ]
    }
   ],
   "source": [
    "import cmath  # Importing the complex math module\n",
    "\n",
    "def quadratic_roots(a, b, c):\n",
    "    # Calculate the discriminant\n",
    "    discriminant = (b ** 2) - (4 * a * c)\n",
    "\n",
    "    # Calculate the roots using the quadratic formula\n",
    "    root1 = (-b + cmath.sqrt(discriminant)) / (2 * a)\n",
    "    root2 = (-b - cmath.sqrt(discriminant)) / (2 * a)\n",
    "\n",
    "    return root1, root2\n",
    "\n",
    "# Input coefficients of the quadratic equation\n",
    "a = float(input(\"Enter coefficient a: \"))\n",
    "b = float(input(\"Enter coefficient b: \"))\n",
    "c = float(input(\"Enter coefficient c: \"))\n",
    "\n",
    "# Calculate and display the roots\n",
    "root1, root2 = quadratic_roots(a, b, c)\n",
    "print(f\"The roots of the quadratic equation are: {root1} and {root2}\")\n"
   ]
  },
  {
   "cell_type": "markdown",
   "id": "019a3cb7",
   "metadata": {},
   "source": [
    "19.\tCreate a Python program that checks if a given year is a century year or not using if-else."
   ]
  },
  {
   "cell_type": "code",
   "execution_count": 174,
   "id": "b96fbee7",
   "metadata": {},
   "outputs": [
    {
     "name": "stdout",
     "output_type": "stream",
     "text": [
      "Enter the year to check if its century year or not : 2000\n",
      "The 2000 is not a century year\n"
     ]
    }
   ],
   "source": [
    "inp_year=int(input('Enter the year to check if its century year or not : '))\n",
    "\n",
    "if inp_year%100 == 0 and inp_year%1000!=0:\n",
    "    print(f'The {inp_year} is a century year')\n",
    "else:\n",
    "    print(f'The {inp_year} is not a century year')"
   ]
  },
  {
   "cell_type": "markdown",
   "id": "e9aa98df",
   "metadata": {},
   "source": [
    "20.\tWrite a Python program to determine if a given number is a perfect square using if-else."
   ]
  },
  {
   "cell_type": "code",
   "execution_count": 176,
   "id": "5891b8f6",
   "metadata": {},
   "outputs": [],
   "source": [
    "import math\n",
    "\n",
    "def is_perfect_square(num):\n",
    "    sqrt_num = math.sqrt(num)\n",
    "    \n",
    "    if sqrt_num.is_integer():\n",
    "        print(f\"{num} is a perfect square\")\n",
    "    else:\n",
    "        print(f\"{num} is not a perfect square\")"
   ]
  },
  {
   "cell_type": "code",
   "execution_count": 178,
   "id": "9b111587",
   "metadata": {},
   "outputs": [
    {
     "name": "stdout",
     "output_type": "stream",
     "text": [
      "24 is not a perfect square\n"
     ]
    }
   ],
   "source": [
    "number = 24  \n",
    "is_perfect_square(number)"
   ]
  },
  {
   "cell_type": "markdown",
   "id": "02b4aaeb",
   "metadata": {},
   "source": [
    "21.\tExplain the purpose of the \"continue\" and \"break\" statements within if-else loops."
   ]
  },
  {
   "cell_type": "code",
   "execution_count": 180,
   "id": "3c8d7440",
   "metadata": {},
   "outputs": [
    {
     "name": "stdout",
     "output_type": "stream",
     "text": [
      "1\n",
      "2\n",
      "3\n",
      "4\n",
      "5\n",
      "6\n",
      "7\n",
      "8\n",
      "9\n",
      "Reached number 10, hence breaking here\n"
     ]
    }
   ],
   "source": [
    "for num in range(1,21):\n",
    "    if num==10:\n",
    "        print('Reached number 10, hence breaking here')\n",
    "        break\n",
    "    else:\n",
    "        print(num)\n",
    "        continue"
   ]
  },
  {
   "cell_type": "markdown",
   "id": "bd80b04d",
   "metadata": {},
   "source": [
    "22.\tCreate a Python program that calculates the BMI (Body Mass Index) of a person based on their weight and height using if-else."
   ]
  },
  {
   "cell_type": "code",
   "execution_count": 183,
   "id": "8db95d31",
   "metadata": {},
   "outputs": [],
   "source": [
    "def bmi_calculator(weight,height):\n",
    "    \"\"\"\n",
    "    This function calculates the bmi of a person. \n",
    "    input parameters are,\n",
    "    weight : float, in Kgs\n",
    "    height : float, in metres\n",
    "    \"\"\"\n",
    "    bmi=(weight/(height**2))\n",
    "    if bmi<18.5:\n",
    "        print('underweight')\n",
    "    elif bmi>=18.5 and bmi<24.9:\n",
    "        print('normal weight')\n",
    "    elif bmi>=25 and bmi<29.9:\n",
    "        print('Overweight')\n",
    "    elif bmi>=30:\n",
    "        print('Obese')"
   ]
  },
  {
   "cell_type": "code",
   "execution_count": 182,
   "id": "ba109d58",
   "metadata": {},
   "outputs": [
    {
     "name": "stdout",
     "output_type": "stream",
     "text": [
      "Overweight\n"
     ]
    }
   ],
   "source": [
    "bmi_calculator(92,1.76)"
   ]
  },
  {
   "cell_type": "markdown",
   "id": "8c369ab7",
   "metadata": {},
   "source": [
    "23.\tHow can you use the \"filter()\" function with if-else statements to filter elements from a list?"
   ]
  },
  {
   "cell_type": "code",
   "execution_count": 190,
   "id": "1a4416da",
   "metadata": {},
   "outputs": [
    {
     "data": {
      "text/plain": [
       "[20, 30]"
      ]
     },
     "execution_count": 190,
     "metadata": {},
     "output_type": "execute_result"
    }
   ],
   "source": [
    "list(filter(lambda x : x if x>10 else False, [10,20,30]))"
   ]
  },
  {
   "cell_type": "markdown",
   "id": "deb277c0",
   "metadata": {},
   "source": [
    "24.\tWrite a Python program to determine if a given number is prime or not using if-else."
   ]
  },
  {
   "cell_type": "code",
   "execution_count": 191,
   "id": "7387d4fe",
   "metadata": {},
   "outputs": [],
   "source": [
    "def prime_num_check(inp_num):\n",
    "    if inp_num%inp_num==0 and inp_num%1==0 and inp_num%2!=0:\n",
    "        print('The number is Prime number')\n",
    "    elif inp_num==2:\n",
    "        print('The number is Prime number')\n",
    "    else:\n",
    "        print('The number is not a prime number')"
   ]
  },
  {
   "cell_type": "code",
   "execution_count": 192,
   "id": "5a9cce27",
   "metadata": {},
   "outputs": [
    {
     "name": "stdout",
     "output_type": "stream",
     "text": [
      "The number is Prime number\n"
     ]
    }
   ],
   "source": [
    "prime_num_check(1)"
   ]
  },
  {
   "cell_type": "code",
   "execution_count": 195,
   "id": "65c68fdd",
   "metadata": {},
   "outputs": [
    {
     "name": "stdout",
     "output_type": "stream",
     "text": [
      "The number is Prime number\n"
     ]
    }
   ],
   "source": [
    "prime_num_check(2)"
   ]
  },
  {
   "cell_type": "markdown",
   "id": "71e4ad09",
   "metadata": {},
   "source": [
    "## Map :-"
   ]
  },
  {
   "cell_type": "markdown",
   "id": "ac4a197b",
   "metadata": {},
   "source": [
    "1.\tExplain the purpose of the `map()` function in Python and provide an example of how it can be used to apply a function to each element of an iterable."
   ]
  },
  {
   "cell_type": "markdown",
   "id": "c3f05d2d",
   "metadata": {},
   "source": [
    "map function is used to apply a particular function to a iterable."
   ]
  },
  {
   "cell_type": "code",
   "execution_count": 207,
   "id": "5efbe47c",
   "metadata": {},
   "outputs": [],
   "source": [
    "map_obj=map(lambda x : x**2 , [2,3,4,5,6])"
   ]
  },
  {
   "cell_type": "code",
   "execution_count": 208,
   "id": "37d16ec8",
   "metadata": {},
   "outputs": [
    {
     "data": {
      "text/plain": [
       "[4, 9, 16, 25, 36]"
      ]
     },
     "execution_count": 208,
     "metadata": {},
     "output_type": "execute_result"
    }
   ],
   "source": [
    "list(map_obj)"
   ]
  },
  {
   "cell_type": "markdown",
   "id": "60ff6af0",
   "metadata": {},
   "source": [
    "2.\tWrite a Python program that uses the `map()` function to square each element of a list of numbers."
   ]
  },
  {
   "cell_type": "code",
   "execution_count": 209,
   "id": "38703ec9",
   "metadata": {},
   "outputs": [
    {
     "name": "stdout",
     "output_type": "stream",
     "text": [
      "[4, 9, 16, 25, 36]\n"
     ]
    }
   ],
   "source": [
    "map_obj=map(lambda x : x**2 , [2,3,4,5,6])\n",
    "result = list(map_obj)\n",
    "print(result)"
   ]
  },
  {
   "cell_type": "markdown",
   "id": "d7ce35ae",
   "metadata": {},
   "source": [
    "3.\tHow does the `map()` function differ from a list comprehension in Python, and when would you choose one over the other?"
   ]
  },
  {
   "cell_type": "markdown",
   "id": "8fe9bc8b",
   "metadata": {},
   "source": [
    "Both map() and list comprehensions are used for applying transformations to iterables in Python, but they differ in their approach and usage.\n",
    "\n",
    "### map() function:\n",
    "Returns an iterator: map() returns an iterator that computes the results on-the-fly as they're needed.\n",
    "Applies a function: It applies a specified function to each item of an iterable, providing the transformed values.\n",
    "Requires a function: It usually requires a function (like lambda or a defined function) for transformation.\n",
    "Readability: It can be less readable for complex transformations compared to list comprehensions.\n",
    "\n",
    "### List comprehension:\n",
    "Creates a new list: List comprehensions directly create a new list containing the transformed elements.\n",
    "Offers readability: Often considered more readable and concise, especially for simple transformations.\n",
    "Allows conditionals: List comprehensions can incorporate conditions for filtering elements during transformation.\n",
    "Eager evaluation: The list is computed immediately when created.\n",
    "\n",
    "### When to choose one over the other:\n",
    "Readability: For simple transformations, list comprehensions might be more readable and concise.\n",
    "Lazy Evaluation: If you're working with very large datasets or want to conserve memory, map() might be more efficient due to its lazy evaluation.\n",
    "Functional Programming: In scenarios where you're following a more functional programming approach or dealing extensively with functions, map() might align better.\n",
    "\n",
    "In general, the choice between map() and list comprehensions often comes down to personal preference, code readability, and specific requirements of the task at hand. List comprehensions are more versatile and commonly used due to their readability and ease of use, especially for simple transformations. However, map() can be beneficial for specific scenarios where lazy evaluation or functional programming principles are preferred."
   ]
  },
  {
   "cell_type": "markdown",
   "id": "5c4c5d20",
   "metadata": {},
   "source": [
    "4.\tCreate a Python program that uses the `map()` function to convert a list of names to uppercase."
   ]
  },
  {
   "cell_type": "code",
   "execution_count": 212,
   "id": "b05739c5",
   "metadata": {},
   "outputs": [
    {
     "data": {
      "text/plain": [
       "['JBS', 'SAISSH', 'ABC']"
      ]
     },
     "execution_count": 212,
     "metadata": {},
     "output_type": "execute_result"
    }
   ],
   "source": [
    "result=map(lambda x : x.upper(), ['jbs','saissh','ABC'])\n",
    "list(result)"
   ]
  },
  {
   "cell_type": "markdown",
   "id": "822d982e",
   "metadata": {},
   "source": [
    "5.\tWrite a Python program that uses the `map()` function to calculate the length of each word in a list of strings."
   ]
  },
  {
   "cell_type": "code",
   "execution_count": 214,
   "id": "415cbc88",
   "metadata": {},
   "outputs": [
    {
     "data": {
      "text/plain": [
       "[10, 4, 3]"
      ]
     },
     "execution_count": 214,
     "metadata": {},
     "output_type": "execute_result"
    }
   ],
   "source": [
    "len_of_words=map(len,['saravanesh','benz','kia'])\n",
    "list(len_of_words)"
   ]
  },
  {
   "cell_type": "markdown",
   "id": "4a02e76f",
   "metadata": {},
   "source": [
    "6.\tHow can you use the `map()` function to apply a custom function to elements of multiple lists simultaneously in Python?"
   ]
  },
  {
   "cell_type": "code",
   "execution_count": null,
   "id": "7f79c2b3",
   "metadata": {},
   "outputs": [],
   "source": []
  },
  {
   "cell_type": "markdown",
   "id": "5b4d86d9",
   "metadata": {},
   "source": [
    "7.\tCreate a Python program that uses `map()` to convert a list of temperatures from Celsius to Fahrenheit."
   ]
  },
  {
   "cell_type": "code",
   "execution_count": 217,
   "id": "7f727dab",
   "metadata": {},
   "outputs": [],
   "source": [
    "def celsius_to_farenheit(celsius):\n",
    "    fahrenheit=(celsius * (9/5))+32\n",
    "    return round(fahrenheit,2)"
   ]
  },
  {
   "cell_type": "code",
   "execution_count": 218,
   "id": "76c41336",
   "metadata": {},
   "outputs": [
    {
     "data": {
      "text/plain": [
       "[113.0, 122.0, 102.2, 107.6]"
      ]
     },
     "execution_count": 218,
     "metadata": {},
     "output_type": "execute_result"
    }
   ],
   "source": [
    "farenheit_result=map(celsius_to_farenheit,[45,50,39,42])\n",
    "list(farenheit_result)"
   ]
  },
  {
   "cell_type": "markdown",
   "id": "7bcc9e5c",
   "metadata": {},
   "source": [
    "8.\tWrite a Python program that uses the `map()` function to round each element of a list of floating-point numbers to the nearest integer."
   ]
  },
  {
   "cell_type": "code",
   "execution_count": 221,
   "id": "b676b42a",
   "metadata": {},
   "outputs": [
    {
     "data": {
      "text/plain": [
       "[5.3, 5.7, 7.9, 9.3]"
      ]
     },
     "execution_count": 221,
     "metadata": {},
     "output_type": "execute_result"
    }
   ],
   "source": [
    "round_of_elements=map(lambda x: round(x,1),[5.32,5.66,7.89,9.32])\n",
    "list(round_of_elements)"
   ]
  },
  {
   "cell_type": "markdown",
   "id": "f135f3b7",
   "metadata": {},
   "source": [
    "## Reduce"
   ]
  },
  {
   "cell_type": "markdown",
   "id": "f9ac33a1",
   "metadata": {},
   "source": [
    "1.\tWhat is the `reduce()` function in Python, and what module should you import to use it? Provide an example of its basic usage."
   ]
  },
  {
   "cell_type": "markdown",
   "id": "60e201af",
   "metadata": {},
   "source": [
    "The reduce function in Python is a powerful tool for applying a function cumulatively to all elements in an iterable, such as a list or tuple, and returning a single value as the result. This function is particularly useful for tasks like calculating the sum, average, product, maximum, minimum, or any other custom reduction of a collection of elements.\n",
    "\n",
    "Here's a breakdown of the concept and usage of reduce:\n",
    "\n",
    "#### 1. Function and Iterable:\n",
    "\n",
    "reduce takes two arguments:\n",
    "The first argument is a function that defines the operation to be applied cumulatively to each element in the iterable.\n",
    "The second argument is the iterable itself, which can be a list, tuple, string, or any other sequence of elements.\n",
    "The function must be able to accept two arguments:\n",
    "The first argument represents the accumulated result from previous iterations.\n",
    "The second argument represents the current element being processed from the iterable.\n",
    "\n",
    "#### 2. Cumulative Application:\n",
    "\n",
    "The reduce function starts with the first element of the iterable as the initial accumulated result.\n",
    "It then iterates through the remaining elements, applying the provided function to the current accumulated result and the current element at each step.\n",
    "The output of the function for each iteration becomes the new accumulated result for the next iteration.\n",
    "This process continues until all elements in the iterable have been processed.\n",
    "\n",
    "#### 3. Final Result:\n",
    "\n",
    "After iterating through all elements, the final accumulated result is returned by the reduce function.\n",
    "This single value represents the cumulative outcome of applying the function to all elements in the iterable.\n",
    "\n",
    "### 4. Differences with Other Functions:\n",
    "\n",
    "reduce is similar to built-in functions like sum and min but offers more flexibility.\n",
    "It allows using custom functions for any desired reduction operation, while other functions have limited built-in functionality.\n",
    "\n",
    "### 5. Alternatives and Considerations:\n",
    "\n",
    "With newer Python versions, reduce is no longer built-in. The functools.reduce function is recommended to utilize its functionality.\n",
    "Other alternatives include list comprehensions, for loops, and built-in functions, depending on the specific requirement.\n",
    "\n",
    "### 6. Applications:\n",
    "\n",
    "reduce is widely used in various tasks like data analysis, machine learning, and functional programming.\n",
    "It provides a concise and elegant way to perform complex computations on collections of data.\n",
    "\n",
    "### 7. Example of the reduce function"
   ]
  },
  {
   "cell_type": "code",
   "execution_count": 1,
   "id": "3ebd7ee8",
   "metadata": {},
   "outputs": [],
   "source": [
    "from functools import reduce"
   ]
  },
  {
   "cell_type": "code",
   "execution_count": 9,
   "id": "13503b88",
   "metadata": {},
   "outputs": [
    {
     "name": "stdout",
     "output_type": "stream",
     "text": [
      "The minimum value in the list [1, 2, 3, 4, 5] is 1\n"
     ]
    }
   ],
   "source": [
    "def min_of_num(a,b):\n",
    "    \"\"\"\n",
    "    This function finds the minimum of the two values passed as input.\n",
    "    \"\"\"\n",
    "    if a<b:\n",
    "        return a\n",
    "    else:\n",
    "        return b\n",
    "\n",
    "my_data=[1,2,3,4,5]\n",
    "\n",
    "result=reduce(min_of_num,my_data) #The reduce function applies \"min_of_num\" to the each element of the list and finally returns the smallest/minimum element of the list\n",
    "print(f'The minimum value in the list {my_data} is {result}')"
   ]
  },
  {
   "cell_type": "markdown",
   "id": "0404ec79",
   "metadata": {},
   "source": [
    "2.\tWrite a Python program that uses the `reduce()` function to find the product of all elements in a list."
   ]
  },
  {
   "cell_type": "code",
   "execution_count": 10,
   "id": "ca992879",
   "metadata": {},
   "outputs": [],
   "source": [
    "def prod_of_elem(a,b):\n",
    "    \"\"\"\n",
    "    This function performs the product of two numbers a and b\n",
    "    \"\"\"\n",
    "    return a*b"
   ]
  },
  {
   "cell_type": "code",
   "execution_count": 11,
   "id": "2329e412",
   "metadata": {},
   "outputs": [
    {
     "data": {
      "text/plain": [
       "[1, 2, 3, 4, 5]"
      ]
     },
     "execution_count": 11,
     "metadata": {},
     "output_type": "execute_result"
    }
   ],
   "source": [
    "my_data"
   ]
  },
  {
   "cell_type": "code",
   "execution_count": 12,
   "id": "31a6f40d",
   "metadata": {},
   "outputs": [
    {
     "name": "stdout",
     "output_type": "stream",
     "text": [
      "The product of all the elements in the list [1, 2, 3, 4, 5] is 120\n"
     ]
    }
   ],
   "source": [
    "result_of_mul=reduce(prod_of_elem,my_data)\n",
    "print(f'The product of all the elements in the list {my_data} is {result_of_mul}')"
   ]
  },
  {
   "cell_type": "markdown",
   "id": "6d23d55e",
   "metadata": {},
   "source": [
    "3.\tCreate a Python program that uses `reduce()` to find the maximum element in a list of numbers."
   ]
  },
  {
   "cell_type": "code",
   "execution_count": 13,
   "id": "2d25a2fb",
   "metadata": {},
   "outputs": [],
   "source": [
    "def max_elem(a,b):\n",
    "    \"\"\"\n",
    "    This function is used to find the maximum of two elements passed as input.\n",
    "    \"\"\"\n",
    "    if a>b:\n",
    "        return a\n",
    "    else:\n",
    "        return b"
   ]
  },
  {
   "cell_type": "code",
   "execution_count": 14,
   "id": "d193ba6c",
   "metadata": {},
   "outputs": [
    {
     "data": {
      "text/plain": [
       "[1, 2, 3, 4, 5]"
      ]
     },
     "execution_count": 14,
     "metadata": {},
     "output_type": "execute_result"
    }
   ],
   "source": [
    "my_data"
   ]
  },
  {
   "cell_type": "code",
   "execution_count": 15,
   "id": "ae97a263",
   "metadata": {},
   "outputs": [
    {
     "name": "stdout",
     "output_type": "stream",
     "text": [
      "The maximum value of all the elements in the list [1, 2, 3, 4, 5] is 5\n"
     ]
    }
   ],
   "source": [
    "result_of_max=reduce(max_elem,my_data)\n",
    "print(f'The maximum value of all the elements in the list {my_data} is {result_of_max}')"
   ]
  },
  {
   "cell_type": "markdown",
   "id": "95b4ce0b",
   "metadata": {},
   "source": [
    "4.\tHow can you use the `reduce()` function to concatenate a list of strings into a single string?"
   ]
  },
  {
   "cell_type": "code",
   "execution_count": 21,
   "id": "ce4edc02",
   "metadata": {},
   "outputs": [
    {
     "data": {
      "text/plain": [
       "'all the glitters are not goldearth is roundindia is my countryotha I will become a fucking millionaire one dayu will know my real worth soon'"
      ]
     },
     "execution_count": 21,
     "metadata": {},
     "output_type": "execute_result"
    }
   ],
   "source": [
    "reduce(lambda x,y : x+y, ['all the glitters are not gold','earth is round','india is my country','otha I will become a fucking millionaire one day','u will know my real worth soon'])"
   ]
  },
  {
   "cell_type": "markdown",
   "id": "261c2592",
   "metadata": {},
   "source": [
    "5.\tWrite a Python program that calculates the factorial of a number using the `reduce()` function."
   ]
  },
  {
   "cell_type": "code",
   "execution_count": 24,
   "id": "f2b04f9a",
   "metadata": {},
   "outputs": [],
   "source": [
    "def factorial(inp_num):\n",
    "    if inp_num==0 or inp_num==1:\n",
    "        return 1\n",
    "    else:\n",
    "        return reduce(lambda x,y : x*y, range(1,inp_num+1))"
   ]
  },
  {
   "cell_type": "code",
   "execution_count": 26,
   "id": "711356b6",
   "metadata": {},
   "outputs": [
    {
     "data": {
      "text/plain": [
       "720"
      ]
     },
     "execution_count": 26,
     "metadata": {},
     "output_type": "execute_result"
    }
   ],
   "source": [
    "factorial(6)"
   ]
  },
  {
   "cell_type": "markdown",
   "id": "00227059",
   "metadata": {},
   "source": [
    "6.\tCreate a Python program that uses `reduce()` to find the GCD (Greatest Common Divisor) of a list of numbers."
   ]
  },
  {
   "cell_type": "code",
   "execution_count": 43,
   "id": "a7cc32a1",
   "metadata": {},
   "outputs": [
    {
     "name": "stdout",
     "output_type": "stream",
     "text": [
      "GCD of [18, 48, 54, 98, 798]: 2\n"
     ]
    }
   ],
   "source": [
    "def find_gcd(a, b):\n",
    "#     print(f'value of b before for loop : {b}')\n",
    "    while b:\n",
    "#         print(f'value of b inside for loop : {b}')\n",
    "        a, b = b, a % b\n",
    "#         print(f'value of a and b after swapping : {a}, {b}')\n",
    "    return a\n",
    "\n",
    "# Calculate GCD of the list\n",
    "data = [18, 48, 54, 98, 798]\n",
    "gcd = reduce(find_gcd, data)\n",
    "\n",
    "print(f\"GCD of {data}: {gcd}\")"
   ]
  },
  {
   "cell_type": "markdown",
   "id": "8cecbc51",
   "metadata": {},
   "source": [
    "7.\tWrite a Python program that uses the `reduce()` function to find the sum of the digits of a given number."
   ]
  },
  {
   "cell_type": "code",
   "execution_count": 46,
   "id": "03f187d7",
   "metadata": {},
   "outputs": [
    {
     "name": "stdout",
     "output_type": "stream",
     "text": [
      "Provide a number to get the sum of its digits : 1234\n",
      "Sum of all the digits provided as input 1234 is : 10\n"
     ]
    }
   ],
   "source": [
    "inp_num=input('Provide a number to get the sum of its digits : ')\n",
    "result=reduce(lambda x,y : int(x)+int(y),str(inp_num))\n",
    "\n",
    "print(f'Sum of all the digits provided as input {inp_num} is : {result}')"
   ]
  },
  {
   "cell_type": "markdown",
   "id": "7425c6ea",
   "metadata": {},
   "source": [
    "## Filter"
   ]
  },
  {
   "cell_type": "markdown",
   "id": "0459d280",
   "metadata": {},
   "source": [
    "1.\tExplain the purpose of the `filter()` function in Python and provide an example of how it can be used to filter elements from an iterable."
   ]
  },
  {
   "cell_type": "markdown",
   "id": "7f0aee0e",
   "metadata": {},
   "source": [
    "- filter is a function that takes two arguments as input. 1. the function to be used, 2.Iterable\n",
    "- It would be very handy when we need to filter the elements of the iterable\n",
    "\n",
    "### Example"
   ]
  },
  {
   "cell_type": "code",
   "execution_count": 50,
   "id": "f6fc8fe2",
   "metadata": {},
   "outputs": [
    {
     "data": {
      "text/plain": [
       "[2, 4, 6, 8]"
      ]
     },
     "execution_count": 50,
     "metadata": {},
     "output_type": "execute_result"
    }
   ],
   "source": [
    "list(filter(lambda x : x if x%2==0 else False, [1,2,3,4,5,6,7,8,9,0]))"
   ]
  },
  {
   "cell_type": "markdown",
   "id": "46836c98",
   "metadata": {},
   "source": [
    "2.\tWrite a Python program that uses the `filter()` function to select even numbers from a list of integers."
   ]
  },
  {
   "cell_type": "code",
   "execution_count": 51,
   "id": "e9dad65f",
   "metadata": {},
   "outputs": [
    {
     "name": "stdout",
     "output_type": "stream",
     "text": [
      "Filtering the input list [1, 2, 3, 4, 5, 6, 7, 8, 9, 0] to derive only the even numbers : [2, 4, 6, 8]\n"
     ]
    }
   ],
   "source": [
    "inp_lst=[1,2,3,4,5,6,7,8,9,0]\n",
    "\n",
    "result=list(filter(lambda x : x if x%2==0 else False, inp_lst))\n",
    "\n",
    "print(f'Filtering the input list {inp_lst} to derive only the even numbers : {result}')"
   ]
  },
  {
   "cell_type": "markdown",
   "id": "6807980b",
   "metadata": {},
   "source": [
    "3.\tCreate a Python program that uses the `filter()` function to select names that start with a specific letter from a list of strings."
   ]
  },
  {
   "cell_type": "code",
   "execution_count": 55,
   "id": "5d0ff9b1",
   "metadata": {},
   "outputs": [],
   "source": [
    "names_lst=['saravanesh','saissh','dhurvank','parish']"
   ]
  },
  {
   "cell_type": "code",
   "execution_count": 56,
   "id": "79cd7ad1",
   "metadata": {},
   "outputs": [],
   "source": [
    "name_filter=list(filter(lambda x : x.startswith('s'),names_lst))"
   ]
  },
  {
   "cell_type": "code",
   "execution_count": 57,
   "id": "08a4af73",
   "metadata": {},
   "outputs": [
    {
     "data": {
      "text/plain": [
       "['saravanesh', 'saissh']"
      ]
     },
     "execution_count": 57,
     "metadata": {},
     "output_type": "execute_result"
    }
   ],
   "source": [
    "name_filter"
   ]
  },
  {
   "cell_type": "markdown",
   "id": "aa3c3c46",
   "metadata": {},
   "source": [
    "4.\tWrite a Python program that uses the `filter()` function to select prime numbers from a list of integers."
   ]
  },
  {
   "cell_type": "code",
   "execution_count": 58,
   "id": "61042466",
   "metadata": {},
   "outputs": [
    {
     "name": "stdout",
     "output_type": "stream",
     "text": [
      "prime numbers filtered from the input list [1, 2, 3, 4, 5, 6, 7, 8, 9, 10, 11, 12, 13, 14, 15, 16, 17] is [1, 3, 5, 7, 9, 11, 13, 15, 17]\n"
     ]
    }
   ],
   "source": [
    "number_lst=[1,2,3,4,5,6,7,8,9,10,11,12,13,14,15,16,17]\n",
    "prime_filter=filter(lambda x : x if x%2!=0 else False, number_lst)\n",
    "\n",
    "print(f'prime numbers filtered from the input list {number_lst} is {list(prime_filter)}')"
   ]
  },
  {
   "cell_type": "markdown",
   "id": "a7fb3845",
   "metadata": {},
   "source": [
    "5.\tHow can you use the `filter()` function to remove None values from a list in Python?"
   ]
  },
  {
   "cell_type": "code",
   "execution_count": 62,
   "id": "4b385d02",
   "metadata": {},
   "outputs": [
    {
     "data": {
      "text/plain": [
       "[1, 2, 3, 4, 'jbs', (2+3j), [1, 2, 34]]"
      ]
     },
     "execution_count": 62,
     "metadata": {},
     "output_type": "execute_result"
    }
   ],
   "source": [
    "my_lst=[None,1,2,3,4,None,'jbs',2+3j,[1,2,34]]\n",
    "\n",
    "list(filter(lambda x : x is not None, my_lst))"
   ]
  },
  {
   "cell_type": "markdown",
   "id": "86fec0ee",
   "metadata": {},
   "source": [
    "6.\tCreate a Python program that uses `filter()` to select words longer than a certain length from a list of strings."
   ]
  },
  {
   "cell_type": "code",
   "execution_count": 63,
   "id": "e0ca9c67",
   "metadata": {},
   "outputs": [
    {
     "data": {
      "text/plain": [
       "['saravanesh', 'saissh', 'dhurvank', 'parish']"
      ]
     },
     "execution_count": 63,
     "metadata": {},
     "output_type": "execute_result"
    }
   ],
   "source": [
    "names_lst"
   ]
  },
  {
   "cell_type": "code",
   "execution_count": 65,
   "id": "55da310e",
   "metadata": {},
   "outputs": [
    {
     "data": {
      "text/plain": [
       "['saravanesh', 'dhurvank']"
      ]
     },
     "execution_count": 65,
     "metadata": {},
     "output_type": "execute_result"
    }
   ],
   "source": [
    "list(filter(lambda x : x if len(x)>6 else False,names_lst))"
   ]
  },
  {
   "cell_type": "markdown",
   "id": "b0c7c705",
   "metadata": {},
   "source": [
    "7.\tWrite a Python program that uses the `filter()` function to select elements greater than a specified threshold from a list of values."
   ]
  },
  {
   "cell_type": "code",
   "execution_count": 67,
   "id": "62e4563b",
   "metadata": {},
   "outputs": [],
   "source": [
    "new_lst=[1,2,3,4,5,6,7,8,10,20,30,455,878]"
   ]
  },
  {
   "cell_type": "code",
   "execution_count": 69,
   "id": "e8b68cbb",
   "metadata": {},
   "outputs": [
    {
     "data": {
      "text/plain": [
       "[20, 30, 455, 878]"
      ]
     },
     "execution_count": 69,
     "metadata": {},
     "output_type": "execute_result"
    }
   ],
   "source": [
    "list(filter(lambda x : x if x>10 else False, new_lst))"
   ]
  },
  {
   "cell_type": "markdown",
   "id": "925341ec",
   "metadata": {},
   "source": [
    "## Recursion"
   ]
  },
  {
   "cell_type": "markdown",
   "id": "66536e5d",
   "metadata": {},
   "source": [
    "1.\tExplain the concept of recursion in Python. How does it differ from iteration?"
   ]
  },
  {
   "cell_type": "code",
   "execution_count": null,
   "id": "6c5370d4",
   "metadata": {},
   "outputs": [],
   "source": []
  },
  {
   "cell_type": "markdown",
   "id": "1fc6326e",
   "metadata": {},
   "source": [
    "## Basics of Function"
   ]
  },
  {
   "cell_type": "markdown",
   "id": "b222252c",
   "metadata": {},
   "source": [
    "1.\tWhat is a function in Python, and why is it used?"
   ]
  },
  {
   "cell_type": "markdown",
   "id": "1cfa7a4e",
   "metadata": {},
   "source": [
    "- function is defined in python using a keyword def() \n",
    "- A function can take arguments as their input based on the use cases for which it is being developed.\n",
    "- The main use of writing a piece of code within a function is to have re-usability. The function can be re-used anywhere based on its requirement."
   ]
  },
  {
   "cell_type": "markdown",
   "id": "7a6385b5",
   "metadata": {},
   "source": [
    "2.\tHow do you define a function in Python? Provide an example."
   ]
  },
  {
   "cell_type": "markdown",
   "id": "e2f516f7",
   "metadata": {},
   "source": [
    "- function is defined in python using a keyword def()\n",
    "\n",
    "### Example"
   ]
  },
  {
   "cell_type": "code",
   "execution_count": 71,
   "id": "7ee03d03",
   "metadata": {},
   "outputs": [],
   "source": [
    "def sample_func():\n",
    "    return 'Hi this is my first function'"
   ]
  },
  {
   "cell_type": "code",
   "execution_count": 72,
   "id": "f91ab6a2",
   "metadata": {},
   "outputs": [
    {
     "data": {
      "text/plain": [
       "'Hi this is my first function'"
      ]
     },
     "execution_count": 72,
     "metadata": {},
     "output_type": "execute_result"
    }
   ],
   "source": [
    "sample_func()"
   ]
  },
  {
   "cell_type": "markdown",
   "id": "7786d06d",
   "metadata": {},
   "source": [
    "3.\tExplain the difference between a function definition and a function call."
   ]
  },
  {
   "cell_type": "markdown",
   "id": "185eaeab",
   "metadata": {},
   "source": [
    "- function definition is where the core logic of the function is written.\n",
    "- function call is the place where we need to use the function, we call it and pass the required input arguments for function processing."
   ]
  },
  {
   "cell_type": "markdown",
   "id": "ffa6c650",
   "metadata": {},
   "source": [
    "4.\tWrite a Python program that defines a function to calculate the sum of two numbers and then calls the function."
   ]
  },
  {
   "cell_type": "code",
   "execution_count": 73,
   "id": "1fe96d3d",
   "metadata": {},
   "outputs": [],
   "source": [
    "def sum_of_two_num(a,b):\n",
    "    return a+b"
   ]
  },
  {
   "cell_type": "code",
   "execution_count": 74,
   "id": "f48b879b",
   "metadata": {},
   "outputs": [
    {
     "data": {
      "text/plain": [
       "30"
      ]
     },
     "execution_count": 74,
     "metadata": {},
     "output_type": "execute_result"
    }
   ],
   "source": [
    "sum_of_two_num(10,20)"
   ]
  },
  {
   "cell_type": "markdown",
   "id": "47919070",
   "metadata": {},
   "source": [
    "5.\tWhat is a function signature, and what information does it typically include?"
   ]
  },
  {
   "cell_type": "markdown",
   "id": "c5cda6c6",
   "metadata": {},
   "source": [
    "In Python, a function signature refers to the definition of a function, which includes various pieces of information about the function. The typical components of a function signature in Python include:\n",
    "\n",
    "Function Name:\n",
    "\n",
    "The name that identifies the function.\n",
    "Parameters:\n",
    "\n",
    "The input values that the function expects. It includes the names of the parameters and, optionally, their data types. Python is dynamically typed, so you don't necessarily specify the data types explicitly in the signature.\n",
    "Return Type:\n",
    "\n",
    "The data type of the value that the function returns. If a function does not explicitly return a value, its return type is considered to be None."
   ]
  },
  {
   "cell_type": "markdown",
   "id": "7f902727",
   "metadata": {},
   "source": [
    "6.\tCreate a Python function that takes two arguments and returns their product."
   ]
  },
  {
   "cell_type": "code",
   "execution_count": 75,
   "id": "d8d51213",
   "metadata": {},
   "outputs": [],
   "source": [
    "def prod_of_two_num(a,b):\n",
    "    return a*b"
   ]
  },
  {
   "cell_type": "code",
   "execution_count": 76,
   "id": "27c56f08",
   "metadata": {},
   "outputs": [
    {
     "data": {
      "text/plain": [
       "200"
      ]
     },
     "execution_count": 76,
     "metadata": {},
     "output_type": "execute_result"
    }
   ],
   "source": [
    "prod_of_two_num(10,20)"
   ]
  },
  {
   "cell_type": "markdown",
   "id": "b9432e81",
   "metadata": {},
   "source": [
    "## Function Parameters and Arguments:"
   ]
  },
  {
   "cell_type": "markdown",
   "id": "0b2ef5bf",
   "metadata": {},
   "source": [
    "1.\tExplain the concepts of formal parameters and actual arguments in Python functions."
   ]
  },
  {
   "cell_type": "markdown",
   "id": "cbcae04a",
   "metadata": {},
   "source": [
    "In Python functions, formal parameters and actual arguments play crucial roles in defining and executing the functions. Here's a breakdown of their concepts:\n",
    "\n",
    "### Formal Parameters:\n",
    "\n",
    "These are variables defined within the function's parentheses at the declaration stage.\n",
    "They act as placeholders to receive values when the function is called.\n",
    "They represent the information the function expects to operate on.\n",
    "Example: def add_numbers(a, b): In this function, a and b are formal parameters.\n",
    "\n",
    "### Actual Arguments:\n",
    "\n",
    "These are the values provided when the function is called.\n",
    "They are passed to the corresponding formal parameters, replacing their placeholders.\n",
    "They provide the actual data the function will process.\n",
    "Example: add_numbers(5, 10) Here, 5 and 10 are actual arguments passed to the function add_numbers and assigned to the formal parameters a and b, respectively.\n",
    "\n",
    "### Matching Formal Parameters and Actual Arguments:\n",
    "\n",
    "The number of actual arguments passed should match the number of formal parameters defined.\n",
    "Arguments are matched by position, meaning the first argument corresponds to the first parameter, the second argument to the second parameter, and so on.\n",
    "In Python, unmatched arguments can lead to errors."
   ]
  },
  {
   "cell_type": "markdown",
   "id": "42dd8997",
   "metadata": {},
   "source": [
    "2.\tWrite a Python program that defines a function with default argument values."
   ]
  },
  {
   "cell_type": "code",
   "execution_count": 79,
   "id": "1c2e6ac8",
   "metadata": {},
   "outputs": [],
   "source": [
    "def area_of_rectangle(length,breadth=10):\n",
    "    return length * breadth"
   ]
  },
  {
   "cell_type": "code",
   "execution_count": 80,
   "id": "4e1d6c84",
   "metadata": {},
   "outputs": [
    {
     "data": {
      "text/plain": [
       "100"
      ]
     },
     "execution_count": 80,
     "metadata": {},
     "output_type": "execute_result"
    }
   ],
   "source": [
    "area_of_rectangle(10)"
   ]
  },
  {
   "cell_type": "markdown",
   "id": "7d2bb6ed",
   "metadata": {},
   "source": [
    "3.\tHow do you use keyword arguments in Python function calls? Provide an example."
   ]
  },
  {
   "cell_type": "code",
   "execution_count": 81,
   "id": "0e2ca138",
   "metadata": {},
   "outputs": [
    {
     "name": "stdout",
     "output_type": "stream",
     "text": [
      "Area of cuboid: 100\n"
     ]
    }
   ],
   "source": [
    "def calculate_area(length, width, height=1):\n",
    "  \"\"\"\n",
    "  Calculates the area of a rectangle or a cuboid.\n",
    "\n",
    "  Args:\n",
    "    length: The length of the rectangle or cuboid.\n",
    "    width: The width of the rectangle or cuboid.\n",
    "    height: The height of the cuboid (optional, default is 1).\n",
    "\n",
    "  Returns:\n",
    "    The area of the rectangle or cuboid.\n",
    "  \"\"\"\n",
    "  if height == 1:\n",
    "    area = length * width\n",
    "  else:\n",
    "    area = length * width * height\n",
    "  return area\n",
    "\n",
    "# Calculate area of a cuboid using keyword arguments\n",
    "cuboid_area = calculate_area(height=2, length=5, width=10)\n",
    "print(f\"Area of cuboid: {cuboid_area}\")\n"
   ]
  },
  {
   "cell_type": "markdown",
   "id": "aacfdba2",
   "metadata": {},
   "source": [
    "4.\tCreate a Python function that accepts a variable number of arguments and calculates their sum."
   ]
  },
  {
   "cell_type": "code",
   "execution_count": 85,
   "id": "46197392",
   "metadata": {},
   "outputs": [],
   "source": [
    "def sum_of_nums(*args):\n",
    "    sum_1=0\n",
    "    for nums in args:\n",
    "        sum_1=sum_1+nums\n",
    "    return sum_1"
   ]
  },
  {
   "cell_type": "code",
   "execution_count": 86,
   "id": "9a1f6099",
   "metadata": {},
   "outputs": [
    {
     "data": {
      "text/plain": [
       "22"
      ]
     },
     "execution_count": 86,
     "metadata": {},
     "output_type": "execute_result"
    }
   ],
   "source": [
    "sum_of_nums(1,2,3,4,5,7)"
   ]
  },
  {
   "cell_type": "markdown",
   "id": "6b3fc1c7",
   "metadata": {},
   "source": [
    "5.\tWhat is the purpose of the `*args` and `**kwargs` syntax in function parameter lists?"
   ]
  },
  {
   "cell_type": "markdown",
   "id": "693fc266",
   "metadata": {},
   "source": [
    "- *args - It is used to provide variable number of arguments to the function. They are stored as a tuple\n",
    "- **kwargs - It is also used to store variable number of arguments but with a keyword associated with it"
   ]
  },
  {
   "cell_type": "markdown",
   "id": "8e9e9aaa",
   "metadata": {},
   "source": [
    "## Return Values and Scoping:"
   ]
  },
  {
   "cell_type": "markdown",
   "id": "1157f402",
   "metadata": {},
   "source": [
    "1.\tDescribe the role of the `return` statement in Python functions and provide examples."
   ]
  },
  {
   "cell_type": "markdown",
   "id": "6521611b",
   "metadata": {},
   "source": [
    "- The return statement that we pass within the python function is actually provided for the function to return something.\n",
    "- Say, we want to find sum of two numbers, this being the requirement. If we just add the two numbers and print it in inside the function definition. When we call the function it just displays the output.\n",
    "- Whereas, if we return the sum of values then we can store it a variable which can be used later in the process.`"
   ]
  },
  {
   "cell_type": "code",
   "execution_count": 87,
   "id": "8aa5fa0a",
   "metadata": {},
   "outputs": [],
   "source": [
    "### Python function without a return statement\n",
    "def sum_of_num_no_return(a,b):\n",
    "    print('The sum of numbers is :' , a+b)\n",
    "\n",
    "### Python function with return statement \n",
    "def sum_of_num_with_return(a,b):\n",
    "    return a+b"
   ]
  },
  {
   "cell_type": "code",
   "execution_count": 92,
   "id": "ad323cba",
   "metadata": {},
   "outputs": [
    {
     "name": "stdout",
     "output_type": "stream",
     "text": [
      "The sum of numbers is : 30\n"
     ]
    }
   ],
   "source": [
    "x=sum_of_num_no_return(10,20)"
   ]
  },
  {
   "cell_type": "code",
   "execution_count": 93,
   "id": "22ede83b",
   "metadata": {},
   "outputs": [],
   "source": [
    "x ## does not print any value"
   ]
  },
  {
   "cell_type": "code",
   "execution_count": 95,
   "id": "d6076685",
   "metadata": {},
   "outputs": [
    {
     "data": {
      "text/plain": [
       "30"
      ]
     },
     "execution_count": 95,
     "metadata": {},
     "output_type": "execute_result"
    }
   ],
   "source": [
    "c = sum_of_num_with_return(10,20) #we are able to store and print the value of c\n",
    "c"
   ]
  },
  {
   "cell_type": "markdown",
   "id": "3a974b85",
   "metadata": {},
   "source": [
    "2.\tExplain the concept of variable scope in Python, including local and global variables."
   ]
  },
  {
   "cell_type": "code",
   "execution_count": 101,
   "id": "5d0a538c",
   "metadata": {},
   "outputs": [],
   "source": [
    "my_global_variable = 10\n",
    "\n",
    "def global_local_usage():\n",
    "    local_variable = 100\n",
    "    return local_variable, my_global_variable"
   ]
  },
  {
   "cell_type": "code",
   "execution_count": 102,
   "id": "79610637",
   "metadata": {},
   "outputs": [
    {
     "data": {
      "text/plain": [
       "(100, 10)"
      ]
     },
     "execution_count": 102,
     "metadata": {},
     "output_type": "execute_result"
    }
   ],
   "source": [
    "global_local_usage() ## Here both the global and the local variable are accesible within the function scope"
   ]
  },
  {
   "cell_type": "code",
   "execution_count": 103,
   "id": "239e302a",
   "metadata": {},
   "outputs": [
    {
     "ename": "NameError",
     "evalue": "name 'local_variable' is not defined",
     "output_type": "error",
     "traceback": [
      "\u001b[1;31m---------------------------------------------------------------------------\u001b[0m",
      "\u001b[1;31mNameError\u001b[0m                                 Traceback (most recent call last)",
      "Cell \u001b[1;32mIn[103], line 1\u001b[0m\n\u001b[1;32m----> 1\u001b[0m \u001b[43mlocal_variable\u001b[49m\n",
      "\u001b[1;31mNameError\u001b[0m: name 'local_variable' is not defined"
     ]
    }
   ],
   "source": [
    "local_variable ## The local variable is not accesible outside the function scope"
   ]
  },
  {
   "cell_type": "markdown",
   "id": "04235c83",
   "metadata": {},
   "source": [
    "3.\tWrite a Python program that demonstrates the use of global variables within functions."
   ]
  },
  {
   "cell_type": "code",
   "execution_count": null,
   "id": "3f44576c",
   "metadata": {},
   "outputs": [],
   "source": [
    "my_global_variable = 10\n",
    "\n",
    "def global_local_usage():\n",
    "    local_variable = 100\n",
    "    return local_variable, my_global_variable  # accessing the global variable inside the function"
   ]
  },
  {
   "cell_type": "code",
   "execution_count": 104,
   "id": "f188b28d",
   "metadata": {},
   "outputs": [
    {
     "data": {
      "text/plain": [
       "(100, 10)"
      ]
     },
     "execution_count": 104,
     "metadata": {},
     "output_type": "execute_result"
    }
   ],
   "source": [
    "global_local_usage() #Both the global and local variables are accesible"
   ]
  },
  {
   "cell_type": "markdown",
   "id": "b964779f",
   "metadata": {},
   "source": [
    "4.\tCreate a Python function that calculates the factorial of a number and returns it."
   ]
  },
  {
   "cell_type": "code",
   "execution_count": 105,
   "id": "8bfbf56a",
   "metadata": {},
   "outputs": [],
   "source": [
    "def factorial(inp_num):\n",
    "    fact=1\n",
    "    for nums in range(inp_num,0,-1):\n",
    "        fact=fact*nums\n",
    "    return fact"
   ]
  },
  {
   "cell_type": "code",
   "execution_count": 106,
   "id": "5bd4b425",
   "metadata": {},
   "outputs": [
    {
     "data": {
      "text/plain": [
       "120"
      ]
     },
     "execution_count": 106,
     "metadata": {},
     "output_type": "execute_result"
    }
   ],
   "source": [
    "factorial(5)"
   ]
  },
  {
   "cell_type": "markdown",
   "id": "625e8735",
   "metadata": {},
   "source": [
    "5.\tHow can you access variables defined outside a function from within the function?"
   ]
  },
  {
   "cell_type": "markdown",
   "id": "85195238",
   "metadata": {},
   "source": [
    "1. Using Global Keyword:\n",
    "\n",
    "You can explicitly declare a variable inside the function as global to access its corresponding variable defined outside the function. This instructs Python to use the global variable instead of creating a new local variable."
   ]
  },
  {
   "cell_type": "code",
   "execution_count": 107,
   "id": "baa97431",
   "metadata": {},
   "outputs": [
    {
     "name": "stdout",
     "output_type": "stream",
     "text": [
      "Global variable before function call: 10\n",
      "Global variable inside function: 20\n",
      "Global variable after function call: 20\n"
     ]
    }
   ],
   "source": [
    "my_global_variable = 10\n",
    "\n",
    "def global_local_usage():\n",
    "  global my_global_variable\n",
    "  local_variable = 100\n",
    "  my_global_variable += 10\n",
    "  print(f\"Global variable inside function: {my_global_variable}\")\n",
    "\n",
    "# Accessing and modifying global variable\n",
    "print(f\"Global variable before function call: {my_global_variable}\")\n",
    "global_local_usage()\n",
    "print(f\"Global variable after function call: {my_global_variable}\")\n"
   ]
  },
  {
   "cell_type": "markdown",
   "id": "75e92ab9",
   "metadata": {},
   "source": [
    "2. Using Nonlocal Keyword:\n",
    "\n",
    "The nonlocal keyword is used when accessing variables defined within an enclosing nested function. This allows you to modify the variable in the nested function from within another nested function."
   ]
  },
  {
   "cell_type": "code",
   "execution_count": 108,
   "id": "0680dfb8",
   "metadata": {},
   "outputs": [
    {
     "name": "stdout",
     "output_type": "stream",
     "text": [
      "Outer variable inside inner function: 15\n",
      "Outer variable after inner function call: 15\n"
     ]
    }
   ],
   "source": [
    "def outer_function():\n",
    "  outer_variable = 10\n",
    "\n",
    "  def inner_function():\n",
    "    nonlocal outer_variable\n",
    "    outer_variable += 5\n",
    "    print(f\"Outer variable inside inner function: {outer_variable}\")\n",
    "\n",
    "  inner_function()\n",
    "  print(f\"Outer variable after inner function call: {outer_variable}\")\n",
    "\n",
    "outer_function()"
   ]
  },
  {
   "cell_type": "markdown",
   "id": "b7ba3c21",
   "metadata": {},
   "source": [
    "### Lambda Functions and Higher-Order Functions:"
   ]
  },
  {
   "cell_type": "markdown",
   "id": "54f5e836",
   "metadata": {},
   "source": [
    "1.\tWhat are lambda functions in Python, and when are they typically used?"
   ]
  },
  {
   "cell_type": "markdown",
   "id": "5752d8b6",
   "metadata": {},
   "source": [
    "\n",
    "Here's a comprehensive explanation of lambda functions in Python and their common use cases:\n",
    "\n",
    "Lambda Functions in Python:\n",
    "\n",
    "- Definition: Small, anonymous functions defined using the lambda keyword.\n",
    "- Syntax: lambda arguments: expression\n",
    "- Characteristics:\n",
    "  - Can take any number of arguments but can only have one expression.\n",
    "  - Don't require a def statement or a name.\n",
    "  - Are often used inline where a function is needed for a short period."
   ]
  },
  {
   "cell_type": "markdown",
   "id": "38e49bcb",
   "metadata": {},
   "source": [
    "2.\tWrite a Python program that uses lambda functions to sort a list of tuples based on the second element."
   ]
  },
  {
   "cell_type": "code",
   "execution_count": 5,
   "id": "a4b0ca05",
   "metadata": {},
   "outputs": [
    {
     "name": "stdout",
     "output_type": "stream",
     "text": [
      "Sorted data by second element:\n",
      "Charlie: 75\n",
      "Bob: 77\n",
      "Alice: 80\n",
      "David: 88\n"
     ]
    }
   ],
   "source": [
    "data = [(\"Alice\", 80), (\"Bob\", 77), (\"Charlie\", 75), (\"David\", 88)]\n",
    "\n",
    "# Sort the list using a lambda function as the key\n",
    "sorted_data = sorted(data, key=lambda x: x[1])\n",
    "\n",
    "print(\"Sorted data by second element:\")\n",
    "for name, score in sorted_data:\n",
    "    print(f\"{name}: {score}\")\n"
   ]
  },
  {
   "cell_type": "markdown",
   "id": "0109712e",
   "metadata": {},
   "source": [
    "3.\tExplain the concept of higher-order functions in Python, and provide an example."
   ]
  },
  {
   "cell_type": "markdown",
   "id": "b4fdcabf",
   "metadata": {},
   "source": [
    "#### Higher-Order Functions:\n",
    "\n",
    "- Definition: Functions that take other functions as arguments or return functions as output.\n",
    "- Key Characteristics:\n",
    "  - Elevate functions to first-class citizens, enabling them to be treated like any other data type.\n",
    "  - Promote code reusability, abstraction, and functional programming paradigms."
   ]
  },
  {
   "cell_type": "markdown",
   "id": "16e16bc1",
   "metadata": {},
   "source": [
    "- Built-in Higher-Order Functions:\n",
    "\n",
    "  - map(function, iterable): Applies a function to each item in an iterable and returns an iterator of results."
   ]
  },
  {
   "cell_type": "code",
   "execution_count": 8,
   "id": "b6f97ce7",
   "metadata": {},
   "outputs": [
    {
     "data": {
      "text/plain": [
       "[1, 4, 9, 16]"
      ]
     },
     "execution_count": 8,
     "metadata": {},
     "output_type": "execute_result"
    }
   ],
   "source": [
    "numbers = [1, 2, 3, 4]\n",
    "squared_numbers = list(map(lambda x: x**2, numbers))  # Output: [1, 4, 9, 16]\n",
    "squared_numbers"
   ]
  },
  {
   "cell_type": "markdown",
   "id": "a803392d",
   "metadata": {},
   "source": [
    "4.\tCreate a Python function that takes a list of numbers and a function as arguments, applying the function to each element in the list."
   ]
  },
  {
   "cell_type": "code",
   "execution_count": 15,
   "id": "aff42154",
   "metadata": {},
   "outputs": [],
   "source": [
    "def main_func(inner_func,my_lst):\n",
    "    result=inner_func(my_lst)\n",
    "    return result\n",
    "\n",
    "def inner_func(inp_lst):\n",
    "    op_lst=[element**2 for element in inp_lst]\n",
    "    return op_lst"
   ]
  },
  {
   "cell_type": "code",
   "execution_count": 16,
   "id": "940dfa29",
   "metadata": {},
   "outputs": [
    {
     "data": {
      "text/plain": [
       "[100, 400, 900]"
      ]
     },
     "execution_count": 16,
     "metadata": {},
     "output_type": "execute_result"
    }
   ],
   "source": [
    "main_func(inner_func,[10,20,30])"
   ]
  },
  {
   "cell_type": "markdown",
   "id": "f998f8d3",
   "metadata": {},
   "source": [
    "### Built-in Functions:"
   ]
  },
  {
   "cell_type": "markdown",
   "id": "2c316772",
   "metadata": {},
   "source": [
    "1.\tDescribe the role of built-in functions like `len()`, `max()`, and `min()` in Python."
   ]
  },
  {
   "cell_type": "markdown",
   "id": "0dacbf54",
   "metadata": {},
   "source": [
    " **Here's an explanation of the built-in functions `len()`, `max()`, and `min()` in Python:**\n",
    "\n",
    "**1. `len()`:**\n",
    "\n",
    "- **Purpose:** Returns the length (number of items) of an object.\n",
    "- **Usage:** `len(object)`\n",
    "- **Examples:**\n",
    "   - `len(\"hello\")` returns 5 (number of characters in the string).\n",
    "   - `len([1, 2, 3])` returns 3 (number of items in the list).\n",
    "   - `len({\"a\": 1, \"b\": 2})` returns 2 (number of key-value pairs in the dictionary).\n",
    "\n",
    "**2. `max()`:**\n",
    "\n",
    "- **Purpose:** Returns the largest item in an iterable or the largest of two or more arguments.\n",
    "- **Usage:** `max(iterable)` or `max(arg1, arg2, ...)`\n",
    "- **Examples:**\n",
    "   - `max([3, 1, 4, 2])` returns 4 (largest number in the list).\n",
    "   - `max(\"apple\")` returns \"p\" (largest character in the string, based on ASCII values).\n",
    "   - `max(5, 10, 2)` returns 10 (largest of the three numbers).\n",
    "\n",
    "**3. `min()`:**\n",
    "\n",
    "- **Purpose:** Returns the smallest item in an iterable or the smallest of two or more arguments.\n",
    "- **Usage:** `min(iterable)` or `min(arg1, arg2, ...)`\n",
    "- **Examples:**\n",
    "   - `min([5, 2, 8, 1])` returns 1 (smallest number in the list).\n",
    "   - `min(\"hello\")` returns \"e\" (smallest character in the string, based on ASCII values).\n",
    "   - `min(-3, 0, 10)` returns -3 (smallest of the three numbers).\n",
    "\n",
    "**Key Points:**\n",
    "\n",
    "- These built-in functions provide efficient and concise ways to perform common operations on data structures.\n",
    "- They are essential for basic data manipulation and analysis tasks in Python.\n",
    "- They can be used with various data types, including strings, lists, tuples, dictionaries, and numerical values.\n",
    "- Understanding their usage is fundamental for effective Python programming.\n"
   ]
  },
  {
   "cell_type": "markdown",
   "id": "480dc328",
   "metadata": {},
   "source": [
    "2.\tWrite a Python program that uses the `map()` function to apply a function to each element of a list."
   ]
  },
  {
   "cell_type": "code",
   "execution_count": 29,
   "id": "935c0030",
   "metadata": {},
   "outputs": [],
   "source": [
    "## Using the map function to convert the temperature in centigrade to Farenheit\n",
    "map_obj=list(map(lambda x : (x*(9/5)+32),[1,2,3,4,5,6,7]))"
   ]
  },
  {
   "cell_type": "code",
   "execution_count": 30,
   "id": "adc11675",
   "metadata": {},
   "outputs": [
    {
     "data": {
      "text/plain": [
       "[33.8, 35.6, 37.4, 39.2, 41.0, 42.8, 44.6]"
      ]
     },
     "execution_count": 30,
     "metadata": {},
     "output_type": "execute_result"
    }
   ],
   "source": [
    "map_obj"
   ]
  },
  {
   "cell_type": "markdown",
   "id": "cbeb9501",
   "metadata": {},
   "source": [
    "3.\tHow does the `filter()` function work in Python, and when would you use it?"
   ]
  },
  {
   "cell_type": "markdown",
   "id": "a9c4d5b8",
   "metadata": {},
   "source": [
    "- filter is a function that takes two arguments as input. 1. the function to be used, 2.Iterable\n",
    "- It would be very handy when we need to filter the elements of the iterable\n",
    "\n",
    "#### Example,"
   ]
  },
  {
   "cell_type": "code",
   "execution_count": 32,
   "id": "8375c13f",
   "metadata": {},
   "outputs": [
    {
     "data": {
      "text/plain": [
       "[20, 30]"
      ]
     },
     "execution_count": 32,
     "metadata": {},
     "output_type": "execute_result"
    }
   ],
   "source": [
    "list(filter(lambda x : x if x>10 else False, [10,20,30]))"
   ]
  },
  {
   "cell_type": "markdown",
   "id": "edafa9a8",
   "metadata": {},
   "source": [
    "4.\tCreate a Python program that uses the `reduce()` function to find the product of all elements in a list."
   ]
  },
  {
   "cell_type": "markdown",
   "id": "df6dc36b",
   "metadata": {},
   "source": [
    " **Here's a Python program that demonstrates using `reduce()` to find the product of list elements:**\n",
    "\n",
    "```python\n",
    "from functools import reduce\n",
    "\n",
    "numbers = [1, 2, 3, 4, 5]\n",
    "\n",
    "# Calculate the product using reduce\n",
    "product = reduce(lambda x, y: x * y, numbers)\n",
    "\n",
    "print(\"Product of all elements:\", product)\n",
    "```\n",
    "\n",
    "**Explanation:**\n",
    "\n",
    "1. **Import `reduce()`:** The `reduce()` function is imported from the `functools` module in Python 3.\n",
    "2. **Define the List:** A list of numbers is created for demonstration.\n",
    "3. **Apply `reduce()`:**\n",
    "   - The `reduce()` function takes three arguments:\n",
    "     - A function that takes two arguments (`lambda x, y: x * y` in this case).\n",
    "     - An iterable (the `numbers` list).\n",
    "     - An optional initial value (not used here).\n",
    "   - It applies the function cumulatively to the items in the iterable, reducing it to a single value.\n",
    "4. **Multiply Elements:** The lambda function multiplies each pair of elements, starting with the first two, and then using the result as the first argument for the next pair, and so on.\n",
    "5. **Print the Product:** The final product of all elements is printed.\n",
    "\n",
    "**Output:**\n",
    "\n",
    "```\n",
    "Product of all elements: 120\n",
    "```\n",
    "\n",
    "**Key Points:**\n",
    "\n",
    "- `reduce()` is a powerful tool for applying a function cumulatively to elements in an iterable.\n",
    "- It can be used for various tasks, including finding products, sums, maximum/minimum values, and more.\n",
    "- It's often used with lambda functions for concise and expressive code.\n"
   ]
  },
  {
   "cell_type": "markdown",
   "id": "8de98e06",
   "metadata": {},
   "source": [
    "### Function Documentation and Best Practices:"
   ]
  },
  {
   "cell_type": "markdown",
   "id": "afa8ede7",
   "metadata": {},
   "source": [
    "1.\tExplain the purpose of docstrings in Python functions and how to write them."
   ]
  },
  {
   "cell_type": "markdown",
   "id": "a3094151",
   "metadata": {},
   "source": [
    "- Doc string in a function is used to explaing the purpose of the function. \n",
    "- It gives an idea to the end user about how to use the function and what all parameters can be used\n",
    "- Also, explains the return type and intricate usage of the function itself\n",
    "- In jupyter notebook the function documentation can be accessed by pressing shift+tab"
   ]
  },
  {
   "cell_type": "markdown",
   "id": "02378114",
   "metadata": {},
   "source": [
    "#### Example "
   ]
  },
  {
   "cell_type": "code",
   "execution_count": 33,
   "id": "59b47139",
   "metadata": {},
   "outputs": [],
   "source": [
    "def add_two_num(inp_1,inp_2):\n",
    "    \"\"\"\n",
    "    This function takes two numbers(int/float) as input and returns the sum of it.\n",
    "    \"\"\"\n",
    "    return inp_1+inp_2"
   ]
  },
  {
   "cell_type": "markdown",
   "id": "e633b739",
   "metadata": {},
   "source": [
    "2.\tDescribe some best practices for naming functions and variables in Python, including naming conventions and guidelines."
   ]
  },
  {
   "cell_type": "markdown",
   "id": "500ad0b9",
   "metadata": {},
   "source": [
    " **Here are some best practices for naming functions and variables in Python:**\n",
    "\n",
    "**Naming Conventions:**\n",
    "\n",
    "- **Use lowercase letters and underscores for variables and function names:**\n",
    "   - `my_variable`, `calculate_area`, `convert_to_fahrenheit`\n",
    "- **Use PascalCase (starting with a capital letter) for class names:**\n",
    "   - `Employee`, `CustomerAccount`, `Calculator`\n",
    "- **Use UPPERCASE for constants:**\n",
    "   - `MAX_LENGTH`, `PI`, `DEBUG_MODE`\n",
    "\n",
    "**General Guidelines:**\n",
    "\n",
    "- **Be descriptive:** Choose names that clearly convey the purpose or meaning of the variable or function.\n",
    "- **Avoid abbreviations and single-letter names:** Use full words or meaningful abbreviations to improve readability.\n",
    "- **Use consistent naming conventions:** Maintain consistency within your codebase for better maintainability.\n",
    "- **Follow Python's style guide, PEP 8:** This guide provides recommendations for code style, including naming conventions.\n",
    "\n",
    "**Additional Tips:**\n",
    "\n",
    "- **Consider using verbs for function names:** This can make code more readable, as functions often perform actions.\n",
    "- **Use meaningful prefixes or suffixes:** Prefixes like `is_`, `has_`, or `get_` can clarify the type of value a variable holds.\n",
    "- **Avoid reserved keywords:** Don't use Python's reserved keywords as variable or function names.\n",
    "- **Be mindful of namespaces:** Avoid naming conflicts with built-in functions or modules.\n",
    "- **Use type hints:** While not strictly related to naming, using type hints can significantly improve code clarity and maintainability.\n",
    "\n",
    "**Examples of Good Practices:**\n",
    "\n",
    "- `user_name` is better than `username` or `un`.\n",
    "- `calculate_total_cost()` is better than `calc()` or `total()`.\n",
    "- `is_valid_password()` is better than `valid_password`.\n",
    "- `customer_records` is better than `cust_recs`.\n",
    "\n",
    "**By following these best practices, you can write more readable, maintainable, and understandable Python code.**\n"
   ]
  },
  {
   "cell_type": "code",
   "execution_count": null,
   "id": "a7228e65",
   "metadata": {},
   "outputs": [],
   "source": []
  },
  {
   "cell_type": "code",
   "execution_count": null,
   "id": "b3a1cfe0",
   "metadata": {},
   "outputs": [],
   "source": []
  },
  {
   "cell_type": "code",
   "execution_count": null,
   "id": "db5b8cf3",
   "metadata": {},
   "outputs": [],
   "source": []
  },
  {
   "cell_type": "code",
   "execution_count": null,
   "id": "bde49842",
   "metadata": {},
   "outputs": [],
   "source": []
  },
  {
   "cell_type": "code",
   "execution_count": null,
   "id": "5ded5449",
   "metadata": {},
   "outputs": [],
   "source": []
  },
  {
   "cell_type": "code",
   "execution_count": null,
   "id": "a4a41958",
   "metadata": {},
   "outputs": [],
   "source": []
  }
 ],
 "metadata": {
  "kernelspec": {
   "display_name": "Python 3 (ipykernel)",
   "language": "python",
   "name": "python3"
  },
  "language_info": {
   "codemirror_mode": {
    "name": "ipython",
    "version": 3
   },
   "file_extension": ".py",
   "mimetype": "text/x-python",
   "name": "python",
   "nbconvert_exporter": "python",
   "pygments_lexer": "ipython3",
   "version": "3.10.9"
  }
 },
 "nbformat": 4,
 "nbformat_minor": 5
}
