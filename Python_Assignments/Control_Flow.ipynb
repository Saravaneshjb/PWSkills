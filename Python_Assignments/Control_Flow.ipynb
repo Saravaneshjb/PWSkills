{
 "cells": [
  {
   "cell_type": "markdown",
   "id": "ec26cb2b",
   "metadata": {},
   "source": [
    "## Basic If-Else Statements:"
   ]
  },
  {
   "cell_type": "markdown",
   "id": "389f1aac",
   "metadata": {},
   "source": [
    "1. Write a Python program to check if a given number is positive or negative."
   ]
  },
  {
   "cell_type": "code",
   "execution_count": 2,
   "id": "14a26b0b",
   "metadata": {},
   "outputs": [
    {
     "name": "stdout",
     "output_type": "stream",
     "text": [
      "Enter the number to check if its positive or negative : 5\n",
      "The number 5 is postive\n"
     ]
    }
   ],
   "source": [
    "inp_num=int(input('Enter the number to check if its positive or negative : '))\n",
    "\n",
    "if inp_num <0 :\n",
    "    print(f'The number {inp_num} is negative')\n",
    "else:\n",
    "    print(f'The number {inp_num} is postive')"
   ]
  },
  {
   "cell_type": "code",
   "execution_count": 3,
   "id": "62c52ce3",
   "metadata": {},
   "outputs": [
    {
     "name": "stdout",
     "output_type": "stream",
     "text": [
      "Enter the number to check if its positive or negative : -4\n",
      "The number -4 is negative\n"
     ]
    }
   ],
   "source": [
    "inp_num=int(input('Enter the number to check if its positive or negative : '))\n",
    "\n",
    "if inp_num <0 :\n",
    "    print(f'The number {inp_num} is negative')\n",
    "else:\n",
    "    print(f'The number {inp_num} is postive')"
   ]
  },
  {
   "cell_type": "markdown",
   "id": "26a6af12",
   "metadata": {},
   "source": [
    "2. Create a program that determines if a person is eligible to vote based on their age."
   ]
  },
  {
   "cell_type": "code",
   "execution_count": 4,
   "id": "cdef914c",
   "metadata": {},
   "outputs": [
    {
     "name": "stdout",
     "output_type": "stream",
     "text": [
      "Enter your age to check voting eligibility :10\n",
      "You are not eligible to vote\n"
     ]
    }
   ],
   "source": [
    "age = int(input('Enter your age to check voting eligibility :'))\n",
    "if age < 18:\n",
    "    print('You are not eligible to vote')\n",
    "else:\n",
    "    print('You are eligible to voter')"
   ]
  },
  {
   "cell_type": "markdown",
   "id": "cad917ec",
   "metadata": {},
   "source": [
    "3. Develop a program to find the maximum of two numbers using if-else statements."
   ]
  },
  {
   "cell_type": "code",
   "execution_count": 6,
   "id": "243f69f6",
   "metadata": {},
   "outputs": [
    {
     "name": "stdout",
     "output_type": "stream",
     "text": [
      "Enter the two numbers to check the maximum :10,20\n"
     ]
    }
   ],
   "source": [
    "inp_num=input('Enter the two numbers seperated by comma to check the maximum among both:')"
   ]
  },
  {
   "cell_type": "code",
   "execution_count": 11,
   "id": "1d06f68b",
   "metadata": {},
   "outputs": [
    {
     "name": "stdout",
     "output_type": "stream",
     "text": [
      "20 is the maximum number among 10,20\n"
     ]
    }
   ],
   "source": [
    "max_nums=inp_num.split(sep=',')\n",
    "\n",
    "if int(max_nums[0]) > int(max_nums[1]):\n",
    "    print(f'{max_nums[0]} is the maximum number among {inp_num}')\n",
    "else:\n",
    "    print(f'{max_nums[1]} is the maximum number among {inp_num}')"
   ]
  },
  {
   "cell_type": "markdown",
   "id": "4e9ad6ea",
   "metadata": {},
   "source": [
    "4. Write a Python script to classify a given year as a leap year or not."
   ]
  },
  {
   "cell_type": "code",
   "execution_count": 12,
   "id": "0a94db30",
   "metadata": {},
   "outputs": [
    {
     "name": "stdout",
     "output_type": "stream",
     "text": [
      "2020 is a leap year.\n",
      "2021 is not a leap year.\n",
      "1900 is not a leap year.\n",
      "2000 is a leap year.\n"
     ]
    }
   ],
   "source": [
    "def is_leap_year(year):\n",
    "    if (year % 4 == 0 and year % 100 != 0) or (year % 400 == 0):\n",
    "        return True\n",
    "    else:\n",
    "        return False\n",
    "\n",
    "# Test cases\n",
    "years_to_check = [2020, 2021, 1900, 2000]\n",
    "\n",
    "for year in years_to_check:\n",
    "    if is_leap_year(year):\n",
    "        print(f\"{year} is a leap year.\")\n",
    "    else:\n",
    "        print(f\"{year} is not a leap year.\")"
   ]
  },
  {
   "cell_type": "markdown",
   "id": "3a4e67c6",
   "metadata": {},
   "source": [
    "5. Create a program that checks whether a character is a vowel or a consonant."
   ]
  },
  {
   "cell_type": "code",
   "execution_count": 16,
   "id": "5fa96de2",
   "metadata": {},
   "outputs": [
    {
     "name": "stdout",
     "output_type": "stream",
     "text": [
      "Enter the character to check if its a vowel or consonant: a\n",
      "The input characater 'a' is a vowel\n"
     ]
    }
   ],
   "source": [
    "inp_char=input('Enter the character to check if its a vowel or consonant: ')\n",
    "\n",
    "if inp_char in 'aeiou':\n",
    "    print(f\"The input characater '{inp_char}' is a vowel\")\n",
    "else:\n",
    "    print(f\"The input characater '{inp_char}' is a consonant\")"
   ]
  },
  {
   "cell_type": "code",
   "execution_count": 17,
   "id": "5de4c96f",
   "metadata": {},
   "outputs": [
    {
     "name": "stdout",
     "output_type": "stream",
     "text": [
      "Enter the character to check if its a vowel or consonant: g\n",
      "The input characater 'g' is a consonant\n"
     ]
    }
   ],
   "source": [
    "inp_char=input('Enter the character to check if its a vowel or consonant: ')\n",
    "\n",
    "if inp_char in 'aeiou':\n",
    "    print(f\"The input characater '{inp_char}' is a vowel\")\n",
    "else:\n",
    "    print(f\"The input characater '{inp_char}' is a consonant\")"
   ]
  },
  {
   "cell_type": "markdown",
   "id": "a0a22f3d",
   "metadata": {},
   "source": [
    "6. Implement a program to determine whether a given number is even or odd."
   ]
  },
  {
   "cell_type": "code",
   "execution_count": 18,
   "id": "af54a68c",
   "metadata": {},
   "outputs": [
    {
     "name": "stdout",
     "output_type": "stream",
     "text": [
      "Enter the number to check if its a even or odd: 5\n",
      "The input number '5' is odd\n"
     ]
    }
   ],
   "source": [
    "inp_num=int(input('Enter the number to check if its a even or odd: '))\n",
    "\n",
    "if inp_num%2==0:\n",
    "    print(f\"The input number '{inp_num}' is even\")\n",
    "else:\n",
    "    print(f\"The input number '{inp_num}' is odd\")"
   ]
  },
  {
   "cell_type": "markdown",
   "id": "ff200224",
   "metadata": {},
   "source": [
    "7. Write a Python function to calculate the absolute value of a number without using the `abs()` function."
   ]
  },
  {
   "cell_type": "code",
   "execution_count": 21,
   "id": "e4c2ba98",
   "metadata": {},
   "outputs": [
    {
     "name": "stdout",
     "output_type": "stream",
     "text": [
      "Enter the number to get its absolute value:-10.98\n",
      "The absolute value of the given number -10.98 is : 10.98\n"
     ]
    }
   ],
   "source": [
    "inp_num=input('Enter the number to get its absolute value:')\n",
    "\n",
    "if inp_num[0]!='-':\n",
    "    print(f'The absolute value of the given number {inp_num} is :', float(inp_num))\n",
    "else:\n",
    "    print(f'The absolute value of the given number {inp_num} is :', float(inp_num[1:]))"
   ]
  },
  {
   "cell_type": "code",
   "execution_count": 22,
   "id": "95c6871a",
   "metadata": {},
   "outputs": [
    {
     "name": "stdout",
     "output_type": "stream",
     "text": [
      "Enter the number to get its absolute value:-5\n",
      "The absolute value of the given number -5 is : 5.0\n"
     ]
    }
   ],
   "source": [
    "inp_num=input('Enter the number to get its absolute value:')\n",
    "\n",
    "if inp_num[0]!='-':\n",
    "    print(f'The absolute value of the given number {inp_num} is :', float(inp_num))\n",
    "else:\n",
    "    print(f'The absolute value of the given number {inp_num} is :', float(inp_num[1:]))"
   ]
  },
  {
   "cell_type": "markdown",
   "id": "bca27fe3",
   "metadata": {},
   "source": [
    "8. Develop a program that determines the largest of three given numbers using if-else statements."
   ]
  },
  {
   "cell_type": "code",
   "execution_count": 28,
   "id": "1bb42dad",
   "metadata": {},
   "outputs": [
    {
     "name": "stdout",
     "output_type": "stream",
     "text": [
      "Enter the three numbers to find the largest among them : 10,30,20\n"
     ]
    }
   ],
   "source": [
    "inp_num=input('Enter the three numbers to find the largest among them : ')"
   ]
  },
  {
   "cell_type": "code",
   "execution_count": 30,
   "id": "a0d471f8",
   "metadata": {},
   "outputs": [
    {
     "name": "stdout",
     "output_type": "stream",
     "text": [
      "The maximum number among the given list of numbers ['10', '30', '20'] is : 30.0\n"
     ]
    }
   ],
   "source": [
    "import sys\n",
    "max_num = -sys.maxsize-1\n",
    "inp_lst=inp_num.split(',')\n",
    "\n",
    "for nums in inp_lst:\n",
    "    nums_inp=float(nums)\n",
    "    if nums_inp>max_num:\n",
    "        max_num=nums_inp\n",
    "    else:\n",
    "        continue\n",
    "print(f'The maximum number among the given list of numbers {inp_lst} is :',max_num)"
   ]
  },
  {
   "cell_type": "markdown",
   "id": "a62b05fb",
   "metadata": {},
   "source": [
    "9. Create a program that checks if a given string is a palindrome."
   ]
  },
  {
   "cell_type": "code",
   "execution_count": 31,
   "id": "b5c069c9",
   "metadata": {},
   "outputs": [
    {
     "name": "stdout",
     "output_type": "stream",
     "text": [
      "Enter the input string to validate if given string is a Palindrome: malayalam\n",
      "The given string 'malayalam' is a palindrome\n"
     ]
    }
   ],
   "source": [
    "inp_str=input('Enter the input string to validate if given string is a Palindrome: ')\n",
    "if inp_str == inp_str[::-1]:\n",
    "    print(f\"The given string '{inp_str}' is a palindrome\")\n",
    "else:\n",
    "    print(f\"The given string {inp_str} is not a palindrome\")"
   ]
  },
  {
   "cell_type": "markdown",
   "id": "a4e6c070",
   "metadata": {},
   "source": [
    "10. Write a Python program to calculate the grade based on a student's score."
   ]
  },
  {
   "cell_type": "code",
   "execution_count": 38,
   "id": "cb1fa217",
   "metadata": {},
   "outputs": [
    {
     "name": "stdout",
     "output_type": "stream",
     "text": [
      "Enter the student score to check the grade :92\n"
     ]
    }
   ],
   "source": [
    "inp_score=int(input('Enter the student score to check the grade :'))"
   ]
  },
  {
   "cell_type": "code",
   "execution_count": 39,
   "id": "5cf4ccaa",
   "metadata": {},
   "outputs": [
    {
     "name": "stdout",
     "output_type": "stream",
     "text": [
      "The students grade is A\n"
     ]
    }
   ],
   "source": [
    "if inp_score>95 and inp_score<100:\n",
    "    print('The students grade is A+')\n",
    "elif inp_score>90 and inp_score<95:\n",
    "    print('The students grade is A')\n",
    "elif inp_score>75 and inp_score<90:\n",
    "    print('The students grade is B')\n",
    "elif inp_score>50 and inp_score<75:\n",
    "    print('The students grade is C')\n",
    "else:\n",
    "    print('The student has failed')"
   ]
  },
  {
   "cell_type": "markdown",
   "id": "22af9932",
   "metadata": {},
   "source": [
    "## Nested If-Else Statements:"
   ]
  },
  {
   "cell_type": "markdown",
   "id": "54a7310f",
   "metadata": {},
   "source": [
    "11. Write a program to find the largest among three numbers using nested if-else statements."
   ]
  },
  {
   "cell_type": "code",
   "execution_count": 47,
   "id": "013cce29",
   "metadata": {},
   "outputs": [
    {
     "name": "stdout",
     "output_type": "stream",
     "text": [
      "105 is greater than 104 & -99\n"
     ]
    }
   ],
   "source": [
    "num1=104\n",
    "num2=105\n",
    "num3=-99\n",
    "\n",
    "max_num = -sys.maxsize-1\n",
    "\n",
    "if num1>num2 and num1>num3:\n",
    "    print(f'{num1} is greater than {num2} & {num3}')\n",
    "elif num2>num1 and num2>num3:\n",
    "    print(f'{num2} is greater than {num1} & {num3}')\n",
    "else:\n",
    "    print(f'{num3} is greater than {num1} & {num2}')"
   ]
  },
  {
   "cell_type": "markdown",
   "id": "3967eb42",
   "metadata": {},
   "source": [
    "12. Implement a program to determine if a triangle is equilateral, isosceles, or scalene"
   ]
  },
  {
   "cell_type": "code",
   "execution_count": 49,
   "id": "2488d7ca",
   "metadata": {},
   "outputs": [
    {
     "name": "stdout",
     "output_type": "stream",
     "text": [
      "Enter length of side 1: 10\n",
      "Enter length of side 2: 10\n",
      "Enter length of side 3: 10\n",
      "The triangle is Equilateral.\n"
     ]
    }
   ],
   "source": [
    "def triangle_type(side1, side2, side3):\n",
    "    if side1 == side2 == side3:\n",
    "        return \"Equilateral\"\n",
    "    elif side1 == side2 or side1 == side3 or side2 == side3:\n",
    "        return \"Isosceles\"\n",
    "    else:\n",
    "        return \"Scalene\"\n",
    "\n",
    "# Taking input for sides of the triangle\n",
    "side1 = float(input(\"Enter length of side 1: \"))\n",
    "side2 = float(input(\"Enter length of side 2: \"))\n",
    "side3 = float(input(\"Enter length of side 3: \"))\n",
    "\n",
    "# Checking the type of triangle\n",
    "result = triangle_type(side1, side2, side3)\n",
    "print(f\"The triangle is {result}.\")\n"
   ]
  },
  {
   "cell_type": "markdown",
   "id": "7cd55e65",
   "metadata": {},
   "source": [
    "13. Develop a program that checks if a year is a leap year and also if it is a century year."
   ]
  },
  {
   "cell_type": "code",
   "execution_count": 51,
   "id": "6a764e89",
   "metadata": {},
   "outputs": [
    {
     "name": "stdout",
     "output_type": "stream",
     "text": [
      "Enter the year to check if its a leap year & Century year2000\n",
      "The 2000 is a leap year and its a century year\n"
     ]
    }
   ],
   "source": [
    "year=int(input('Enter the year to check if its a leap year & Century year'))\n",
    "\n",
    "if (year % 4 == 0) or (year % 400 == 0):\n",
    "    if year % 100 == 0:\n",
    "        print(f'The {year} is a leap year and its a century year')\n",
    "    else:\n",
    "        print(f'The {year} is just a leap year')\n",
    "else:\n",
    "    print(f'The {year} is a leap year')"
   ]
  },
  {
   "cell_type": "code",
   "execution_count": 56,
   "id": "79287474",
   "metadata": {},
   "outputs": [
    {
     "name": "stdout",
     "output_type": "stream",
     "text": [
      "Enter the year to check if its a leap year & Century year2005\n",
      "The 2005 is not a leap year\n"
     ]
    }
   ],
   "source": [
    "year=int(input('Enter the year to check if its a leap year & Century year'))\n",
    "if (year % 4 == 0) or (year % 400 == 0):\n",
    "    if year % 100 == 0:\n",
    "        print(f'The {year} is a leap year and its a century year')\n",
    "    else:\n",
    "        print(f'The {year} is just a leap year')\n",
    "else:\n",
    "    print(f'The {year} is not a leap year')"
   ]
  },
  {
   "cell_type": "code",
   "execution_count": 57,
   "id": "1f9b8e18",
   "metadata": {},
   "outputs": [
    {
     "name": "stdout",
     "output_type": "stream",
     "text": [
      "Enter the year to check if its a leap year & Century year2004\n",
      "The 2004 is just a leap year\n"
     ]
    }
   ],
   "source": [
    "year=int(input('Enter the year to check if its a leap year & Century year'))\n",
    "if (year % 4 == 0) or (year % 400 == 0):\n",
    "    if year % 100 == 0:\n",
    "        print(f'The {year} is a leap year and its a century year')\n",
    "    else:\n",
    "        print(f'The {year} is just a leap year')\n",
    "else:\n",
    "    print(f'The {year} is not a leap year')"
   ]
  },
  {
   "cell_type": "markdown",
   "id": "8d784c16",
   "metadata": {},
   "source": [
    "14. Write a Python script to determine if a number is positive, negative, or zero."
   ]
  },
  {
   "cell_type": "code",
   "execution_count": 61,
   "id": "f8f3b8e2",
   "metadata": {},
   "outputs": [],
   "source": [
    "def num_check(inp_num):\n",
    "    if inp_num<0:\n",
    "        print(f'{inp_num} is a negative number')\n",
    "    elif inp_num>0:\n",
    "        print(f'{inp_num} is a positive number')\n",
    "    elif inp_num==0:\n",
    "        print(f'{inp_num} is zero')\n",
    "    else:\n",
    "        print('Provide a proper input to check')"
   ]
  },
  {
   "cell_type": "code",
   "execution_count": 62,
   "id": "aafdda1e",
   "metadata": {},
   "outputs": [
    {
     "name": "stdout",
     "output_type": "stream",
     "text": [
      "55 is a positive number\n",
      "-55 is a negative number\n",
      "0 is zero\n"
     ]
    }
   ],
   "source": [
    "num_check(55)\n",
    "num_check(-55)\n",
    "num_check(0)"
   ]
  },
  {
   "cell_type": "markdown",
   "id": "bcf8f492",
   "metadata": {},
   "source": [
    "15. Create a program to check if a person is a teenager (between 13 and 19 years old)."
   ]
  },
  {
   "cell_type": "code",
   "execution_count": 63,
   "id": "a80927ed",
   "metadata": {},
   "outputs": [],
   "source": [
    "def teenage_check(inp_age):\n",
    "    if inp_age>=13 and inp_age<=19:\n",
    "        print('The person is a teenager')\n",
    "    elif inp_age<13 or inp_age>19:\n",
    "        print('The Person is not a teenager')"
   ]
  },
  {
   "cell_type": "code",
   "execution_count": 64,
   "id": "228e4478",
   "metadata": {},
   "outputs": [
    {
     "name": "stdout",
     "output_type": "stream",
     "text": [
      "The Person is not a teenager\n",
      "The person is a teenager\n",
      "The Person is not a teenager\n"
     ]
    }
   ],
   "source": [
    "teenage_check(10)\n",
    "teenage_check(15)\n",
    "teenage_check(25)"
   ]
  },
  {
   "cell_type": "markdown",
   "id": "8c8a6cac",
   "metadata": {},
   "source": [
    "16. Develop a program that determines the type of angle based on its measure (acute, obtuse, or right)."
   ]
  },
  {
   "cell_type": "code",
   "execution_count": 67,
   "id": "f4c8a542",
   "metadata": {},
   "outputs": [],
   "source": [
    "def angle_check(inp_angle):\n",
    "    if inp_angle<90:\n",
    "        print('The angle is acute')\n",
    "    elif inp_angle>90:\n",
    "        print('The angle is obtuse')\n",
    "    else:\n",
    "        print('The angle is right')"
   ]
  },
  {
   "cell_type": "code",
   "execution_count": 68,
   "id": "da93e1bd",
   "metadata": {},
   "outputs": [
    {
     "name": "stdout",
     "output_type": "stream",
     "text": [
      "The angle is acute\n",
      "The angle is right\n",
      "The angle is obtuse\n"
     ]
    }
   ],
   "source": [
    "angle_check(30)\n",
    "angle_check(90)\n",
    "angle_check(120)"
   ]
  },
  {
   "cell_type": "markdown",
   "id": "7f07981c",
   "metadata": {},
   "source": [
    "17. Write a Python program to calculate the roots of a quadratic equation."
   ]
  },
  {
   "cell_type": "code",
   "execution_count": 69,
   "id": "719d5a61",
   "metadata": {},
   "outputs": [
    {
     "name": "stdout",
     "output_type": "stream",
     "text": [
      "Enter coefficient a: 10\n",
      "Enter coefficient b: 15\n",
      "Enter coefficient c: 20\n",
      "The roots of the quadratic equation are: (-0.75+1.1989578808281798j) and (-0.75-1.1989578808281798j)\n"
     ]
    }
   ],
   "source": [
    "import cmath  # Importing the complex math module\n",
    "\n",
    "def quadratic_roots(a, b, c):\n",
    "    # Calculate the discriminant\n",
    "    discriminant = (b ** 2) - (4 * a * c)\n",
    "\n",
    "    # Calculate the roots using the quadratic formula\n",
    "    root1 = (-b + cmath.sqrt(discriminant)) / (2 * a)\n",
    "    root2 = (-b - cmath.sqrt(discriminant)) / (2 * a)\n",
    "\n",
    "    return root1, root2\n",
    "\n",
    "# Input coefficients of the quadratic equation\n",
    "a = float(input(\"Enter coefficient a: \"))\n",
    "b = float(input(\"Enter coefficient b: \"))\n",
    "c = float(input(\"Enter coefficient c: \"))\n",
    "\n",
    "# Calculate and display the roots\n",
    "root1, root2 = quadratic_roots(a, b, c)\n",
    "print(f\"The roots of the quadratic equation are: {root1} and {root2}\")\n"
   ]
  },
  {
   "cell_type": "markdown",
   "id": "3c40ea20",
   "metadata": {},
   "source": [
    " 18. Implement a program to determine the day of the week based on a user-provided number (1 for Monday, 2 \n",
    "for Tuesday, etc.)."
   ]
  },
  {
   "cell_type": "code",
   "execution_count": 77,
   "id": "c2ab0d92",
   "metadata": {},
   "outputs": [],
   "source": [
    "def day_of_week(inp_day):\n",
    "    if inp_day==1:\n",
    "        print('1 for Monday')\n",
    "    elif inp_day==2:\n",
    "        print('2 for Tuesday')\n",
    "    elif inp_day==3:\n",
    "        print('3 for Wednesday')\n",
    "    elif inp_day==4:\n",
    "        print('4 for Thursday')\n",
    "    elif inp_day==5:\n",
    "        print('5 for Friday')\n",
    "    elif inp_day==6:\n",
    "        print('6 for Saturday')\n",
    "    elif inp_day==7:\n",
    "        print('7 for Sunday')\n",
    "    else:\n",
    "        print('Provide a proper input for date')"
   ]
  },
  {
   "cell_type": "code",
   "execution_count": 78,
   "id": "47b46cda",
   "metadata": {},
   "outputs": [
    {
     "name": "stdout",
     "output_type": "stream",
     "text": [
      "Provide a proper input for date\n"
     ]
    }
   ],
   "source": [
    "day_of_week(100)"
   ]
  },
  {
   "cell_type": "code",
   "execution_count": 79,
   "id": "39eee4bf",
   "metadata": {},
   "outputs": [
    {
     "name": "stdout",
     "output_type": "stream",
     "text": [
      "7 for Sunday\n"
     ]
    }
   ],
   "source": [
    "day_of_week(7)"
   ]
  },
  {
   "cell_type": "markdown",
   "id": "b1f84508",
   "metadata": {},
   "source": [
    "19. Create a program that determines if a year is a leap year and also if it is evenly divisible by 400."
   ]
  },
  {
   "cell_type": "code",
   "execution_count": 80,
   "id": "e8737b82",
   "metadata": {},
   "outputs": [
    {
     "name": "stdout",
     "output_type": "stream",
     "text": [
      "Enter the year to check if its a leap year & Century year2000\n",
      "The 2000 is a leap year and its a century year\n"
     ]
    }
   ],
   "source": [
    "year=int(input('Enter the year to check if its a leap year & Century year'))\n",
    "if (year % 4 == 0) or (year % 400 == 0):\n",
    "    if year % 100 == 0:\n",
    "        print(f'The {year} is a leap year and its a century year')\n",
    "    else:\n",
    "        print(f'The {year} is just a leap year')\n",
    "else:\n",
    "    print(f'The {year} is not a leap year')"
   ]
  },
  {
   "cell_type": "markdown",
   "id": "f3ff87be",
   "metadata": {},
   "source": [
    "20. Develop a program that checks if a given number is prime or not using nested if-else statements"
   ]
  },
  {
   "cell_type": "code",
   "execution_count": 81,
   "id": "b6e9559e",
   "metadata": {},
   "outputs": [],
   "source": [
    "def prime_num_check(inp_num):\n",
    "    if inp_num%inp_num==0 and inp_num%1==0 and inp_num%2!=0:\n",
    "        print('The number is Prime number')\n",
    "    elif inp_num==2:\n",
    "        print('The number is Prime number')\n",
    "    else:\n",
    "        print('The number is not a prime number')"
   ]
  },
  {
   "cell_type": "code",
   "execution_count": 87,
   "id": "e86ef77d",
   "metadata": {},
   "outputs": [
    {
     "name": "stdout",
     "output_type": "stream",
     "text": [
      "The number is Prime number\n",
      "The number is Prime number\n",
      "The number is not a prime number\n"
     ]
    }
   ],
   "source": [
    "prime_num_check(11)\n",
    "prime_num_check(2)\n",
    "prime_num_check(4)"
   ]
  },
  {
   "cell_type": "markdown",
   "id": "34edb3ba",
   "metadata": {},
   "source": [
    "## Elif Statements:"
   ]
  },
  {
   "cell_type": "markdown",
   "id": "4eb73086",
   "metadata": {},
   "source": [
    "21. Write a Python program to assign grades based on different ranges of scores using elif statements."
   ]
  },
  {
   "cell_type": "code",
   "execution_count": 108,
   "id": "afd11ed3",
   "metadata": {},
   "outputs": [],
   "source": [
    "def grade_calculate(inp1_score):\n",
    "    if inp1_score >= 95 and inp1_score <= 100:\n",
    "        print('O grade')\n",
    "    elif inp1_score >= 90 and inp1_score < 95:\n",
    "        print('A+ Grade')\n",
    "    elif inp1_score >= 80 and inp1_score < 90:\n",
    "        print('A Grade')\n",
    "    elif inp1_score >= 70 and inp1_score < 80:\n",
    "        print('B Grade')\n",
    "    elif inp1_score >= 50 and inp1_score < 70:\n",
    "        print('C Grade')\n",
    "    else:\n",
    "        print('Fail')"
   ]
  },
  {
   "cell_type": "code",
   "execution_count": 110,
   "id": "699516ad",
   "metadata": {},
   "outputs": [
    {
     "name": "stdout",
     "output_type": "stream",
     "text": [
      "O grade\n",
      "A Grade\n",
      "A+ Grade\n",
      "B Grade\n",
      "Fail\n"
     ]
    }
   ],
   "source": [
    "grade_calculate(95)\n",
    "grade_calculate(85)\n",
    "grade_calculate(90)\n",
    "grade_calculate(70)\n",
    "grade_calculate(15)"
   ]
  },
  {
   "cell_type": "markdown",
   "id": "2bcc3a9b",
   "metadata": {},
   "source": [
    "22. Implement a program to determine the type of a triangle based on its angles."
   ]
  },
  {
   "cell_type": "code",
   "execution_count": 112,
   "id": "ba22d08b",
   "metadata": {},
   "outputs": [
    {
     "name": "stdout",
     "output_type": "stream",
     "text": [
      "Enter angle 1: 90\n",
      "Enter angle 2: 90\n",
      "Enter angle 3: 90\n",
      "The triangle is Right-angled.\n"
     ]
    }
   ],
   "source": [
    "def triangle_type(angle1, angle2, angle3):\n",
    "    if angle1 == angle2 == angle3 == 60:\n",
    "        return \"Equilateral\"\n",
    "    elif angle1 > 90 or angle2 > 90 or angle3 > 90:\n",
    "        return \"Obtuse\"\n",
    "    elif angle1 == 90 or angle2 == 90 or angle3 == 90:\n",
    "        return \"Right-angled\"\n",
    "    else:\n",
    "        return \"Acute\"\n",
    "\n",
    "# Input angles of the triangle\n",
    "angle1 = int(input(\"Enter angle 1: \"))\n",
    "angle2 = int(input(\"Enter angle 2: \"))\n",
    "angle3 = int(input(\"Enter angle 3: \"))\n",
    "\n",
    "# Checking the type of triangle based on angles\n",
    "result = triangle_type(angle1, angle2, angle3)\n",
    "print(f\"The triangle is {result}.\")\n"
   ]
  },
  {
   "cell_type": "markdown",
   "id": "74f28360",
   "metadata": {},
   "source": [
    "23. Develop a program to categorize a given person's BMI into underweight, normal, overweight, or obese using \n",
    "elif statements."
   ]
  },
  {
   "cell_type": "code",
   "execution_count": 117,
   "id": "ae9da0ff",
   "metadata": {},
   "outputs": [],
   "source": [
    "def bmi_calculator(weight,height):\n",
    "    bmi=(weight/(height**2))\n",
    "    if bmi<18.5:\n",
    "        print('underweight')\n",
    "    elif bmi>=18.5 and bmi<24.9:\n",
    "        print('normal weight')\n",
    "    elif bmi>=25 and bmi<29.9:\n",
    "        print('Overweight')\n",
    "    elif bmi>=30:\n",
    "        print('Obese')"
   ]
  },
  {
   "cell_type": "code",
   "execution_count": 121,
   "id": "5de8c378",
   "metadata": {},
   "outputs": [
    {
     "name": "stdout",
     "output_type": "stream",
     "text": [
      "Overweight\n"
     ]
    }
   ],
   "source": [
    "bmi_calculator(92,1.76)"
   ]
  },
  {
   "cell_type": "markdown",
   "id": "06edcf04",
   "metadata": {},
   "source": [
    "24. Create a program that determines whether a given number is positive, negative, or zero using elif \n",
    "statements."
   ]
  },
  {
   "cell_type": "code",
   "execution_count": 131,
   "id": "df5887a6",
   "metadata": {},
   "outputs": [],
   "source": [
    "def determine_number(inp_num):\n",
    "    if isinstance(inp_num, (int, float)):\n",
    "        if inp_num>0:\n",
    "            print('Positive')\n",
    "        elif inp_num<0:\n",
    "            print('Negative')\n",
    "        else:\n",
    "            print('zero')\n",
    "    else:\n",
    "        print('Provide a proper input int/float')"
   ]
  },
  {
   "cell_type": "code",
   "execution_count": 133,
   "id": "ac3397c2",
   "metadata": {},
   "outputs": [
    {
     "name": "stdout",
     "output_type": "stream",
     "text": [
      "Negative\n",
      "Positive\n",
      "zero\n",
      "Provide a proper input int/float\n"
     ]
    }
   ],
   "source": [
    "determine_number(-10)\n",
    "determine_number(10)\n",
    "determine_number(0)\n",
    "determine_number('sasa')"
   ]
  },
  {
   "cell_type": "code",
   "execution_count": 129,
   "id": "403c204a",
   "metadata": {},
   "outputs": [
    {
     "data": {
      "text/plain": [
       "int"
      ]
     },
     "execution_count": 129,
     "metadata": {},
     "output_type": "execute_result"
    }
   ],
   "source": [
    "my_num=10\n",
    "type(my_num)"
   ]
  },
  {
   "cell_type": "markdown",
   "id": "29dbf244",
   "metadata": {},
   "source": [
    "25. Write a Python script to determine the type of a character (uppercase, lowercase, or special) using elif \n",
    "statements."
   ]
  },
  {
   "cell_type": "code",
   "execution_count": 135,
   "id": "99274d60",
   "metadata": {},
   "outputs": [
    {
     "name": "stdout",
     "output_type": "stream",
     "text": [
      "Enter a character: F\n",
      "The character 'F' is uppercase.\n"
     ]
    }
   ],
   "source": [
    "def check_character_type(char):\n",
    "    if char.islower():\n",
    "        print(f\"The character '{char}' is lowercase.\")\n",
    "    elif char.isupper():\n",
    "        print(f\"The character '{char}' is uppercase.\")\n",
    "    else:\n",
    "        print(f\"The character '{char}' is a special character or digit.\")\n",
    "\n",
    "# Input a character\n",
    "character = input(\"Enter a character: \")\n",
    "\n",
    "# Check the type of the character\n",
    "if len(character) == 1:\n",
    "    check_character_type(character)\n",
    "else:\n",
    "    print(\"Please enter only a single character.\")"
   ]
  },
  {
   "cell_type": "markdown",
   "id": "8b7c9325",
   "metadata": {},
   "source": [
    "26. Implement a program to calculate the discounted price based on different purchase amounts using elif \n",
    "statements."
   ]
  },
  {
   "cell_type": "code",
   "execution_count": 136,
   "id": "da0a30f1",
   "metadata": {},
   "outputs": [],
   "source": [
    "def discount_on_price(price):\n",
    "    if price>=7000 and price<10000:\n",
    "        print(f\"20% discount on price {price}: \", (price*(20/100)))\n",
    "    elif price>=5000 and price<7000:\n",
    "        print(f\"15% discount on price {price}: \", (price*(15/100)))\n",
    "    elif price>=2000 and price<5000:\n",
    "        print(f\"10% discount on price {price}: \", (price*(10/100)))\n",
    "    else:\n",
    "        print(f\"No discount for the price {price}\")"
   ]
  },
  {
   "cell_type": "code",
   "execution_count": 140,
   "id": "d08bc80c",
   "metadata": {},
   "outputs": [
    {
     "name": "stdout",
     "output_type": "stream",
     "text": [
      "No discount for the price 100\n",
      "15% discount on price 5000:  750.0\n",
      "15% discount on price 6700:  1005.0\n",
      "20% discount on price 8000:  1600.0\n"
     ]
    }
   ],
   "source": [
    "discount_on_price(100)\n",
    "discount_on_price(5000)\n",
    "discount_on_price(6700)\n",
    "discount_on_price(8000)"
   ]
  },
  {
   "cell_type": "markdown",
   "id": "3975512b",
   "metadata": {},
   "source": [
    "27. Develop a program to calculate the electricity bill based on different consumption slabs using elif \n",
    "statements."
   ]
  },
  {
   "cell_type": "code",
   "execution_count": 141,
   "id": "0ffd3d47",
   "metadata": {},
   "outputs": [],
   "source": [
    "def electricity_bill(units_consumed):\n",
    "    if units_consumed>900:\n",
    "        price_per_unit=20\n",
    "        print(f\"The electricity bill for the {units_consumed} is : \",(price_per_unit*units_consumed))\n",
    "    elif units_consumed>=500 and units_consumed<900:\n",
    "        price_per_unit=10\n",
    "        print(f\"The electricity bill for the {units_consumed} is : \",(price_per_unit*units_consumed))\n",
    "    elif units_consumed>=200 and units_consumed<500:\n",
    "        price_per_unit=8\n",
    "        print(f\"The electricity bill for the {units_consumed} is : \",(price_per_unit*units_consumed))\n",
    "    elif units_consumed>=10 and units_consumed<200:\n",
    "        price_per_unit=4\n",
    "        print(f\"The electricity bill for the {units_consumed} is : \",(price_per_unit*units_consumed))\n",
    "    else:\n",
    "        print(f\"The electricity bill is zero for {units_consumed}\")"
   ]
  },
  {
   "cell_type": "code",
   "execution_count": 144,
   "id": "0b00c42c",
   "metadata": {
    "scrolled": true
   },
   "outputs": [
    {
     "name": "stdout",
     "output_type": "stream",
     "text": [
      "The electricity bill for the 700 is :  7000\n",
      "The electricity bill for the 950 is :  19000\n",
      "The electricity bill for the 350 is :  2800\n",
      "The electricity bill for the 250 is :  2000\n",
      "The electricity bill for the 50 is :  200\n"
     ]
    }
   ],
   "source": [
    "electricity_bill(700)\n",
    "electricity_bill(950)\n",
    "electricity_bill(350)\n",
    "electricity_bill(250)\n",
    "electricity_bill(50)"
   ]
  },
  {
   "cell_type": "markdown",
   "id": "fc0de6fe",
   "metadata": {},
   "source": [
    "28. Create a program to determine the type of quadrilateral based on its angles and sides using elif \n",
    "statements."
   ]
  },
  {
   "cell_type": "code",
   "execution_count": 145,
   "id": "c5f52579",
   "metadata": {},
   "outputs": [
    {
     "name": "stdout",
     "output_type": "stream",
     "text": [
      "Enter side 1: 10\n",
      "Enter side 2: 20\n",
      "Enter side 3: 25\n",
      "Enter side 4: 35\n",
      "Enter angle 1: 45\n",
      "Enter angle 2: 45\n",
      "Enter angle 3: 45\n",
      "Enter angle 4: 90\n",
      "The quadrilateral is a Quadrilateral with a right angle.\n"
     ]
    }
   ],
   "source": [
    "def quadrilateral_type(sides, angles):\n",
    "    if 90 in angles:\n",
    "        if sides.count(sides[0]) == 4:\n",
    "            return \"Square\"\n",
    "        elif sides[0] == sides[2] and sides[1] == sides[3]:\n",
    "            return \"Rectangle\"\n",
    "        else:\n",
    "            return \"Quadrilateral with a right angle\"\n",
    "    elif sides.count(sides[0]) == 4:\n",
    "        return \"Rhombus\"\n",
    "    elif sides[0] == sides[2] and sides[1] == sides[3]:\n",
    "        return \"Parallelogram\"\n",
    "    else:\n",
    "        return \"Other quadrilateral\"\n",
    "\n",
    "# Input sides and angles\n",
    "sides = [float(input(f\"Enter side {i+1}: \")) for i in range(4)]\n",
    "angles = [float(input(f\"Enter angle {i+1}: \")) for i in range(4)]\n",
    "\n",
    "# Check type of quadrilateral\n",
    "quadrilateral = quadrilateral_type(sides, angles)\n",
    "print(f\"The quadrilateral is a {quadrilateral}.\")\n"
   ]
  },
  {
   "cell_type": "markdown",
   "id": "6d1b231a",
   "metadata": {},
   "source": [
    "29. Write a Python script to determine the season based on a user-provided month using elif statements."
   ]
  },
  {
   "cell_type": "code",
   "execution_count": 148,
   "id": "fe5eb65e",
   "metadata": {},
   "outputs": [],
   "source": [
    "def season_determine(inp_month):\n",
    "    if inp_month.lower() in ['april','may','june']:\n",
    "        print(f'The {inp_month} falls in summer season')\n",
    "    elif inp_month.lower() in ['july','august','september']:\n",
    "        print(f'The {inp_month} falls in windy season')\n",
    "    elif inp_month.lower() in ['october','november']:\n",
    "        print(f'The {inp_month} falls in rainy season')\n",
    "    elif inp_month.lower() in ['december','january','february']:\n",
    "        print(f'The {inp_month} falls in winter season')\n",
    "    else:\n",
    "        print(f'Provide a proper month as input')"
   ]
  },
  {
   "cell_type": "code",
   "execution_count": 149,
   "id": "98d1f819",
   "metadata": {},
   "outputs": [
    {
     "name": "stdout",
     "output_type": "stream",
     "text": [
      "The january falls in winter season\n",
      "The april falls in summer season\n",
      "The october falls in rainy season\n",
      "Provide a proper month as input\n"
     ]
    }
   ],
   "source": [
    "season_determine('january')\n",
    "season_determine('april')\n",
    "season_determine('october')\n",
    "season_determine('apr')"
   ]
  },
  {
   "cell_type": "markdown",
   "id": "b29de31b",
   "metadata": {},
   "source": [
    "30. Implement a program to determine the type of a year (leap or common) and month (30 or 31 days) using \n",
    "elif statements."
   ]
  },
  {
   "cell_type": "code",
   "execution_count": 150,
   "id": "8d9a3f55",
   "metadata": {},
   "outputs": [
    {
     "name": "stdout",
     "output_type": "stream",
     "text": [
      "Enter the year: 2024\n",
      "Enter the month (1-12): 5\n",
      "The year 2024 is a Leap year and the month 5 has 31 days.\n"
     ]
    }
   ],
   "source": [
    "def check_year_and_month(year, month):\n",
    "    if (year % 4 == 0 and year % 100 != 0) or (year % 400 == 0):\n",
    "        year_type = \"Leap year\"\n",
    "    else:\n",
    "        year_type = \"Common year\"\n",
    "\n",
    "    if month in [4, 6, 9, 11]:\n",
    "        month_days = \"30 days\"\n",
    "    elif month == 2:\n",
    "        month_days = \"28 or 29 days\"\n",
    "        if year_type == \"Leap year\":\n",
    "            month_days = \"29 days\"\n",
    "    else:\n",
    "        month_days = \"31 days\"\n",
    "\n",
    "    return f\"The year {year} is a {year_type} and the month {month} has {month_days}.\"\n",
    "\n",
    "# Input year and month\n",
    "year_input = int(input(\"Enter the year: \"))\n",
    "month_input = int(input(\"Enter the month (1-12): \"))\n",
    "\n",
    "# Check type of year and days in month\n",
    "result = check_year_and_month(year_input, month_input)\n",
    "print(result)"
   ]
  },
  {
   "cell_type": "markdown",
   "id": "ee698509",
   "metadata": {},
   "source": [
    "## Basic Level:"
   ]
  },
  {
   "cell_type": "markdown",
   "id": "e23fb62a",
   "metadata": {},
   "source": [
    "1. Write a Python program that checks if a given number is positive, negative, or zero."
   ]
  },
  {
   "cell_type": "code",
   "execution_count": 3,
   "id": "a07f845c",
   "metadata": {},
   "outputs": [
    {
     "name": "stdout",
     "output_type": "stream",
     "text": [
      "Enter the number to check if its positive/negative/zero-34\n",
      "The number -34 is negative\n"
     ]
    }
   ],
   "source": [
    "inp_num=int(input('Enter the number to check if its positive/negative/zero'))\n",
    "\n",
    "if inp_num==0:\n",
    "    print(f'The number {inp_num} is zero')\n",
    "elif inp_num>0:\n",
    "    print(f'The number {inp_num} is positive')\n",
    "elif inp_num<0:\n",
    "    print(f'The number {inp_num} is negative')\n",
    "else:\n",
    "    print(f'Provide a proper input')    "
   ]
  },
  {
   "cell_type": "markdown",
   "id": "744a69ad",
   "metadata": {},
   "source": [
    "2. Create a program to determine if a person is eligible to vote based on their age."
   ]
  },
  {
   "cell_type": "code",
   "execution_count": 8,
   "id": "a193797f",
   "metadata": {},
   "outputs": [
    {
     "name": "stdout",
     "output_type": "stream",
     "text": [
      "Enter the age to check voting eligibilty : 4\n",
      "The person's age 4 not eligible to vote\n"
     ]
    }
   ],
   "source": [
    "inp_age=int(input('Enter the age to check voting eligibilty : '))\n",
    "\n",
    "if inp_age<18 and inp_age>0:\n",
    "    print(f\"The person's age {inp_age} not eligible to vote\")\n",
    "elif inp_age>18 and inp_age<100:\n",
    "    print(f\"The person's age {inp_age} is eligible to vote\")\n",
    "else:\n",
    "    print('Provide a proper age with 1 to 100 to validate')"
   ]
  },
  {
   "cell_type": "markdown",
   "id": "5a480ece",
   "metadata": {},
   "source": [
    "3. Write a program to find the maximum of two given numbers using conditional statements."
   ]
  },
  {
   "cell_type": "code",
   "execution_count": 12,
   "id": "4708db2c",
   "metadata": {},
   "outputs": [
    {
     "name": "stdout",
     "output_type": "stream",
     "text": [
      "Enter the first number : 100\n",
      "Enter the second number : 10\n",
      "100 is the bigger number among 100 and 10\n"
     ]
    }
   ],
   "source": [
    "inp_num1=int(input('Enter the first number : '))\n",
    "inp_num2=int(input('Enter the second number : '))\n",
    "\n",
    "if inp_num1>inp_num2:\n",
    "    print(f'{inp_num1} is the bigger number among {inp_num1} and {inp_num2}')\n",
    "elif inp_num1<inp_num2:\n",
    "    print(f'{inp_num2} is the bigger number among {inp_num1} and {inp_num2}')\n",
    "elif inp_num1==inp_num2:\n",
    "    print(f'{inp_num1} and {inp_num2} are both same')\n",
    "else:\n",
    "    print('Provide a proper input to validate')"
   ]
  },
  {
   "cell_type": "markdown",
   "id": "6ba9faad",
   "metadata": {},
   "source": [
    "4. Develop a program that calculates the grade of a student based on their exam score."
   ]
  },
  {
   "cell_type": "code",
   "execution_count": 15,
   "id": "74c1521f",
   "metadata": {},
   "outputs": [
    {
     "name": "stdout",
     "output_type": "stream",
     "text": [
      "Provide the exam score to generate grade : 95\n",
      "Student has secured O grade\n"
     ]
    }
   ],
   "source": [
    "inp_score=float(input('Provide the exam score to generate grade : '))\n",
    "\n",
    "if inp_score >90 and inp_score <=100:\n",
    "    print('Student has secured O grade')\n",
    "elif inp_score >85 and inp_score<=90:\n",
    "    print('Student has secured A+ grade')\n",
    "elif inp_score >80 and inp_score<=85:\n",
    "    print('Student has secured A grade')\n",
    "elif inp_score>65 and inp_score<=80:\n",
    "    print('Student has secured B grade')\n",
    "elif inp_score>45 and inp_score<=65:\n",
    "    print('Student has secured B grade')\n",
    "else:\n",
    "    print('Provide a proper score to validate')"
   ]
  },
  {
   "cell_type": "markdown",
   "id": "b35d4ba9",
   "metadata": {},
   "source": [
    "5. Create a program that checks if a year is a leap year or not."
   ]
  },
  {
   "cell_type": "code",
   "execution_count": 16,
   "id": "2165b964",
   "metadata": {},
   "outputs": [
    {
     "name": "stdout",
     "output_type": "stream",
     "text": [
      "2020 is a leap year.\n",
      "2021 is not a leap year.\n",
      "1900 is not a leap year.\n",
      "2000 is a leap year.\n"
     ]
    }
   ],
   "source": [
    "def is_leap_year(year):\n",
    "    if (year % 4 == 0 and year % 100 != 0) or (year % 400 == 0):\n",
    "        return True\n",
    "    else:\n",
    "        return False\n",
    "\n",
    "# Test cases\n",
    "years_to_check = [2020, 2021, 1900, 2000]\n",
    "\n",
    "for year in years_to_check:\n",
    "    if is_leap_year(year):\n",
    "        print(f\"{year} is a leap year.\")\n",
    "    else:\n",
    "        print(f\"{year} is not a leap year.\")"
   ]
  },
  {
   "cell_type": "markdown",
   "id": "7188fd2d",
   "metadata": {},
   "source": [
    "6. Write a program to classify a triangle based on its sides' lengths."
   ]
  },
  {
   "cell_type": "code",
   "execution_count": 17,
   "id": "ef1f646e",
   "metadata": {},
   "outputs": [
    {
     "name": "stdout",
     "output_type": "stream",
     "text": [
      "Enter length of side A: 10\n",
      "Enter length of side B: 20\n",
      "Enter length of side C: 30\n",
      "The triangle is a Scalene triangle.\n"
     ]
    }
   ],
   "source": [
    "def classify_triangle(side1, side2, side3):\n",
    "    if side1 == side2 == side3:\n",
    "        return \"Equilateral triangle\"\n",
    "    elif side1 == side2 or side1 == side3 or side2 == side3:\n",
    "        return \"Isosceles triangle\"\n",
    "    else:\n",
    "        return \"Scalene triangle\"\n",
    "\n",
    "# Input side lengths\n",
    "side_a = float(input(\"Enter length of side A: \"))\n",
    "side_b = float(input(\"Enter length of side B: \"))\n",
    "side_c = float(input(\"Enter length of side C: \"))\n",
    "\n",
    "# Classify the triangle\n",
    "triangle_type = classify_triangle(side_a, side_b, side_c)\n",
    "print(f\"The triangle is a {triangle_type}.\")"
   ]
  },
  {
   "cell_type": "markdown",
   "id": "8e92198e",
   "metadata": {},
   "source": [
    "7. Build a program that determines the largest of three given numbers."
   ]
  },
  {
   "cell_type": "code",
   "execution_count": 19,
   "id": "25858050",
   "metadata": {},
   "outputs": [
    {
     "name": "stdout",
     "output_type": "stream",
     "text": [
      "Enter the three numbers to find the largest among them : 78,789,999999\n",
      "The maximum number among the given list of numbers ['78', '789', '999999'] is : 999999.0\n"
     ]
    }
   ],
   "source": [
    "inp_num=input('Enter the three numbers to find the largest among them : ')\n",
    "\n",
    "import sys\n",
    "max_num = -sys.maxsize-1\n",
    "inp_lst=inp_num.split(',')\n",
    "\n",
    "for nums in inp_lst:\n",
    "    nums_inp=float(nums)\n",
    "    if nums_inp>max_num:\n",
    "        max_num=nums_inp\n",
    "    else:\n",
    "        continue\n",
    "print(f'The maximum number among the given list of numbers {inp_lst} is :',max_num)"
   ]
  },
  {
   "cell_type": "markdown",
   "id": "62ad9a84",
   "metadata": {},
   "source": [
    "8. Develop a program that checks whether a character is a vowel or a consonant."
   ]
  },
  {
   "cell_type": "code",
   "execution_count": 20,
   "id": "6bba1a1c",
   "metadata": {},
   "outputs": [
    {
     "name": "stdout",
     "output_type": "stream",
     "text": [
      "Enter the character to check if its a vowel or consonant: t\n",
      "The input characater 't' is a consonant\n"
     ]
    }
   ],
   "source": [
    "inp_char=input('Enter the character to check if its a vowel or consonant: ')\n",
    "\n",
    "if inp_char in 'aeiou':\n",
    "    print(f\"The input characater '{inp_char}' is a vowel\")\n",
    "else:\n",
    "    print(f\"The input characater '{inp_char}' is a consonant\")"
   ]
  },
  {
   "cell_type": "markdown",
   "id": "527ae411",
   "metadata": {},
   "source": [
    "9. Create a program to calculate the total cost of a shopping cart based on discounts."
   ]
  },
  {
   "cell_type": "code",
   "execution_count": 22,
   "id": "b6f487e6",
   "metadata": {},
   "outputs": [
    {
     "name": "stdout",
     "output_type": "stream",
     "text": [
      "The total cost of the shopping cart is $121.50\n"
     ]
    }
   ],
   "source": [
    "def calculate_total_cost(items):\n",
    "    total_cost = 0\n",
    "\n",
    "    for item, quantity, price in items:\n",
    "        item_cost = quantity * price\n",
    "        total_cost += item_cost\n",
    "\n",
    "    # Apply discount rules\n",
    "    if total_cost > 100:\n",
    "        total_cost *= 0.9  # 10% discount for total cost above 100\n",
    "\n",
    "    return total_cost\n",
    "\n",
    "# Shopping cart items: (item name, quantity, price)\n",
    "cart_items = [\n",
    "    (\"Shirt\", 2, 25),\n",
    "    (\"Pants\", 1, 35),\n",
    "    (\"Shoes\", 1, 50)\n",
    "]\n",
    "\n",
    "# Calculate total cost\n",
    "total = calculate_total_cost(cart_items)\n",
    "print(f\"The total cost of the shopping cart is ${total:.2f}\")\n"
   ]
  },
  {
   "cell_type": "markdown",
   "id": "2a6c4e0f",
   "metadata": {},
   "source": [
    "10. Write a program that checks if a given number is even or odd."
   ]
  },
  {
   "cell_type": "code",
   "execution_count": 21,
   "id": "78c16c9d",
   "metadata": {},
   "outputs": [
    {
     "name": "stdout",
     "output_type": "stream",
     "text": [
      "Enter the number to check if its a even or odd: 4\n",
      "The input number '4' is even\n"
     ]
    }
   ],
   "source": [
    "inp_num=int(input('Enter the number to check if its a even or odd: '))\n",
    "\n",
    "if inp_num%2==0:\n",
    "    print(f\"The input number '{inp_num}' is even\")\n",
    "else:\n",
    "    print(f\"The input number '{inp_num}' is odd\")"
   ]
  },
  {
   "cell_type": "markdown",
   "id": "4d6a3408",
   "metadata": {},
   "source": [
    "## Intermediate Level:"
   ]
  },
  {
   "cell_type": "markdown",
   "id": "3e29f4d4",
   "metadata": {},
   "source": [
    "11. Write a program that calculates the roots of a quadratic equation"
   ]
  },
  {
   "cell_type": "code",
   "execution_count": 23,
   "id": "fc0d6c16",
   "metadata": {},
   "outputs": [
    {
     "name": "stdout",
     "output_type": "stream",
     "text": [
      "Enter coefficient a: 10\n",
      "Enter coefficient b: 20\n",
      "Enter coefficient c: 30\n",
      "The roots of the quadratic equation are: (-1+1.4142135623730951j) and (-1-1.4142135623730951j)\n"
     ]
    }
   ],
   "source": [
    "import cmath  # Importing the complex math module\n",
    "\n",
    "def quadratic_roots(a, b, c):\n",
    "    # Calculate the discriminant\n",
    "    discriminant = (b ** 2) - (4 * a * c)\n",
    "\n",
    "    # Calculate the roots using the quadratic formula\n",
    "    root1 = (-b + cmath.sqrt(discriminant)) / (2 * a)\n",
    "    root2 = (-b - cmath.sqrt(discriminant)) / (2 * a)\n",
    "\n",
    "    return root1, root2\n",
    "\n",
    "# Input coefficients of the quadratic equation\n",
    "a = float(input(\"Enter coefficient a: \"))\n",
    "b = float(input(\"Enter coefficient b: \"))\n",
    "c = float(input(\"Enter coefficient c: \"))\n",
    "\n",
    "# Calculate and display the roots\n",
    "root1, root2 = quadratic_roots(a, b, c)\n",
    "print(f\"The roots of the quadratic equation are: {root1} and {root2}\")"
   ]
  },
  {
   "cell_type": "markdown",
   "id": "8dda117d",
   "metadata": {},
   "source": [
    "12. Create a program that determines the day of the week based on the day number (1-7)."
   ]
  },
  {
   "cell_type": "code",
   "execution_count": 24,
   "id": "0114f52b",
   "metadata": {},
   "outputs": [],
   "source": [
    "def day_of_week(inp_day):\n",
    "    if inp_day==1:\n",
    "        print('1 for Monday')\n",
    "    elif inp_day==2:\n",
    "        print('2 for Tuesday')\n",
    "    elif inp_day==3:\n",
    "        print('3 for Wednesday')\n",
    "    elif inp_day==4:\n",
    "        print('4 for Thursday')\n",
    "    elif inp_day==5:\n",
    "        print('5 for Friday')\n",
    "    elif inp_day==6:\n",
    "        print('6 for Saturday')\n",
    "    elif inp_day==7:\n",
    "        print('7 for Sunday')\n",
    "    else:\n",
    "        print('Provide a proper input for date')"
   ]
  },
  {
   "cell_type": "code",
   "execution_count": 25,
   "id": "017c6e2b",
   "metadata": {},
   "outputs": [
    {
     "name": "stdout",
     "output_type": "stream",
     "text": [
      "7 for Sunday\n"
     ]
    }
   ],
   "source": [
    "day_of_week(7)"
   ]
  },
  {
   "cell_type": "markdown",
   "id": "0296ea06",
   "metadata": {},
   "source": [
    "13. Develop a program that calculates the factorial of a given number using recursion."
   ]
  },
  {
   "cell_type": "code",
   "execution_count": 7,
   "id": "b4ddfaa4",
   "metadata": {},
   "outputs": [
    {
     "name": "stdout",
     "output_type": "stream",
     "text": [
      "Enter the number to calculate the factorial : 0\n",
      "Factorial of 0 is: 1\n"
     ]
    }
   ],
   "source": [
    "def factorial(n):\n",
    "    if n == 0 or n == 1:  # Base case: factorial of 0 and 1 is 1\n",
    "        return 1\n",
    "    else:\n",
    "        return n * factorial(n - 1)  # Recursive case: factorial of n is n * factorial(n-1)\n",
    "\n",
    "# Calculate factorial of 5\n",
    "n=int(input('Enter the number to calculate the factorial : '))\n",
    "result = factorial(n)\n",
    "print(f\"Factorial of {n} is:\", result)\n"
   ]
  },
  {
   "cell_type": "markdown",
   "id": "eb858315",
   "metadata": {},
   "source": [
    "14. Write a program to find the largest among three numbers without using the `max()` function."
   ]
  },
  {
   "cell_type": "code",
   "execution_count": 9,
   "id": "65b66f6a",
   "metadata": {},
   "outputs": [
    {
     "name": "stdout",
     "output_type": "stream",
     "text": [
      "Enter the first number : 10\n",
      "Enter the second number : 345\n",
      "Enter the third number : 678\n"
     ]
    },
    {
     "data": {
      "text/plain": [
       "678.0"
      ]
     },
     "execution_count": 9,
     "metadata": {},
     "output_type": "execute_result"
    }
   ],
   "source": [
    "inp_num1=float(input('Enter the first number : '))\n",
    "inp_num2=float(input('Enter the second number : '))\n",
    "inp_num3=float(input('Enter the third number : '))\n",
    "\n",
    "max(inp_num1,inp_num2,inp_num3)"
   ]
  },
  {
   "cell_type": "markdown",
   "id": "f3b24c81",
   "metadata": {},
   "source": [
    "15. Create a program that simulates a basic ATM transaction menu."
   ]
  },
  {
   "cell_type": "code",
   "execution_count": 22,
   "id": "33a9d06c",
   "metadata": {},
   "outputs": [
    {
     "name": "stdout",
     "output_type": "stream",
     "text": [
      "Welcome to the ATM\n",
      "1. Check Balance\n",
      "2. Withdraw\n",
      "3. Deposit\n",
      "4. Quit\n",
      "Enter choice (1/2/3/4): 1\n",
      "Your balance is $1000\n",
      "Enter choice (1/2/3/4): 2\n",
      "Enter amount to withdraw: $200\n",
      "Withdrawn $200.0\n",
      "Enter choice (1/2/3/4): 1\n",
      "Your balance is $1000\n",
      "Enter choice (1/2/3/4): 4\n",
      "Thank you for using the ATM\n"
     ]
    }
   ],
   "source": [
    "def check_balance():\n",
    "    print(\"Your balance is $1000\")\n",
    "\n",
    "def withdraw(amount):\n",
    "    if amount <= 1000:\n",
    "        print(f\"Withdrawn ${amount}\")\n",
    "    else:\n",
    "        print(\"Insufficient balance\")\n",
    "\n",
    "def deposit(amount):\n",
    "    print(f\"Deposited ${amount}\")\n",
    "\n",
    "print(\"Welcome to the ATM\")\n",
    "print(\"1. Check Balance\")\n",
    "print(\"2. Withdraw\")\n",
    "print(\"3. Deposit\")\n",
    "print(\"4. Quit\")\n",
    "\n",
    "while True:\n",
    "    choice = input(\"Enter choice (1/2/3/4): \")\n",
    "\n",
    "    if choice == '1':\n",
    "        check_balance()\n",
    "    elif choice == '2':\n",
    "        amount = float(input(\"Enter amount to withdraw: $\"))\n",
    "        withdraw(amount)\n",
    "    elif choice == '3':\n",
    "        amount = float(input(\"Enter amount to deposit: $\"))\n",
    "        deposit(amount)\n",
    "    elif choice == '4':\n",
    "        print(\"Thank you for using the ATM\")\n",
    "        break\n",
    "    else:\n",
    "        print(\"Invalid choice\")\n"
   ]
  },
  {
   "cell_type": "markdown",
   "id": "d4a4e916",
   "metadata": {},
   "source": [
    "16. Build a program that checks if a given string is a palindrome or not."
   ]
  },
  {
   "cell_type": "code",
   "execution_count": 10,
   "id": "b13104ab",
   "metadata": {},
   "outputs": [
    {
     "name": "stdout",
     "output_type": "stream",
     "text": [
      "Enter the input string to validate if given string is a Palindrome: malayalam\n",
      "The given string 'malayalam' is a palindrome\n"
     ]
    }
   ],
   "source": [
    "inp_str=input('Enter the input string to validate if given string is a Palindrome: ')\n",
    "if inp_str == inp_str[::-1]:\n",
    "    print(f\"The given string '{inp_str}' is a palindrome\")\n",
    "else:\n",
    "    print(f\"The given string {inp_str} is not a palindrome\")"
   ]
  },
  {
   "cell_type": "markdown",
   "id": "dd40ea97",
   "metadata": {},
   "source": [
    "17. Write a program that calculates the average of a list of numbers, excluding the smallest and largest values."
   ]
  },
  {
   "cell_type": "code",
   "execution_count": 18,
   "id": "e2852015",
   "metadata": {},
   "outputs": [
    {
     "name": "stdout",
     "output_type": "stream",
     "text": [
      "Enter the three numbers to find the largest among them : 10,5,67,3,765,998,1\n",
      "['10', '5', '67', '3', '765', '998', '1']\n",
      "The average of the input list 10,5,67,3,765,998,1 excluding smallest and largest values ['10', '5', '67', '3', '765'] :  170.0\n"
     ]
    }
   ],
   "source": [
    "inp_num=input('Enter the three numbers to find the largest among them : ')\n",
    "\n",
    "import sys\n",
    "max_num = -sys.maxsize-1\n",
    "inp_lst=inp_num.split(',')\n",
    "\n",
    "print(inp_lst)\n",
    "inp_lst.remove(min(inp_lst))\n",
    "inp_lst.remove(max(inp_lst))\n",
    "\n",
    "avg=0\n",
    "for items in inp_lst:\n",
    "    avg=avg+float(items)\n",
    "\n",
    "avg=avg/len(inp_lst)\n",
    "print(f'The average of the input list {inp_num} excluding smallest and largest values {inp_lst} : ',avg)"
   ]
  },
  {
   "cell_type": "markdown",
   "id": "115318dd",
   "metadata": {},
   "source": [
    "18. Develop a program that converts a given temperature from Celsius to Fahrenheit."
   ]
  },
  {
   "cell_type": "code",
   "execution_count": 19,
   "id": "9d234b3b",
   "metadata": {},
   "outputs": [
    {
     "name": "stdout",
     "output_type": "stream",
     "text": [
      "Enter temperature in Celsius: 40\n",
      "40.0°C is equal to 104.0°F\n"
     ]
    }
   ],
   "source": [
    "def celsius_to_fahrenheit(celsius):\n",
    "    fahrenheit = (celsius * 9/5) + 32\n",
    "    return fahrenheit\n",
    "\n",
    "# Input temperature in Celsius\n",
    "celsius_temp = float(input(\"Enter temperature in Celsius: \"))\n",
    "\n",
    "# Convert Celsius to Fahrenheit\n",
    "fahrenheit_temp = celsius_to_fahrenheit(celsius_temp)\n",
    "print(f\"{celsius_temp}°C is equal to {fahrenheit_temp}°F\")\n"
   ]
  },
  {
   "cell_type": "markdown",
   "id": "3e46c21b",
   "metadata": {},
   "source": [
    "19. Create a program that simulates a basic calculator for addition, subtraction, multiplication, and division."
   ]
  },
  {
   "cell_type": "code",
   "execution_count": 20,
   "id": "5a43ea88",
   "metadata": {},
   "outputs": [
    {
     "name": "stdout",
     "output_type": "stream",
     "text": [
      "Select operation:\n",
      "1. Addition\n",
      "2. Subtraction\n",
      "3. Multiplication\n",
      "4. Division\n",
      "Enter choice (1/2/3/4): 1\n",
      "Enter first number: 10\n",
      "Enter second number: 20\n",
      "10.0 + 20.0 = 30.0\n"
     ]
    }
   ],
   "source": [
    "def add(a, b):\n",
    "    return a + b\n",
    "\n",
    "def subtract(a, b):\n",
    "    return a - b\n",
    "\n",
    "def multiply(a, b):\n",
    "    return a * b\n",
    "\n",
    "def divide(a, b):\n",
    "    if b == 0:\n",
    "        return \"Error: Division by zero\"\n",
    "    return a / b\n",
    "\n",
    "print(\"Select operation:\")\n",
    "print(\"1. Addition\")\n",
    "print(\"2. Subtraction\")\n",
    "print(\"3. Multiplication\")\n",
    "print(\"4. Division\")\n",
    "\n",
    "choice = input(\"Enter choice (1/2/3/4): \")\n",
    "\n",
    "num1 = float(input(\"Enter first number: \"))\n",
    "num2 = float(input(\"Enter second number: \"))\n",
    "\n",
    "if choice == '1':\n",
    "    print(f\"{num1} + {num2} = {add(num1, num2)}\")\n",
    "elif choice == '2':\n",
    "    print(f\"{num1} - {num2} = {subtract(num1, num2)}\")\n",
    "elif choice == '3':\n",
    "    print(f\"{num1} * {num2} = {multiply(num1, num2)}\")\n",
    "elif choice == '4':\n",
    "    print(f\"{num1} / {num2} = {divide(num1, num2)}\")\n",
    "else:\n",
    "    print(\"Invalid input\")\n"
   ]
  },
  {
   "cell_type": "markdown",
   "id": "00636c28",
   "metadata": {},
   "source": [
    "20. Write a program that determines the roots of a cubic equation using the Cardano formula"
   ]
  },
  {
   "cell_type": "code",
   "execution_count": 21,
   "id": "ae14f779",
   "metadata": {},
   "outputs": [
    {
     "name": "stdout",
     "output_type": "stream",
     "text": [
      "Enter coefficient a: 10\n",
      "Enter coefficient b: 20\n",
      "Enter coefficient c: 30\n",
      "Enter constant term d: 5\n",
      "The roots of the cubic equation are: ((-0.18801840607370118+0j), (-0.18801840607370118+0j), (-0.18801840607370118+0j))\n"
     ]
    }
   ],
   "source": [
    "import cmath  # Importing complex math module\n",
    "\n",
    "def cubic_roots(a, b, c, d):\n",
    "    # Calculate discriminants\n",
    "    delta_0 = b**2 - 3*a*c\n",
    "    delta_1 = 2*b**3 - 9*a*b*c + 27*a**2*d\n",
    "\n",
    "    # Calculate roots using Cardano's formula\n",
    "    C = ((delta_1 + cmath.sqrt(delta_1**2 - 4*delta_0**3)) / 2)**(1/3)\n",
    "    u = 1\n",
    "    if C.real == 0:\n",
    "        u = cmath.exp(2j*cmath.pi/3)\n",
    "    x1 = (-1/(3*a)) * (b + u*C + delta_0/(u*C))\n",
    "    u = 1\n",
    "    if C.real == 0:\n",
    "        u = cmath.exp(-2j*cmath.pi/3)\n",
    "    x2 = (-1/(3*a)) * (b + u*C + delta_0/(u*C))\n",
    "    u = 1\n",
    "    if C.real == 0:\n",
    "        u = cmath.exp(4j*cmath.pi/3)\n",
    "    x3 = (-1/(3*a)) * (b + u*C + delta_0/(u*C))\n",
    "\n",
    "    return x1, x2, x3\n",
    "\n",
    "# Coefficients of the cubic equation: ax^3 + bx^2 + cx + d = 0\n",
    "a = float(input(\"Enter coefficient a: \"))\n",
    "b = float(input(\"Enter coefficient b: \"))\n",
    "c = float(input(\"Enter coefficient c: \"))\n",
    "d = float(input(\"Enter constant term d: \"))\n",
    "\n",
    "# Calculate roots of the cubic equation\n",
    "roots = cubic_roots(a, b, c, d)\n",
    "print(f\"The roots of the cubic equation are: {roots}\")\n"
   ]
  },
  {
   "cell_type": "markdown",
   "id": "70e749f2",
   "metadata": {},
   "source": [
    "## Advanced Level:"
   ]
  },
  {
   "cell_type": "markdown",
   "id": "3aa67a38",
   "metadata": {},
   "source": [
    "21. Create a program that calculates the income tax based on the user's income and tax brackets."
   ]
  },
  {
   "cell_type": "code",
   "execution_count": 26,
   "id": "89249644",
   "metadata": {},
   "outputs": [
    {
     "name": "stdout",
     "output_type": "stream",
     "text": [
      "Salary: $995000\n",
      "Tax: $111499.9\n",
      "Net Salary: $883500.1\n"
     ]
    }
   ],
   "source": [
    "def calculate_tax(salary):\n",
    "    if salary <= 250000:\n",
    "        tax = 0\n",
    "    elif salary <= 300000:\n",
    "        tax = (salary - 250000) * 0.05\n",
    "    elif salary <= 500000:\n",
    "        tax = (300000 - 250001) * 0.05 + (salary - 300000) * 0.05  # Corrected tax rate to 0.05\n",
    "    elif salary <= 1000000:\n",
    "        tax = (300000 - 250001) * 0.05 + (500000 - 300001) * 0.05 + (salary - 500000) * 0.2  # Corrected tax rate to 0.05\n",
    "    else:\n",
    "        tax = (300000 - 250001) * 0.05 + (500000 - 300001) * 0.05 + (1000000 - 500001) * 0.2 + (salary - 1000000) * 0.3\n",
    "    return tax\n",
    "\n",
    "salary = 995000\n",
    "tax = calculate_tax(salary)\n",
    "\n",
    "net_salary = salary - tax\n",
    "print(f\"Salary: ${salary}\")\n",
    "print(f\"Tax: ${tax}\")\n",
    "print(f\"Net Salary: ${net_salary}\")"
   ]
  },
  {
   "cell_type": "markdown",
   "id": "c15bf90d",
   "metadata": {},
   "source": [
    "22. Write a program that simulates a rock-paper-scissors game against the computer."
   ]
  },
  {
   "cell_type": "code",
   "execution_count": 1,
   "id": "feca9cd4",
   "metadata": {},
   "outputs": [
    {
     "name": "stdout",
     "output_type": "stream",
     "text": [
      "Choose rock, paper, or scissors (or type 'quit' to exit): rock\n",
      "You chose: rock\n",
      "Computer chose: paper\n",
      "Computer wins!\n",
      "Do you want to play again? (yes/no): yes\n",
      "Choose rock, paper, or scissors (or type 'quit' to exit): scissors\n",
      "You chose: scissors\n",
      "Computer chose: rock\n",
      "Computer wins!\n",
      "Do you want to play again? (yes/no): yes\n",
      "Choose rock, paper, or scissors (or type 'quit' to exit): paper\n",
      "You chose: paper\n",
      "Computer chose: scissors\n",
      "Computer wins!\n",
      "Do you want to play again? (yes/no): no\n",
      "Thanks for playing!\n"
     ]
    }
   ],
   "source": [
    "import random\n",
    "\n",
    "def play_rock_paper_scissors():\n",
    "    options = [\"rock\", \"paper\", \"scissors\"]\n",
    "    while True:\n",
    "        user_choice = input(\"Choose rock, paper, or scissors (or type 'quit' to exit): \").lower()\n",
    "        if user_choice == \"quit\":\n",
    "            break\n",
    "\n",
    "        if user_choice not in options:\n",
    "            print(\"Invalid choice. Please choose rock, paper, or scissors.\")\n",
    "            continue\n",
    "\n",
    "        computer_choice = random.choice(options)\n",
    "        print(\"You chose:\", user_choice)\n",
    "        print(\"Computer chose:\", computer_choice)\n",
    "\n",
    "        if user_choice == computer_choice:\n",
    "            print(\"It's a tie!\")\n",
    "        elif (user_choice == \"rock\" and computer_choice == \"scissors\") or \\\n",
    "             (user_choice == \"paper\" and computer_choice == \"rock\") or \\\n",
    "             (user_choice == \"scissors\" and computer_choice == \"paper\"):\n",
    "            print(\"You win!\")\n",
    "        else:\n",
    "            print(\"Computer wins!\")\n",
    "\n",
    "        play_again = input(\"Do you want to play again? (yes/no): \").lower()\n",
    "        if play_again != \"yes\":\n",
    "            break\n",
    "\n",
    "    print(\"Thanks for playing!\")\n",
    "\n",
    "if __name__ == \"__main__\":\n",
    "    play_rock_paper_scissors()\n"
   ]
  },
  {
   "cell_type": "markdown",
   "id": "8e511ec5",
   "metadata": {},
   "source": [
    "23. Develop a program that generates a random password based on user preferences (length, complexity)."
   ]
  },
  {
   "cell_type": "code",
   "execution_count": 43,
   "id": "c61c0367",
   "metadata": {},
   "outputs": [
    {
     "name": "stdout",
     "output_type": "stream",
     "text": [
      "Generated Password: *t'aHYl=sY|3\n"
     ]
    }
   ],
   "source": [
    "import random\n",
    "import string\n",
    "\n",
    "def generate_password(length=8, uppercase=True, lowercase=True, digits=True, special_chars=False):\n",
    "    characters = ''\n",
    "    if uppercase:\n",
    "        characters += string.ascii_uppercase\n",
    "    if lowercase:\n",
    "        characters += string.ascii_lowercase\n",
    "    if digits:\n",
    "        characters += string.digits\n",
    "    if special_chars:\n",
    "        characters += string.punctuation\n",
    "\n",
    "    if not characters:\n",
    "        return \"Please select at least one character type for the password.\"\n",
    "\n",
    "    password = ''.join(random.choice(characters) for _ in range(length))\n",
    "    return password,characters\n",
    "\n",
    "# Example usage:\n",
    "password,characters = generate_password(length=12, uppercase=True, lowercase=True, digits=True, special_chars=True)\n",
    "print(f\"Generated Password: {password}\")\n"
   ]
  },
  {
   "cell_type": "markdown",
   "id": "9b942087",
   "metadata": {},
   "source": [
    "24. Create a program that implements a simple text-based adventure game with branching scenarios."
   ]
  },
  {
   "cell_type": "code",
   "execution_count": 2,
   "id": "634108d7",
   "metadata": {},
   "outputs": [
    {
     "name": "stdout",
     "output_type": "stream",
     "text": [
      "You awake in a dark forest, the trees towering ominously above you.\n",
      "A path leads to the north and a path leads to the south.\n",
      "Which path do you choose? (north/south): north\n",
      "You walk along the northern path, the forest growing denser around you.\n",
      "You hear a rustling in the bushes ahead.\n",
      "Do you investigate the rustling or turn back? (investigate/turn back): turn back\n",
      "You decide to turn back and head south instead.\n",
      "You follow the southern path, which leads to a clearing.\n",
      "A strange, glowing object rests in the center of the clearing.\n",
      "Do you approach the object or stay back? (approach/stay back): stay back\n",
      "You decide to stay back and observe from a distance.\n",
      "The object eventually fades away, leaving you alone in the clearing.\n"
     ]
    }
   ],
   "source": [
    "def start_game():\n",
    "    print(\"You awake in a dark forest, the trees towering ominously above you.\")\n",
    "    print(\"A path leads to the north and a path leads to the south.\")\n",
    "\n",
    "    choice = input(\"Which path do you choose? (north/south): \").lower()\n",
    "\n",
    "    if choice == \"north\":\n",
    "        northern_path()\n",
    "    elif choice == \"south\":\n",
    "        southern_path()\n",
    "    else:\n",
    "        print(\"Invalid choice. Please choose north or south.\")\n",
    "        start_game()\n",
    "\n",
    "def northern_path():\n",
    "    print(\"You walk along the northern path, the forest growing denser around you.\")\n",
    "    print(\"You hear a rustling in the bushes ahead.\")\n",
    "\n",
    "    choice = input(\"Do you investigate the rustling or turn back? (investigate/turn back): \").lower()\n",
    "\n",
    "    if choice == \"investigate\":\n",
    "        print(\"You cautiously approach the bushes and discover a hidden treasure chest!\")\n",
    "        print(\"Congratulations, you have found the treasure!\")\n",
    "    elif choice == \"turn back\":\n",
    "        print(\"You decide to turn back and head south instead.\")\n",
    "        southern_path()\n",
    "    else:\n",
    "        print(\"Invalid choice. Please choose investigate or turn back.\")\n",
    "        northern_path()\n",
    "\n",
    "def southern_path():\n",
    "    print(\"You follow the southern path, which leads to a clearing.\")\n",
    "    print(\"A strange, glowing object rests in the center of the clearing.\")\n",
    "\n",
    "    choice = input(\"Do you approach the object or stay back? (approach/stay back): \").lower()\n",
    "\n",
    "    if choice == \"approach\":\n",
    "        print(\"As you near the object, it begins to pulsate with energy.\")\n",
    "        print(\"Suddenly, you are transported to another world!\")\n",
    "    elif choice == \"stay back\":\n",
    "        print(\"You decide to stay back and observe from a distance.\")\n",
    "        print(\"The object eventually fades away, leaving you alone in the clearing.\")\n",
    "    else:\n",
    "        print(\"Invalid choice. Please choose approach or stay back.\")\n",
    "        southern_path()\n",
    "\n",
    "if __name__ == \"__main__\":\n",
    "    start_game()\n"
   ]
  },
  {
   "cell_type": "markdown",
   "id": "8fe177fb",
   "metadata": {},
   "source": [
    "25. Build a program that solves a linear equation  for x, considering different cases."
   ]
  },
  {
   "cell_type": "code",
   "execution_count": 4,
   "id": "5ae3504d",
   "metadata": {},
   "outputs": [
    {
     "name": "stdout",
     "output_type": "stream",
     "text": [
      "The solution is x = 2.0\n"
     ]
    }
   ],
   "source": [
    "def solve_linear_equation(a, b):\n",
    "    if a == 0 and b != 0:\n",
    "        return \"No solution (Inconsistent equation)\"\n",
    "    elif a == 0 and b == 0:\n",
    "        return \"Infinite solutions (Identity equation)\"\n",
    "    else:\n",
    "        x = -b / a\n",
    "        return f\"The solution is x = {x}\"\n",
    "\n",
    "# Example: solving 3x - 6 = 0\n",
    "solution = solve_linear_equation(3, -6)\n",
    "print(solution)"
   ]
  },
  {
   "cell_type": "markdown",
   "id": "9fa18f61",
   "metadata": {},
   "source": [
    "26. Write a program that simulates a basic quiz game with multiple-choice questions and scoring."
   ]
  },
  {
   "cell_type": "code",
   "execution_count": 3,
   "id": "721147b7",
   "metadata": {},
   "outputs": [
    {
     "name": "stdout",
     "output_type": "stream",
     "text": [
      "What is the capital of France?\n",
      "1. Rome\n",
      "2. London\n",
      "3. Paris\n",
      "4. Berlin\n",
      "Enter your answer (1, 2, 3, or 4): 3\n",
      "Correct!\n",
      "What is the highest mountain in the world?\n",
      "1. Lhotse\n",
      "2. Kangchenjunga\n",
      "3. Mount Everest\n",
      "4. K2\n",
      "Enter your answer (1, 2, 3, or 4): 3\n",
      "Correct!\n",
      "What is the largest ocean in the world?\n",
      "1. Pacific Ocean\n",
      "2. Indian Ocean\n",
      "3. Atlantic Ocean\n",
      "4. Arctic Ocean\n",
      "Enter your answer (1, 2, 3, or 4): 1\n",
      "Correct!\n",
      "Your final score is 3 out of 3\n"
     ]
    }
   ],
   "source": [
    "import random\n",
    "\n",
    "def play_quiz():\n",
    "    questions = [\n",
    "        {\"question\": \"What is the capital of France?\",\n",
    "         \"answers\": [\"London\", \"Paris\", \"Berlin\", \"Rome\"],\n",
    "         \"correct_answer\": \"Paris\"},\n",
    "        {\"question\": \"What is the highest mountain in the world?\",\n",
    "         \"answers\": [\"Mount Everest\", \"K2\", \"Kangchenjunga\", \"Lhotse\"],\n",
    "         \"correct_answer\": \"Mount Everest\"},\n",
    "        {\"question\": \"What is the largest ocean in the world?\",\n",
    "         \"answers\": [\"Pacific Ocean\", \"Atlantic Ocean\", \"Indian Ocean\", \"Arctic Ocean\"],\n",
    "         \"correct_answer\": \"Pacific Ocean\"}\n",
    "    ]\n",
    "\n",
    "    score = 0\n",
    "    for question in questions:\n",
    "        print(question[\"question\"])\n",
    "        random.shuffle(question[\"answers\"])  # Shuffle the answers for each question\n",
    "        for i, answer in enumerate(question[\"answers\"]):\n",
    "            print(f\"{i + 1}. {answer}\")\n",
    "\n",
    "        user_answer = input(\"Enter your answer (1, 2, 3, or 4): \")\n",
    "        if user_answer == str(question[\"answers\"].index(question[\"correct_answer\"]) + 1):\n",
    "            print(\"Correct!\")\n",
    "            score += 1\n",
    "        else:\n",
    "            print(\"Incorrect. The correct answer is\", question[\"correct_answer\"])\n",
    "\n",
    "    print(\"Your final score is\", score, \"out of\", len(questions))\n",
    "\n",
    "if __name__ == \"__main__\":\n",
    "    play_quiz()\n"
   ]
  },
  {
   "cell_type": "markdown",
   "id": "fb0a962f",
   "metadata": {},
   "source": [
    "27. Develop a program that determines whether a given year is a prime number or not."
   ]
  },
  {
   "cell_type": "code",
   "execution_count": 3,
   "id": "8b1c7d5d",
   "metadata": {},
   "outputs": [],
   "source": [
    "def prime_year(inp_year):\n",
    "    if inp_year%2!=0:\n",
    "        print(f'The year {inp_year} is a prime year')\n",
    "    else:\n",
    "        print(f'The year {inp_year} is not a prime year')"
   ]
  },
  {
   "cell_type": "code",
   "execution_count": 5,
   "id": "187b6b91",
   "metadata": {},
   "outputs": [
    {
     "name": "stdout",
     "output_type": "stream",
     "text": [
      "The year 2020 is not a prime year\n",
      "The year 2023 is a prime year\n",
      "The year 2024 is not a prime year\n"
     ]
    }
   ],
   "source": [
    "prime_year(2020)\n",
    "prime_year(2023)\n",
    "prime_year(2024)"
   ]
  },
  {
   "cell_type": "markdown",
   "id": "c3e99a75",
   "metadata": {},
   "source": [
    "28. Create a program that sorts three numbers in ascending order using conditional statements."
   ]
  },
  {
   "cell_type": "code",
   "execution_count": 10,
   "id": "ab853e9f",
   "metadata": {},
   "outputs": [
    {
     "name": "stdout",
     "output_type": "stream",
     "text": [
      "Enter the first number: 250\n",
      "Enter the second number: 10\n",
      "Enter the third number: 2\n",
      "Sorted numbers in ascending order: [2.0, 10.0, 250.0]\n"
     ]
    }
   ],
   "source": [
    "# Get three numbers from the user\n",
    "num1 = float(input(\"Enter the first number: \"))\n",
    "num2 = float(input(\"Enter the second number: \"))\n",
    "num3 = float(input(\"Enter the third number: \"))\n",
    "\n",
    "# Sort the numbers in ascending order using conditional statements\n",
    "if num1 <= num2 <= num3:\n",
    "    sorted_nums = [num1, num2, num3]\n",
    "elif num1 <= num3 <= num2:\n",
    "    sorted_nums = [num1, num3, num2]\n",
    "elif num2 <= num1 <= num3:\n",
    "    sorted_nums = [num2, num1, num3]\n",
    "elif num2 <= num3 <= num1:\n",
    "    sorted_nums = [num2, num3, num1]\n",
    "elif num3 <= num1 <= num2:\n",
    "    sorted_nums = [num3, num1, num2]\n",
    "else:\n",
    "    sorted_nums = [num3, num2, num1]\n",
    "\n",
    "# Display the sorted numbers\n",
    "print(\"Sorted numbers in ascending order:\", sorted_nums)\n"
   ]
  },
  {
   "cell_type": "markdown",
   "id": "2bc36d70",
   "metadata": {},
   "source": [
    "29. Build a program that determines the roots of a quartic equation using numerical methods."
   ]
  },
  {
   "cell_type": "code",
   "execution_count": 5,
   "id": "79e0bb80",
   "metadata": {},
   "outputs": [
    {
     "name": "stdout",
     "output_type": "stream",
     "text": [
      "Roots: [0.26794919243110926, -1.0, 0.2679491924311227, 0.2679491924311227]\n"
     ]
    }
   ],
   "source": [
    "import numpy as np\n",
    "\n",
    "def find_quartic_roots(coefficients):\n",
    "    \"\"\"Finds the roots of a quartic equation using the Newton-Raphson method.\n",
    "\n",
    "    Args:\n",
    "        coefficients: A list of the coefficients of the quartic equation, in order from highest to lowest power.\n",
    "\n",
    "    Returns:\n",
    "        A list of the roots of the quartic equation.\n",
    "    \"\"\"\n",
    "\n",
    "    def f(x):\n",
    "        return coefficients[0] * x**4 + coefficients[1] * x**3 + coefficients[2] * x**2 + coefficients[3] * x + coefficients[4]\n",
    "\n",
    "    def f_prime(x):\n",
    "        return 4 * coefficients[0] * x**3 + 3 * coefficients[1] * x**2 + 2 * coefficients[2] * x + coefficients[3]\n",
    "\n",
    "    roots = []\n",
    "    for i in range(4):  # Find up to 4 roots\n",
    "        x0 = np.random.rand()  # Random initial guess\n",
    "        for _ in range(100):  # Iterate up to 100 times\n",
    "            x1 = x0 - f(x0) / f_prime(x0)\n",
    "            if abs(x1 - x0) < 1e-6:  # Convergence check\n",
    "                roots.append(x1)\n",
    "                break\n",
    "            x0 = x1\n",
    "\n",
    "    return roots\n",
    "\n",
    "# Example usage:\n",
    "coefficients = [1, -5, 3, 7, -2]  # Example quartic equation\n",
    "roots = find_quartic_roots(coefficients)\n",
    "print(\"Roots:\", roots)\n"
   ]
  },
  {
   "cell_type": "markdown",
   "id": "f133d8af",
   "metadata": {},
   "source": [
    "30.Write a program that calculates the BMI (Body Mass Index) and provides health recommendations based \n",
    "on the user's input."
   ]
  },
  {
   "cell_type": "code",
   "execution_count": 19,
   "id": "31e53914",
   "metadata": {},
   "outputs": [],
   "source": [
    "def bmi_calculator(weight,height):\n",
    "    bmi=(weight/(height**2))\n",
    "    if bmi<18.5:\n",
    "        print(f\"Your weight {weight}kgs comes in 'underweight' category, work on improving your weight\")\n",
    "    elif bmi>=18.5 and bmi<24.9:\n",
    "        print(f\"Your weight {weight}kgs comes under 'normal weight'. No need to change, maintain this weight\")\n",
    "    elif bmi>=25 and bmi<29.9:\n",
    "        print(f\"Your weight {weight}kgs comes in 'Overweight' category. Work on reducing the weight\")\n",
    "    elif bmi>=30:\n",
    "        print(f\" You are in danger zone as your weight {weight}kgs is in 'Obese' category.\")"
   ]
  },
  {
   "cell_type": "code",
   "execution_count": 20,
   "id": "92e9d9d3",
   "metadata": {},
   "outputs": [
    {
     "name": "stdout",
     "output_type": "stream",
     "text": [
      "Your weight 90kgs comes in 'Overweight' category. Work on reducing the weight\n",
      "Your weight 75kgs comes under 'normal weight'. No need to change, maintain this weight\n",
      "Your weight 50kgs comes in 'underweight' category, work on improving your weight\n"
     ]
    }
   ],
   "source": [
    "bmi_calculator(90,1.76)\n",
    "bmi_calculator(75,1.76)\n",
    "bmi_calculator(50,1.76)"
   ]
  },
  {
   "cell_type": "markdown",
   "id": "02abf9f5",
   "metadata": {},
   "source": [
    "## Challenge Level:"
   ]
  },
  {
   "cell_type": "markdown",
   "id": "81f22982",
   "metadata": {},
   "source": [
    "31. Create a program that validates a password based on complexity rules (length, characters, etc.).\n",
    " "
   ]
  },
  {
   "cell_type": "code",
   "execution_count": 76,
   "id": "3ed8a0ba",
   "metadata": {},
   "outputs": [],
   "source": [
    "def password_validation(inp_password):\n",
    "    \"\"\"Rules to check \n",
    "    1. The password should have a minimum length of 8 and maximum length of 15 \n",
    "    2. The password should contain atleast one character which is upper case\n",
    "    3. The passowrd should have atleast one special character(allowed characters are #,_,@,&,%)\n",
    "    4. The password should have atleast one numeric character\n",
    "    \"\"\"\n",
    "    if len(inp_password)>=8 or len(inp_password)<=15:\n",
    "        char_check=[chars for chars in inp_password if chars.isupper()]\n",
    "        spl_chars_check=[chars for chars in inp_password if chars not in '#_@&%$']\n",
    "#         print(spl_chars_check)\n",
    "        numeric_check=[chars for chars in inp_password if chars.isdigit()]\n",
    "        if len(char_check)>=1 and len(spl_chars_check)>=1 and len(numeric_check)>=1:\n",
    "            print(f'The {inp_password} passes all the rules of complexity and fit to be used')\n",
    "        else:\n",
    "            print(f\"\"\"The {inp_password} does not satisfy the following conditions.\\n\n",
    "                1. It does not have any alphabets\\n\n",
    "                2. It does not contain special characters '#_@&%' or contains someother special characters which are not acceptable\\n\n",
    "                3. It does not contain a digit/number between(0-9)\"\"\")\n",
    "    else:\n",
    "        print(f'Set the length of the password between 8 and 15 and then try again')"
   ]
  },
  {
   "cell_type": "code",
   "execution_count": 77,
   "id": "81528d65",
   "metadata": {},
   "outputs": [
    {
     "name": "stdout",
     "output_type": "stream",
     "text": [
      "The Saru_jn$98 passes all the rules of complexity and fit to be used\n",
      "The Saru_jn does not satisfy the following conditions.\n",
      "\n",
      "                1. It does not have any alphabets\n",
      "\n",
      "                2. It does not contain special characters '#_@&%' or contains someother special characters which are not acceptable\n",
      "\n",
      "                3. It does not contain a digit/number between(0-9)\n",
      "The Saru_jn(98) passes all the rules of complexity and fit to be used\n"
     ]
    }
   ],
   "source": [
    "password_validation('Saru_jn$98')\n",
    "password_validation('Saru_jn')\n",
    "password_validation('Saru_jn(98)')"
   ]
  },
  {
   "cell_type": "markdown",
   "id": "76c4655c",
   "metadata": {},
   "source": [
    "32. Develop a program that performs matrix addition and subtraction based on user input."
   ]
  },
  {
   "cell_type": "code",
   "execution_count": 84,
   "id": "cab7096d",
   "metadata": {},
   "outputs": [],
   "source": [
    "import numpy as np\n",
    "\n",
    "matrix_1=np.array([[1,2,3],\n",
    "           [4,5,6]])\n",
    "matrix_2=np.array([[7,8,9],\n",
    "          [10,11,12]])\n",
    "\n",
    "def matrix_operation(inp_mat_1,inp_mat2,operation):\n",
    "    if inp_mat_1.shape==inp_mat2.shape:\n",
    "        if operation=='addition':\n",
    "            matrix_add=matrix_1+matrix_2\n",
    "            return matrix_add\n",
    "        elif operation=='subtraction':\n",
    "            matrix_sub=matrix_1-matrix_2\n",
    "            return matrix_sub\n",
    "        else:\n",
    "            return 'Provide a proper operation (i.e) addition/subtraction'\n",
    "    else:\n",
    "        return 'The shape of both the matrix is not same to proceed with the matrix operations.'"
   ]
  },
  {
   "cell_type": "code",
   "execution_count": 90,
   "id": "e4ed9773",
   "metadata": {},
   "outputs": [],
   "source": [
    "matrix_add_result=matrix_operation(matrix_1,matrix_2,'addition')\n",
    "matrix_sub_result=matrix_operation(matrix_1,matrix_2,'subtraction')"
   ]
  },
  {
   "cell_type": "code",
   "execution_count": 91,
   "id": "a32423f9",
   "metadata": {
    "scrolled": true
   },
   "outputs": [
    {
     "name": "stdout",
     "output_type": "stream",
     "text": [
      "Result of matrix addition :  [[ 8 10 12]\n",
      " [14 16 18]]\n",
      "Result of matrix subtraction :  [[-6 -6 -6]\n",
      " [-6 -6 -6]]\n"
     ]
    }
   ],
   "source": [
    "print('Result of matrix addition : ', matrix_add_result)\n",
    "print('Result of matrix subtraction : ', matrix_sub_result)"
   ]
  },
  {
   "cell_type": "code",
   "execution_count": 108,
   "id": "80cde854",
   "metadata": {},
   "outputs": [],
   "source": [
    "def matrix_operation_list(mat_1,mat_2,operation):\n",
    "    if operation == 'addition':\n",
    "        result_add=[[0 for _ in range(len(mat_1[0]))] for _ in range(len(mat_1))]\n",
    "        for item1 in range(len(mat_1)):\n",
    "            for item2 in range(len(mat_1[0])):\n",
    "                result_add[item1][item2]=mat_1[item1][item2]+mat_2[item1][item2]\n",
    "        return result_add    \n",
    "    elif operation=='subtraction':\n",
    "        result_sub=[[0 for _ in range(len(mat_1[0]))] for _ in range(len(mat_1))]\n",
    "        for item1 in range(len(mat_1)):\n",
    "            for item2 in range(len(mat_1[0])):\n",
    "                result_sub[item1][item2]=mat_1[item1][item2]-mat_2[item1][item2]\n",
    "        return result_sub\n",
    "    else:\n",
    "        return 'Provide either addition/subtraction as operation'"
   ]
  },
  {
   "cell_type": "code",
   "execution_count": 109,
   "id": "863ff9ab",
   "metadata": {},
   "outputs": [
    {
     "data": {
      "text/plain": [
       "[[8, 10, 12], [14, 16, 18]]"
      ]
     },
     "execution_count": 109,
     "metadata": {},
     "output_type": "execute_result"
    }
   ],
   "source": [
    "matrix_operation_list(mat_1,mat_2,'addition')"
   ]
  },
  {
   "cell_type": "code",
   "execution_count": 110,
   "id": "f6687218",
   "metadata": {},
   "outputs": [
    {
     "data": {
      "text/plain": [
       "[[-6, -6, -6], [-6, -6, -6]]"
      ]
     },
     "execution_count": 110,
     "metadata": {},
     "output_type": "execute_result"
    }
   ],
   "source": [
    "matrix_operation_list(mat_1,mat_2,'subtraction')"
   ]
  },
  {
   "cell_type": "markdown",
   "id": "81fde06f",
   "metadata": {},
   "source": [
    "33. Write a program that calculates the greatest common divisor (GCD) of two numbers using the Euclidean \n",
    "algorithm."
   ]
  },
  {
   "cell_type": "code",
   "execution_count": 14,
   "id": "2d3a06f0",
   "metadata": {},
   "outputs": [
    {
     "name": "stdout",
     "output_type": "stream",
     "text": [
      "The greatest common divisor of 120 and 90 is: 30\n"
     ]
    }
   ],
   "source": [
    "def gcd(a, b):\n",
    "    \"\"\"\n",
    "    Calculates the greatest common divisor (GCD) of two numbers using the Euclidean algorithm.\n",
    "\n",
    "    Args:\n",
    "        a: The first number.\n",
    "        b: The second number.\n",
    "\n",
    "    Returns:\n",
    "        The GCD of a and b.\n",
    "    \"\"\"\n",
    "\n",
    "    while b != 0:\n",
    "        a, b = b, a % b  # Swap a and b, and update b to the remainder\n",
    "    return a\n",
    "\n",
    "# Example usage\n",
    "num1 = 120\n",
    "num2 = 90\n",
    "gcd_value = gcd(num1, num2)\n",
    "print(f\"The greatest common divisor of {num1} and {num2} is: {gcd_value}\")\n"
   ]
  },
  {
   "cell_type": "markdown",
   "id": "47405b68",
   "metadata": {},
   "source": [
    "34. Build a program that performs matrix multiplication using nested loops and conditional statements."
   ]
  },
  {
   "cell_type": "code",
   "execution_count": 15,
   "id": "e3c46bef",
   "metadata": {},
   "outputs": [
    {
     "name": "stdout",
     "output_type": "stream",
     "text": [
      "Product matrix:\n",
      "[58, 64]\n",
      "[139, 154]\n"
     ]
    }
   ],
   "source": [
    "def matrix_multiplication(matrix_a, matrix_b):\n",
    "  \"\"\"\n",
    "  Performs matrix multiplication of two matrices using nested loops and conditional statements.\n",
    "\n",
    "  Args:\n",
    "    matrix_a: The first matrix as a 2D list.\n",
    "    matrix_b: The second matrix as a 2D list.\n",
    "\n",
    "  Returns:\n",
    "    The resulting product matrix as a 2D list, or None if dimensions are incompatible.\n",
    "  \"\"\"\n",
    "\n",
    "  # Check for compatible dimensions\n",
    "  if len(matrix_a[0]) != len(matrix_b):\n",
    "    print(\"Incompatible dimensions for matrix multiplication.\")\n",
    "    return None\n",
    "\n",
    "  # Initialize the product matrix with zeros\n",
    "  product_matrix = [[0 for _ in range(len(matrix_b[0]))] for _ in range(len(matrix_a))]\n",
    "\n",
    "  # Perform matrix multiplication using nested loops\n",
    "  for i in range(len(matrix_a)):\n",
    "    for j in range(len(matrix_b[0])):\n",
    "      for k in range(len(matrix_b)):\n",
    "        product_matrix[i][j] += matrix_a[i][k] * matrix_b[k][j]\n",
    "\n",
    "  return product_matrix\n",
    "\n",
    "# Example usage\n",
    "matrix_1 = [[1, 2, 3], [4, 5, 6]]\n",
    "matrix_2 = [[7, 8], [9, 10], [11, 12]]\n",
    "result = matrix_multiplication(matrix_1, matrix_2)\n",
    "\n",
    "if result is not None:\n",
    "  print(\"Product matrix:\")\n",
    "  for row in result:\n",
    "    print(row)\n"
   ]
  },
  {
   "cell_type": "markdown",
   "id": "c68bbe44",
   "metadata": {},
   "source": [
    "35. Create a program that simulates a basic text-based tic-tac-toe game against the computer."
   ]
  },
  {
   "cell_type": "code",
   "execution_count": 17,
   "id": "dc14dd75",
   "metadata": {},
   "outputs": [
    {
     "name": "stdout",
     "output_type": "stream",
     "text": [
      " | | \n",
      "-+-+-\n",
      " | | \n",
      "-+-+-\n",
      " | | \n",
      "Enter your move (1-9): 3\n",
      " | |X\n",
      "-+-+-\n",
      " | | \n",
      "-+-+-\n",
      " | | \n",
      " | |X\n",
      "-+-+-\n",
      " | | \n",
      "-+-+-\n",
      " |O| \n",
      "Enter your move (1-9): 5\n",
      " | |X\n",
      "-+-+-\n",
      " |X| \n",
      "-+-+-\n",
      " |O| \n",
      " | |X\n",
      "-+-+-\n",
      " |X| \n",
      "-+-+-\n",
      "O|O| \n",
      "Enter your move (1-9): 9\n",
      " | |X\n",
      "-+-+-\n",
      " |X| \n",
      "-+-+-\n",
      "O|O|X\n",
      "O| |X\n",
      "-+-+-\n",
      " |X| \n",
      "-+-+-\n",
      "O|O|X\n",
      "Enter your move (1-9): 6\n",
      "O| |X\n",
      "-+-+-\n",
      " |X|X\n",
      "-+-+-\n",
      "O|O|X\n",
      "X wins!\n"
     ]
    }
   ],
   "source": [
    "import random\n",
    "\n",
    "def draw_board(board):\n",
    "    \"\"\"Prints the tic-tac-toe board.\"\"\"\n",
    "    print(board[1] + \"|\" + board[2] + \"|\" + board[3])\n",
    "    print(\"-+-+-\")\n",
    "    print(board[4] + \"|\" + board[5] + \"|\" + board[6])\n",
    "    print(\"-+-+-\")\n",
    "    print(board[7] + \"|\" + board[8] + \"|\" + board[9])\n",
    "\n",
    "def player_move(board):\n",
    "    \"\"\"Gets the player's move.\"\"\"\n",
    "    move = input(\"Enter your move (1-9): \")\n",
    "    while move not in \"1 2 3 4 5 6 7 8 9\".split() or not is_space_free(board, int(move)):\n",
    "        print(\"Invalid move. Try again.\")\n",
    "        move = input(\"Enter your move (1-9): \")\n",
    "    return int(move)\n",
    "\n",
    "def computer_move(board):\n",
    "    \"\"\"Generates the computer's move.\"\"\"\n",
    "    # Check for winning move\n",
    "    for i in range(1, 10):\n",
    "        if is_space_free(board, i):\n",
    "            board[i] = \"O\"\n",
    "            if is_winner(board, \"O\"):\n",
    "                return i\n",
    "            board[i] = \" \"  # Reset board\n",
    "\n",
    "    # Check for blocking move\n",
    "    for i in range(1, 10):\n",
    "        if is_space_free(board, i):\n",
    "            board[i] = \"X\"\n",
    "            if is_winner(board, \"X\"):\n",
    "                board[i] = \"O\"\n",
    "                return i\n",
    "            board[i] = \" \"  # Reset board\n",
    "\n",
    "    # Choose a random move from remaining spaces\n",
    "    available_moves = [x for x, letter in enumerate(board) if letter == \" \" and x != 0]\n",
    "    return random.choice(available_moves)\n",
    "\n",
    "def is_space_free(board, move):\n",
    "    \"\"\"Checks if a space on the board is free.\"\"\"\n",
    "    return board[move] == \" \"\n",
    "\n",
    "def is_winner(board, letter):\n",
    "    \"\"\"Checks if there's a winner on the board.\"\"\"\n",
    "    return (\n",
    "        (board[7] == letter and board[8] == letter and board[9] == letter)\n",
    "        or (board[4] == letter and board[5] == letter and board[6] == letter)\n",
    "        or (board[1] == letter and board[2] == letter and board[3] == letter)\n",
    "        or (board[7] == letter and board[4] == letter and board[1] == letter)\n",
    "        or (board[8] == letter and board[5] == letter and board[2] == letter)\n",
    "        or (board[9] == letter and board[6] == letter and board[3] == letter)\n",
    "        or (board[7] == letter and board[5] == letter and board[3] == letter)\n",
    "        or (board[9] == letter and board[5] == letter and board[1] == letter)\n",
    "    )\n",
    "\n",
    "def play_game():\n",
    "    \"\"\"Plays a game of tic-tac-toe.\"\"\"\n",
    "    board = [\" \"] * 10\n",
    "    current_player = \"X\"\n",
    "\n",
    "    while True:\n",
    "        draw_board(board)\n",
    "        if current_player == \"X\":\n",
    "            move = player_move(board)\n",
    "        else:\n",
    "            move = computer_move(board)\n",
    "        board[move] = current_player\n",
    "\n",
    "        if is_winner(board, current_player):\n",
    "            draw_board(board)\n",
    "            print(current_player + \" wins!\")\n",
    "            break\n",
    "        elif \" \" not in board:\n",
    "            draw_board(board)\n",
    "            print(\"It's a tie!\")\n",
    "            break\n",
    "\n",
    "        current_player = \"O\" if current_player == \"X\" else \"X\"  # Switch players\n",
    "\n",
    "if __name__ == \"__main__\":\n",
    "    play_game()\n"
   ]
  },
  {
   "cell_type": "markdown",
   "id": "f73b6df6",
   "metadata": {},
   "source": [
    "36. Write a program that generates Fibonacci numbers up to a specified term using iterative methods."
   ]
  },
  {
   "cell_type": "code",
   "execution_count": 9,
   "id": "ae8557dd",
   "metadata": {},
   "outputs": [
    {
     "name": "stdout",
     "output_type": "stream",
     "text": [
      "[0, 1, 1, 2, 3, 5, 8, 13, 21, 34]\n"
     ]
    }
   ],
   "source": [
    "def generate_fibonacci(n):\n",
    "    fibonacci_sequence = [0, 1]\n",
    "    for i in range(2, n):\n",
    "        next_number = fibonacci_sequence[-1] + fibonacci_sequence[-2]\n",
    "        fibonacci_sequence.append(next_number)\n",
    "    return fibonacci_sequence[:n]\n",
    "\n",
    "# Generate Fibonacci sequence of 10 numbers\n",
    "result = generate_fibonacci(10)\n",
    "print(result) "
   ]
  },
  {
   "cell_type": "markdown",
   "id": "6d368bfc",
   "metadata": {},
   "source": [
    "37. Develop a program that calculates the nth term of the Fibonacci sequence using memoization."
   ]
  },
  {
   "cell_type": "code",
   "execution_count": 10,
   "id": "4d867096",
   "metadata": {},
   "outputs": [
    {
     "name": "stdout",
     "output_type": "stream",
     "text": [
      "The 10th term of the Fibonacci sequence is: 55\n"
     ]
    }
   ],
   "source": [
    "def fibonacci_memo(n):\n",
    "    \"\"\"\n",
    "    Calculates the nth term of the Fibonacci sequence using memoization.\n",
    "\n",
    "    Args:\n",
    "        n: The index of the desired term (starting from 1).\n",
    "\n",
    "    Returns:\n",
    "        The nth term of the Fibonacci sequence.\n",
    "    \"\"\"\n",
    "\n",
    "    memo = {1: 1, 2: 1}  # Base cases\n",
    "\n",
    "    for i in range(3, n + 1):\n",
    "        memo[i] = memo[i - 1] + memo[i - 2]  # Recurrence relation\n",
    "\n",
    "    return memo[n]\n",
    "\n",
    "# Example usage\n",
    "n = 10\n",
    "fib_n = fibonacci_memo(n)\n",
    "print(f\"The {n}th term of the Fibonacci sequence is: {fib_n}\")\n"
   ]
  },
  {
   "cell_type": "markdown",
   "id": "542fceac",
   "metadata": {},
   "source": [
    "38. Create a program that generates a calendar for a given month and year using conditional statements."
   ]
  },
  {
   "cell_type": "code",
   "execution_count": 11,
   "id": "214e4334",
   "metadata": {},
   "outputs": [
    {
     "name": "stdout",
     "output_type": "stream",
     "text": [
      "\n",
      "\n",
      "\t\t\tOctober 2023\n",
      "\tMon\tTue\tWed\tThu\tFri\tSat\tSun\n",
      "\t\t  \t  \t  \t  \t  \t   1\t\n",
      "\t 2\t 3\t 4\t 5\t 6\t 7\t 8\t\n",
      "\t 9\t10\t11\t12\t13\t14\t15\t\n",
      "\t16\t17\t18\t19\t20\t21\t22\t\n",
      "\t23\t24\t25\t26\t27\t28\t29\t\n",
      "\t30\t31\t\t  \t  \t  \t  \t  \n",
      "\n"
     ]
    }
   ],
   "source": [
    "def generate_calendar(month, year):\n",
    "    \"\"\"\n",
    "    Generates a text-based calendar for a given month and year.\n",
    "\n",
    "    Args:\n",
    "        month: An integer representing the month (1-12).\n",
    "        year: An integer representing the year.\n",
    "\n",
    "    Returns:\n",
    "        A string containing the formatted calendar.\n",
    "    \"\"\"\n",
    "\n",
    "    # Days in each month\n",
    "    days_in_month = [31, 28, 31, 30, 31, 30, 31, 31, 30, 31, 30, 31]\n",
    "\n",
    "    # Check for leap year\n",
    "    if year % 4 == 0 and year % 100 != 0 or year % 400 == 0:\n",
    "        days_in_month[1] = 29\n",
    "\n",
    "    # Calculate the first day of the month (Monday = 0, Sunday = 6)\n",
    "    first_day = (1 + (13 * (month + 9) // 5 + year - year // 4 - year // 100 + year // 400) % 7)\n",
    "\n",
    "    # Generate calendar header\n",
    "    calendar = f\"\\n\\n\\t\\t\\t{month_names[month - 1]} {year}\\n\"\n",
    "    calendar += \"\\tMon\\tTue\\tWed\\tThu\\tFri\\tSat\\tSun\\n\"\n",
    "\n",
    "    # Generate calendar weeks\n",
    "    for week in range(0, 6):\n",
    "        calendar += \"\\t\"\n",
    "        for day in range(7):\n",
    "            current_day = week * 7 + day + 1 - first_day\n",
    "            if current_day <= 0 or current_day > days_in_month[month - 1]:\n",
    "                calendar += \"\\t  \"\n",
    "            else:\n",
    "                calendar += f\"{current_day:2d}\\t\"\n",
    "        calendar += \"\\n\"\n",
    "\n",
    "    return calendar\n",
    "\n",
    "# Month names\n",
    "month_names = [\"January\", \"February\", \"March\", \"April\", \"May\", \"June\", \"July\", \"August\", \"September\", \"October\", \"November\", \"December\"]\n",
    "\n",
    "# Example usage\n",
    "month = 10  # October\n",
    "year = 2023\n",
    "\n",
    "calendar = generate_calendar(month, year)\n",
    "print(calendar)\n"
   ]
  },
  {
   "cell_type": "markdown",
   "id": "2762b348",
   "metadata": {},
   "source": [
    "39.  Build a program that simulates a basic text-based blackjack game against the computer."
   ]
  },
  {
   "cell_type": "code",
   "execution_count": 12,
   "id": "7bf6c88f",
   "metadata": {},
   "outputs": [
    {
     "name": "stdout",
     "output_type": "stream",
     "text": [
      "Welcome to Blackjack!\n",
      "\n",
      "Your cards: [11, 9], score: 20\n",
      "Dealer's first card: 6\n",
      "Hit or stand? (h/s): h\n",
      "Your cards: [9, 6, 1], score: 16\n",
      "Dealer's first card: 6\n",
      "Hit or stand? (h/s): s\n",
      "\n",
      "Dealer's cards: [6, 2, 9], score: 17\n",
      "Dealer wins!\n"
     ]
    }
   ],
   "source": [
    "import random\n",
    "\n",
    "def deal_card():\n",
    "    \"\"\"Deals a random card from the deck.\"\"\"\n",
    "    cards = [11, 2, 3, 4, 5, 6, 7, 8, 9, 10, 10, 10, 10]\n",
    "    card = random.choice(cards)\n",
    "    return card\n",
    "\n",
    "def calculate_score(cards):\n",
    "    \"\"\"Calculates the score of a hand, treating aces as 1 or 11.\"\"\"\n",
    "    score = sum(cards)\n",
    "    if 11 in cards and score > 21:\n",
    "        cards.remove(11)\n",
    "        cards.append(1)\n",
    "        score = sum(cards)\n",
    "    return score\n",
    "\n",
    "def play_blackjack():\n",
    "    \"\"\"Plays a round of blackjack.\"\"\"\n",
    "    print(\"Welcome to Blackjack!\\n\")\n",
    "\n",
    "    player_cards = []\n",
    "    dealer_cards = []\n",
    "\n",
    "    # Deal initial cards\n",
    "    for _ in range(2):\n",
    "        player_cards.append(deal_card())\n",
    "        dealer_cards.append(deal_card())\n",
    "\n",
    "    # Player's turn\n",
    "    player_score = calculate_score(player_cards)\n",
    "    while True:\n",
    "        print(f\"Your cards: {player_cards}, score: {player_score}\")\n",
    "        print(f\"Dealer's first card: {dealer_cards[0]}\")\n",
    "        if player_score == 21:\n",
    "            print(\"Blackjack! You win!\")\n",
    "            break\n",
    "        if input(\"Hit or stand? (h/s): \").lower() == \"s\":\n",
    "            break\n",
    "        player_cards.append(deal_card())\n",
    "        player_score = calculate_score(player_cards)\n",
    "        if player_score > 21:\n",
    "            print(\"Bust! You lose.\")\n",
    "            break\n",
    "\n",
    "    # Dealer's turn\n",
    "    if player_score <= 21:\n",
    "        dealer_score = calculate_score(dealer_cards)\n",
    "        while dealer_score < 17:\n",
    "            dealer_cards.append(deal_card())\n",
    "            dealer_score = calculate_score(dealer_cards)\n",
    "\n",
    "        print(f\"\\nDealer's cards: {dealer_cards}, score: {dealer_score}\")\n",
    "        if dealer_score > 21:\n",
    "            print(\"Dealer busts! You win!\")\n",
    "        elif dealer_score > player_score:\n",
    "            print(\"Dealer wins!\")\n",
    "        elif dealer_score < player_score:\n",
    "            print(\"You win!\")\n",
    "        else:\n",
    "            print(\"Push!\")\n",
    "\n",
    "if __name__ == \"__main__\":\n",
    "    play_blackjack()\n"
   ]
  },
  {
   "cell_type": "code",
   "execution_count": null,
   "id": "0c91cb65",
   "metadata": {},
   "outputs": [],
   "source": [
    "40. Write a program that generates the prime factors of a given number using trial division."
   ]
  },
  {
   "cell_type": "code",
   "execution_count": 13,
   "id": "a9ade9a2",
   "metadata": {},
   "outputs": [
    {
     "name": "stdout",
     "output_type": "stream",
     "text": [
      "Prime factors of 120: [2, 2, 2, 3, 5]\n"
     ]
    }
   ],
   "source": [
    "def prime_factors(n):\n",
    "  \"\"\"\n",
    "  Generates the prime factors of a given number using trial division.\n",
    "\n",
    "  Args:\n",
    "    n: The number to factorize.\n",
    "\n",
    "  Returns:\n",
    "    A list containing the prime factors of the number.\n",
    "  \"\"\"\n",
    "\n",
    "  factors = []\n",
    "  # Start with the smallest prime factor (2)\n",
    "  divisor = 2\n",
    "  while n > 1:\n",
    "    # Check if the divisor is a factor of n\n",
    "    if n % divisor == 0:\n",
    "      factors.append(divisor)\n",
    "      n //= divisor  # Divide n by the factor\n",
    "    else:\n",
    "      # Move to the next potential prime factor\n",
    "      divisor += 1\n",
    "\n",
    "  return factors\n",
    "\n",
    "# Example usage\n",
    "number = 120\n",
    "prime_factors = prime_factors(number)\n",
    "print(f\"Prime factors of {number}: {prime_factors}\")\n"
   ]
  },
  {
   "cell_type": "code",
   "execution_count": null,
   "id": "1e44eb8c",
   "metadata": {},
   "outputs": [],
   "source": []
  }
 ],
 "metadata": {
  "kernelspec": {
   "display_name": "Python 3 (ipykernel)",
   "language": "python",
   "name": "python3"
  },
  "language_info": {
   "codemirror_mode": {
    "name": "ipython",
    "version": 3
   },
   "file_extension": ".py",
   "mimetype": "text/x-python",
   "name": "python",
   "nbconvert_exporter": "python",
   "pygments_lexer": "ipython3",
   "version": "3.10.9"
  }
 },
 "nbformat": 4,
 "nbformat_minor": 5
}
